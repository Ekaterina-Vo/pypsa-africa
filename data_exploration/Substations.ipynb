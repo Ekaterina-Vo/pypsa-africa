{
 "cells": [
  {
   "cell_type": "code",
   "execution_count": 6,
   "metadata": {},
   "outputs": [],
   "source": [
    "#Requires to have geopandas installed\n",
    "#Installation https://geopandas.org/getting_started/install.html\n",
    "\n",
    "import matplotlib.pyplot as plt \n",
    "import geopandas as gpd\n",
    "import geoplot\n",
    "import pandas as pd\n",
    "import fiona #;help(fiona.open)\n",
    "import requests\n",
    "from pandas import json_normalize\n",
    "import requests # convert json into dataframe\n",
    "#For OSM \n",
    "import pyrosm\n",
    "from pyrosm import OSM, get_data"
   ]
  },
  {
   "cell_type": "code",
   "execution_count": 2,
   "metadata": {},
   "outputs": [],
   "source": [
    "pd.set_option('display.max_rows', 100)\n",
    "pd.set_option('display.max_columns', 100)"
   ]
  },
  {
   "cell_type": "markdown",
   "metadata": {},
   "source": [
    "#  Adding MENA to Africa"
   ]
  },
  {
   "cell_type": "code",
   "execution_count": 3,
   "metadata": {},
   "outputs": [],
   "source": [
    "world = gpd.read_file(gpd.datasets.get_path('naturalearth_lowres'))\n",
    "#world"
   ]
  },
  {
   "cell_type": "code",
   "execution_count": 4,
   "metadata": {},
   "outputs": [],
   "source": [
    "saudi = world.query('name == \"Saudi Arabia\"')\n",
    "yemen = world.query('name == \"Yemen\"')\n",
    "iraq = world.query('name == \"Iraq\"')\n",
    "oman = world.query('name == \"Oman\"')\n",
    "uae = world.query('name == \"United Arab Emirates\"')\n",
    "jordan = world.query('name == \"Jordan\"')\n",
    "palestine = world.query('name == \"Palestine\"')\n",
    "israel = world.query('name == \"Israel\"')\n",
    "qatar = world.query('name == \"Qatar\"')\n",
    "kuwait = world.query('name == \"Kuwait\"')\n",
    "\n",
    "mena = saudi.append(yemen).append(iraq).append(oman).append(uae).append(jordan).append(palestine).append(israel).append(qatar).append(kuwait)"
   ]
  },
  {
   "cell_type": "code",
   "execution_count": 5,
   "metadata": {},
   "outputs": [],
   "source": [
    "africa = world.query('continent == \"Africa\"').append(mena)\n",
    "#africa.head()"
   ]
  },
  {
   "cell_type": "code",
   "execution_count": 6,
   "metadata": {},
   "outputs": [],
   "source": [
    "### Example plot https://geopandas.org/gallery/plotting_with_geoplot.html?highlight=africa\n",
    "\n",
    "# #gdp_per_cap = world.gdp_md_est / world.pop_est\n",
    "# ax = geoplot.cartogram(\n",
    "#     africa, scale='pop_est', limits=(0.2, 1),\n",
    "#     edgecolor='None', figsize=(7, 8)\n",
    "# )\n",
    "# geoplot.polyplot(africa, edgecolor='gray', ax=ax)"
   ]
  },
  {
   "cell_type": "code",
   "execution_count": 7,
   "metadata": {},
   "outputs": [],
   "source": [
    "#ax = africa.plot(color=\"white\", edgecolors=\"red\",figsize=(10, 10))"
   ]
  },
  {
   "cell_type": "markdown",
   "metadata": {},
   "source": [
    "# 3) Substations - Onsset - OSM"
   ]
  },
  {
   "cell_type": "markdown",
   "metadata": {},
   "source": [
    "Install PYROSM to handle OSM data: https://pyrosm.readthedocs.io/en/latest/installation.html\n",
    "\n",
    "data source http://download.geofabrik.de/  \n",
    "\n",
    "data description: https://gep-onsset.readthedocs.io/en/latest/GIS%20data%20collection.html"
   ]
  },
  {
   "cell_type": "markdown",
   "metadata": {},
   "source": [
    "### OSM content check"
   ]
  },
  {
   "cell_type": "code",
   "execution_count": 8,
   "metadata": {},
   "outputs": [
    {
     "output_type": "stream",
     "name": "stdout",
     "text": [
      "Downloaded Protobuf data 'Helsinki.osm.pbf' (29.27 MB) to:\n'/tmp/pyrosm/Helsinki.osm.pbf'\n['network_filters', 'tags', 'oneway_values']\n"
     ]
    }
   ],
   "source": [
    "from pyrosm import OSM, get_data\n",
    "\n",
    "# Initialize the OSM reader with test data\n",
    "fp = get_data(\"Helsinki\")\n",
    "osm = OSM(fp)\n",
    "\n",
    "# The instance has a configuration attribute containing:\n",
    "print([item for item in osm.conf.__dict__.keys() if not item.startswith(\"_\")])\n"
   ]
  },
  {
   "cell_type": "code",
   "execution_count": 9,
   "metadata": {},
   "outputs": [],
   "source": [
    "# Show all available tag attributes\n",
    "#osm.conf.tags.available\n"
   ]
  },
  {
   "cell_type": "code",
   "execution_count": 10,
   "metadata": {},
   "outputs": [
    {
     "output_type": "execute_result",
     "data": {
      "text/plain": [
       "['cable',\n",
       " 'catenary_mast',\n",
       " 'compensator',\n",
       " 'converter',\n",
       " 'generator',\n",
       " 'heliostat',\n",
       " 'insulator',\n",
       " 'line',\n",
       " 'busbar',\n",
       " 'bay',\n",
       " 'minor_line',\n",
       " 'plant',\n",
       " 'pole',\n",
       " 'portal',\n",
       " 'power',\n",
       " 'substation',\n",
       " 'switch',\n",
       " 'switchgear',\n",
       " 'terminal',\n",
       " 'tower',\n",
       " 'transformer']"
      ]
     },
     "metadata": {},
     "execution_count": 10
    }
   ],
   "source": [
    "# Show all tags that are converted into columns from building features\n",
    "osm.conf.tags.power"
   ]
  },
  {
   "cell_type": "markdown",
   "metadata": {},
   "source": [
    "## Create OSM substation dataframe"
   ]
  },
  {
   "cell_type": "markdown",
   "metadata": {},
   "source": [
    "Pyrosm has an existing issue handling geofabric data. Thats why \"get_data(\"africa\")\" is not working. \n",
    "\n",
    "A way around this problem is to download the data from http://download.geofabrik.de/africa-latest.osm.bz2 locally & set the path right\n",
    "\n",
    "://github.com/HTenkanen/pyrosm/issues/109"
   ]
  },
  {
   "cell_type": "code",
   "execution_count": 11,
   "metadata": {},
   "outputs": [
    {
     "output_type": "execute_result",
     "data": {
      "text/plain": [
       "'/home/max/OneDrive/PHD-Flexibility/07_pypsa-africa/0github/pypsa-africa/data_exploration'"
      ]
     },
     "metadata": {},
     "execution_count": 11
    }
   ],
   "source": [
    "pwd"
   ]
  },
  {
   "cell_type": "code",
   "execution_count": 12,
   "metadata": {},
   "outputs": [
    {
     "output_type": "stream",
     "name": "stdout",
     "text": [
      "/home/max\n"
     ]
    }
   ],
   "source": [
    "cd"
   ]
  },
  {
   "cell_type": "code",
   "execution_count": 13,
   "metadata": {},
   "outputs": [
    {
     "output_type": "stream",
     "name": "stdout",
     "text": [
      "/home/max/OneDrive/PHD-Flexibility/07_pypsa-africa/Data\n"
     ]
    }
   ],
   "source": [
    "cd \"OneDrive/PHD-Flexibility/07_pypsa-africa/Data\""
   ]
  },
  {
   "cell_type": "code",
   "execution_count": 14,
   "metadata": {},
   "outputs": [],
   "source": [
    "africa_data = \"africa-latest.osm.pbf\""
   ]
  },
  {
   "cell_type": "code",
   "execution_count": 15,
   "metadata": {},
   "outputs": [],
   "source": [
    "#Possible input to extract data from PYROSM. I.e. get_data(\"angola\") gets the \"angola-latest.osm.pbf\" filled with all OSM data\n",
    "regions =     [\"algeria\",\n",
    "               \"angola\",\n",
    "               \"benin\",\n",
    "               \"botswana\",\n",
    "               \"burkina_faso\",\n",
    "               \"burundi\",\n",
    "               \"cameroon\",\n",
    "               \"canary_islands\",\n",
    "               \"cape_verde\",\n",
    "               \"central_african_republic\",\n",
    "               \"chad\",\n",
    "               \"comores\",\n",
    "               \"congo_brazzaville\",\n",
    "               \"congo_democratic_republic\",\n",
    "               \"djibouti\",\n",
    "               \"egypt\",\n",
    "               \"equatorial_guinea\",\n",
    "               \"eritrea\",\n",
    "               \"ethiopia\",\n",
    "               \"gabon\",\n",
    "               \"ghana\",\n",
    "               \"guinea_bissau\",\n",
    "               \"guinea\",\n",
    "               \"ivory_coast\",\n",
    "               \"kenya\",\n",
    "               \"lesotho\",\n",
    "               \"liberia\",\n",
    "               \"libya\",\n",
    "               \"madagascar\",\n",
    "               \"malawi\",\n",
    "               \"mali\",\n",
    "               \"mauritania\",\n",
    "               \"mauritius\",\n",
    "               \"morocco\",\n",
    "               \"mozambique\",\n",
    "               \"namibia\",\n",
    "               \"niger\",\n",
    "               \"nigeria\",\n",
    "               \"rwanda\",\n",
    "               \"saint_helena_ascension_and_tristan_da_cunha\",\n",
    "               \"sao_tome_and_principe\",\n",
    "               \"senegal_and_gambia\",\n",
    "               \"seychelles\",\n",
    "               \"sierra_leone\",\n",
    "               \"somalia\",\n",
    "               \"south_africa_and_lesotho\",\n",
    "               \"south_africa\",\n",
    "               \"south_sudan\",\n",
    "               \"sudan\",\n",
    "               \"swaziland\",\n",
    "               \"tanzania\",\n",
    "               \"togo\",\n",
    "               \"tunisia\",\n",
    "               \"uganda\",\n",
    "               \"zambia\",\n",
    "               \"zimbabwe\"]"
   ]
  },
  {
   "cell_type": "code",
   "execution_count": 2,
   "metadata": {},
   "outputs": [
    {
     "output_type": "error",
     "ename": "NameError",
     "evalue": "name 'get_data' is not defined",
     "traceback": [
      "\u001b[0;31m---------------------------------------------------------------------------\u001b[0m",
      "\u001b[0;31mNameError\u001b[0m                                 Traceback (most recent call last)",
      "\u001b[0;32m<ipython-input-2-51af3d5a870c>\u001b[0m in \u001b[0;36m<module>\u001b[0;34m\u001b[0m\n\u001b[0;32m----> 1\u001b[0;31m \u001b[0mfp\u001b[0m \u001b[0;34m=\u001b[0m \u001b[0mget_data\u001b[0m\u001b[0;34m(\u001b[0m\u001b[0;34m\"lesotho\"\u001b[0m\u001b[0;34m)\u001b[0m\u001b[0;34m\u001b[0m\u001b[0;34m\u001b[0m\u001b[0m\n\u001b[0m",
      "\u001b[0;31mNameError\u001b[0m: name 'get_data' is not defined"
     ]
    }
   ],
   "source": [
    "fp = get_data(\"lesotho\")"
   ]
  },
  {
   "cell_type": "code",
   "execution_count": 3,
   "metadata": {},
   "outputs": [],
   "source": [
    "fp = '/home/matin/pypsa-africa/Africa-node.osm.pbf'"
   ]
  },
  {
   "cell_type": "code",
   "execution_count": 40,
   "metadata": {},
   "outputs": [],
   "source": [
    "osm = pyrosm.OSM(fp)"
   ]
  },
  {
   "cell_type": "code",
   "execution_count": 41,
   "metadata": {},
   "outputs": [],
   "source": [
    "my_filter = {'power': [\"substation\"]}"
   ]
  },
  {
   "cell_type": "code",
   "execution_count": 1,
   "metadata": {},
   "outputs": [
    {
     "output_type": "error",
     "ename": "NameError",
     "evalue": "name 'osm' is not defined",
     "traceback": [
      "\u001b[0;31m---------------------------------------------------------------------------\u001b[0m",
      "\u001b[0;31mNameError\u001b[0m                                 Traceback (most recent call last)",
      "\u001b[0;32m<ipython-input-1-46d344f938f3>\u001b[0m in \u001b[0;36m<module>\u001b[0;34m\u001b[0m\n\u001b[0;32m----> 1\u001b[0;31m \u001b[0mlesotho\u001b[0m \u001b[0;34m=\u001b[0m \u001b[0mosm\u001b[0m\u001b[0;34m.\u001b[0m\u001b[0mget_pois\u001b[0m\u001b[0;34m(\u001b[0m\u001b[0mcustom_filter\u001b[0m\u001b[0;34m=\u001b[0m\u001b[0mmy_filter\u001b[0m\u001b[0;34m)\u001b[0m\u001b[0;34m\u001b[0m\u001b[0;34m\u001b[0m\u001b[0m\n\u001b[0m",
      "\u001b[0;31mNameError\u001b[0m: name 'osm' is not defined"
     ]
    }
   ],
   "source": [
    "lesotho = osm.get_pois(custom_filter=my_filter)"
   ]
  },
  {
   "cell_type": "code",
   "execution_count": null,
   "metadata": {},
   "outputs": [],
   "source": [
    "lesotho.head(5)"
   ]
  },
  {
   "cell_type": "code",
   "execution_count": null,
   "metadata": {},
   "outputs": [],
   "source": [
    "#Shows geometry reference\n",
    "lesotho['geometry'].crs"
   ]
  },
  {
   "cell_type": "code",
   "execution_count": null,
   "metadata": {},
   "outputs": [],
   "source": [
    "#Converting Polygons to \"centroids\" = Points. \n",
    "\n",
    "#We used \"epsg=3035\" to make the long/lat numbers larger.\n",
    "#This was necessary to make the centroid operations more accurate. Only required for small polygons.\n",
    "#Afterward we reconvert it to the standard epsg=4326\n",
    "\n",
    "lesotho['geometry'] = lesotho['geometry'].to_crs(epsg=3035)\n",
    "lesotho['geometry'] = lesotho['geometry'].centroid\n",
    "lesotho['geometry'] = lesotho['geometry'].to_crs(epsg=4326)"
   ]
  },
  {
   "cell_type": "code",
   "execution_count": null,
   "metadata": {},
   "outputs": [],
   "source": [
    "# Plot\n",
    "ax = lesotho.plot(column='power', marker='o', markersize=10, figsize=(6,6), legend=True, legend_kwds=dict(loc='upper left', ncol=5, bbox_to_anchor=(1, 1)))"
   ]
  },
  {
   "cell_type": "code",
   "execution_count": null,
   "metadata": {},
   "outputs": [],
   "source": [
    "#Worked! Lesotho is downn i\n",
    "ax = lesotho.plot(column='power', marker='o', markersize=10, figsize=(6,6), legend=True, legend_kwds=dict(loc='upper left', ncol=5, bbox_to_anchor=(1, 1)))\n",
    "geoplot.polyplot(africa, edgecolor='gray', ax=ax)"
   ]
  },
  {
   "source": [
    "# Overpass "
   ],
   "cell_type": "markdown",
   "metadata": {}
  },
  {
   "cell_type": "code",
   "execution_count": 8,
   "metadata": {},
   "outputs": [],
   "source": [
    "url = 'https://lz4.overpass-api.de/api/interpreter'  # Overpass API URL\n"
   ]
  },
  {
   "cell_type": "code",
   "execution_count": 4,
   "metadata": {},
   "outputs": [],
   "source": [
    "# Bounding Boxes\n",
    "# Nigeria (approx) (0.61,-4.21,21.75,15.79)\n",
    "query = f\"\"\"\n",
    "[out:json];\n",
    "// gather results\n",
    "(\n",
    "  // query part for: “power=substation”\n",
    "  ( area[\"ISO3166-1\"=\"IT\"];) ->.a;\n",
    "  node[\"power\"=\"substation\"](area.a);\n",
    "  way[\"power\"=\"substation\"](area.a);\n",
    "  relation[\"power\"=\"substation\"](area.a);\n",
    ");\n",
    "// print results\n",
    "out body;\n",
    "\"\"\""
   ]
  },
  {
   "cell_type": "code",
   "execution_count": 9,
   "metadata": {},
   "outputs": [],
   "source": [
    "r = requests.get(url, params={'data': query})\n",
    "data = r.json()['elements'] # read response as JSON and get the data\n",
    "df = pd.json_normalize(data)  # create a DataFrame from the data"
   ]
  },
  {
   "cell_type": "code",
   "execution_count": 10,
   "metadata": {},
   "outputs": [
    {
     "output_type": "stream",
     "name": "stdout",
     "text": [
      "(31665, 399)\n"
     ]
    }
   ],
   "source": [
    "print(df.shape)"
   ]
  },
  {
   "cell_type": "code",
   "execution_count": 11,
   "metadata": {},
   "outputs": [
    {
     "output_type": "display_data",
     "data": {
      "text/plain": "           type          id        lat        lon  tags.power  \\\n0          node   315982776  45.704380   9.343410  substation   \n1          node   353116863  45.547929   9.184324  substation   \n2          node   354536567  43.360798  13.697688  substation   \n3          node   358152934  43.413075  13.647388  substation   \n4          node   364121580  45.599718   9.878701  substation   \n...         ...         ...        ...        ...         ...   \n31660  relation    11977599        NaN        NaN  substation   \n31661  relation    12046318        NaN        NaN  substation   \n31662  relation    12126279        NaN        NaN  substation   \n31663  relation    12423214        NaN        NaN  substation   \n31664      area  3600365331        NaN        NaN         NaN   \n\n                tags.operator     tags.substation tags.building tags.ref  \\\n0                         NaN                 NaN           NaN      NaN   \n1                        Enel  minor_distribution           NaN      NaN   \n2       Enel Distrbuzione SPA                 NaN           NaN      NaN   \n3      Enel Distribuzione SPA                 NaN           NaN      NaN   \n4                         NaN                 NaN           NaN      NaN   \n...                       ...                 ...           ...      ...   \n31660                     NaN                 NaN       service      NaN   \n31661      Acea Distribuzione        distribution           NaN      NaN   \n31662                     NaN                 NaN           NaN      NaN   \n31663                   Terna          transition           NaN      NaN   \n31664                     NaN                 NaN           NaN      NaN   \n\n      tags.man_made  ... tags.name:zu tags.official_name:cs  \\\n0               NaN  ...          NaN                   NaN   \n1               NaN  ...          NaN                   NaN   \n2               NaN  ...          NaN                   NaN   \n3               NaN  ...          NaN                   NaN   \n4               NaN  ...          NaN                   NaN   \n...             ...  ...          ...                   ...   \n31660           NaN  ...          NaN                   NaN   \n31661           NaN  ...          NaN                   NaN   \n31662           NaN  ...          NaN                   NaN   \n31663           NaN  ...          NaN                   NaN   \n31664           NaN  ...      ITaliya     Italská republika   \n\n      tags.official_name:de tags.official_name:el tags.official_name:eo  \\\n0                       NaN                   NaN                   NaN   \n1                       NaN                   NaN                   NaN   \n2                       NaN                   NaN                   NaN   \n3                       NaN                   NaN                   NaN   \n4                       NaN                   NaN                   NaN   \n...                     ...                   ...                   ...   \n31660                   NaN                   NaN                   NaN   \n31661                   NaN                   NaN                   NaN   \n31662                   NaN                   NaN                   NaN   \n31663                   NaN                   NaN                   NaN   \n31664      Republik Italien    Ιταλική Δημοκρατία      Itala Respubliko   \n\n      tags.old_name:vi tags.population tags.population:date  \\\n0                  NaN             NaN                  NaN   \n1                  NaN             NaN                  NaN   \n2                  NaN             NaN                  NaN   \n3                  NaN             NaN                  NaN   \n4                  NaN             NaN                  NaN   \n...                ...             ...                  ...   \n31660              NaN             NaN                  NaN   \n31661              NaN             NaN                  NaN   \n31662              NaN             NaN                  NaN   \n31663              NaN             NaN                  NaN   \n31664        Ý Đại Lợi        60317000           2020-01-01   \n\n      tags.source:name:oc tags.timezone  \n0                     NaN           NaN  \n1                     NaN           NaN  \n2                     NaN           NaN  \n3                     NaN           NaN  \n4                     NaN           NaN  \n...                   ...           ...  \n31660                 NaN           NaN  \n31661                 NaN           NaN  \n31662                 NaN           NaN  \n31663                 NaN           NaN  \n31664         ieo-bdtopoc   Europe/Rome  \n\n[31665 rows x 399 columns]",
      "text/html": "<div>\n<style scoped>\n    .dataframe tbody tr th:only-of-type {\n        vertical-align: middle;\n    }\n\n    .dataframe tbody tr th {\n        vertical-align: top;\n    }\n\n    .dataframe thead th {\n        text-align: right;\n    }\n</style>\n<table border=\"1\" class=\"dataframe\">\n  <thead>\n    <tr style=\"text-align: right;\">\n      <th></th>\n      <th>type</th>\n      <th>id</th>\n      <th>lat</th>\n      <th>lon</th>\n      <th>tags.power</th>\n      <th>tags.operator</th>\n      <th>tags.substation</th>\n      <th>tags.building</th>\n      <th>tags.ref</th>\n      <th>tags.man_made</th>\n      <th>...</th>\n      <th>tags.name:zu</th>\n      <th>tags.official_name:cs</th>\n      <th>tags.official_name:de</th>\n      <th>tags.official_name:el</th>\n      <th>tags.official_name:eo</th>\n      <th>tags.old_name:vi</th>\n      <th>tags.population</th>\n      <th>tags.population:date</th>\n      <th>tags.source:name:oc</th>\n      <th>tags.timezone</th>\n    </tr>\n  </thead>\n  <tbody>\n    <tr>\n      <th>0</th>\n      <td>node</td>\n      <td>315982776</td>\n      <td>45.704380</td>\n      <td>9.343410</td>\n      <td>substation</td>\n      <td>NaN</td>\n      <td>NaN</td>\n      <td>NaN</td>\n      <td>NaN</td>\n      <td>NaN</td>\n      <td>...</td>\n      <td>NaN</td>\n      <td>NaN</td>\n      <td>NaN</td>\n      <td>NaN</td>\n      <td>NaN</td>\n      <td>NaN</td>\n      <td>NaN</td>\n      <td>NaN</td>\n      <td>NaN</td>\n      <td>NaN</td>\n    </tr>\n    <tr>\n      <th>1</th>\n      <td>node</td>\n      <td>353116863</td>\n      <td>45.547929</td>\n      <td>9.184324</td>\n      <td>substation</td>\n      <td>Enel</td>\n      <td>minor_distribution</td>\n      <td>NaN</td>\n      <td>NaN</td>\n      <td>NaN</td>\n      <td>...</td>\n      <td>NaN</td>\n      <td>NaN</td>\n      <td>NaN</td>\n      <td>NaN</td>\n      <td>NaN</td>\n      <td>NaN</td>\n      <td>NaN</td>\n      <td>NaN</td>\n      <td>NaN</td>\n      <td>NaN</td>\n    </tr>\n    <tr>\n      <th>2</th>\n      <td>node</td>\n      <td>354536567</td>\n      <td>43.360798</td>\n      <td>13.697688</td>\n      <td>substation</td>\n      <td>Enel Distrbuzione SPA</td>\n      <td>NaN</td>\n      <td>NaN</td>\n      <td>NaN</td>\n      <td>NaN</td>\n      <td>...</td>\n      <td>NaN</td>\n      <td>NaN</td>\n      <td>NaN</td>\n      <td>NaN</td>\n      <td>NaN</td>\n      <td>NaN</td>\n      <td>NaN</td>\n      <td>NaN</td>\n      <td>NaN</td>\n      <td>NaN</td>\n    </tr>\n    <tr>\n      <th>3</th>\n      <td>node</td>\n      <td>358152934</td>\n      <td>43.413075</td>\n      <td>13.647388</td>\n      <td>substation</td>\n      <td>Enel Distribuzione SPA</td>\n      <td>NaN</td>\n      <td>NaN</td>\n      <td>NaN</td>\n      <td>NaN</td>\n      <td>...</td>\n      <td>NaN</td>\n      <td>NaN</td>\n      <td>NaN</td>\n      <td>NaN</td>\n      <td>NaN</td>\n      <td>NaN</td>\n      <td>NaN</td>\n      <td>NaN</td>\n      <td>NaN</td>\n      <td>NaN</td>\n    </tr>\n    <tr>\n      <th>4</th>\n      <td>node</td>\n      <td>364121580</td>\n      <td>45.599718</td>\n      <td>9.878701</td>\n      <td>substation</td>\n      <td>NaN</td>\n      <td>NaN</td>\n      <td>NaN</td>\n      <td>NaN</td>\n      <td>NaN</td>\n      <td>...</td>\n      <td>NaN</td>\n      <td>NaN</td>\n      <td>NaN</td>\n      <td>NaN</td>\n      <td>NaN</td>\n      <td>NaN</td>\n      <td>NaN</td>\n      <td>NaN</td>\n      <td>NaN</td>\n      <td>NaN</td>\n    </tr>\n    <tr>\n      <th>...</th>\n      <td>...</td>\n      <td>...</td>\n      <td>...</td>\n      <td>...</td>\n      <td>...</td>\n      <td>...</td>\n      <td>...</td>\n      <td>...</td>\n      <td>...</td>\n      <td>...</td>\n      <td>...</td>\n      <td>...</td>\n      <td>...</td>\n      <td>...</td>\n      <td>...</td>\n      <td>...</td>\n      <td>...</td>\n      <td>...</td>\n      <td>...</td>\n      <td>...</td>\n      <td>...</td>\n    </tr>\n    <tr>\n      <th>31660</th>\n      <td>relation</td>\n      <td>11977599</td>\n      <td>NaN</td>\n      <td>NaN</td>\n      <td>substation</td>\n      <td>NaN</td>\n      <td>NaN</td>\n      <td>service</td>\n      <td>NaN</td>\n      <td>NaN</td>\n      <td>...</td>\n      <td>NaN</td>\n      <td>NaN</td>\n      <td>NaN</td>\n      <td>NaN</td>\n      <td>NaN</td>\n      <td>NaN</td>\n      <td>NaN</td>\n      <td>NaN</td>\n      <td>NaN</td>\n      <td>NaN</td>\n    </tr>\n    <tr>\n      <th>31661</th>\n      <td>relation</td>\n      <td>12046318</td>\n      <td>NaN</td>\n      <td>NaN</td>\n      <td>substation</td>\n      <td>Acea Distribuzione</td>\n      <td>distribution</td>\n      <td>NaN</td>\n      <td>NaN</td>\n      <td>NaN</td>\n      <td>...</td>\n      <td>NaN</td>\n      <td>NaN</td>\n      <td>NaN</td>\n      <td>NaN</td>\n      <td>NaN</td>\n      <td>NaN</td>\n      <td>NaN</td>\n      <td>NaN</td>\n      <td>NaN</td>\n      <td>NaN</td>\n    </tr>\n    <tr>\n      <th>31662</th>\n      <td>relation</td>\n      <td>12126279</td>\n      <td>NaN</td>\n      <td>NaN</td>\n      <td>substation</td>\n      <td>NaN</td>\n      <td>NaN</td>\n      <td>NaN</td>\n      <td>NaN</td>\n      <td>NaN</td>\n      <td>...</td>\n      <td>NaN</td>\n      <td>NaN</td>\n      <td>NaN</td>\n      <td>NaN</td>\n      <td>NaN</td>\n      <td>NaN</td>\n      <td>NaN</td>\n      <td>NaN</td>\n      <td>NaN</td>\n      <td>NaN</td>\n    </tr>\n    <tr>\n      <th>31663</th>\n      <td>relation</td>\n      <td>12423214</td>\n      <td>NaN</td>\n      <td>NaN</td>\n      <td>substation</td>\n      <td>Terna</td>\n      <td>transition</td>\n      <td>NaN</td>\n      <td>NaN</td>\n      <td>NaN</td>\n      <td>...</td>\n      <td>NaN</td>\n      <td>NaN</td>\n      <td>NaN</td>\n      <td>NaN</td>\n      <td>NaN</td>\n      <td>NaN</td>\n      <td>NaN</td>\n      <td>NaN</td>\n      <td>NaN</td>\n      <td>NaN</td>\n    </tr>\n    <tr>\n      <th>31664</th>\n      <td>area</td>\n      <td>3600365331</td>\n      <td>NaN</td>\n      <td>NaN</td>\n      <td>NaN</td>\n      <td>NaN</td>\n      <td>NaN</td>\n      <td>NaN</td>\n      <td>NaN</td>\n      <td>NaN</td>\n      <td>...</td>\n      <td>ITaliya</td>\n      <td>Italská republika</td>\n      <td>Republik Italien</td>\n      <td>Ιταλική Δημοκρατία</td>\n      <td>Itala Respubliko</td>\n      <td>Ý Đại Lợi</td>\n      <td>60317000</td>\n      <td>2020-01-01</td>\n      <td>ieo-bdtopoc</td>\n      <td>Europe/Rome</td>\n    </tr>\n  </tbody>\n</table>\n<p>31665 rows × 399 columns</p>\n</div>"
     },
     "metadata": {}
    }
   ],
   "source": [
    "# Pretty Print dataframe (vscode)\n",
    "display(df)"
   ]
  },
  {
   "cell_type": "code",
   "execution_count": null,
   "metadata": {},
   "outputs": [],
   "source": []
  }
 ],
 "metadata": {
  "kernelspec": {
   "name": "python3710jvsc74a57bd0d9c13fc6442bf1b8f9598850facaf8fef6fb0663206d3863adab308b8c559389",
   "display_name": "Python 3.7.10 64-bit ('pypsa-africa': conda)"
  },
  "language_info": {
   "codemirror_mode": {
    "name": "ipython",
    "version": 3
   },
   "file_extension": ".py",
   "mimetype": "text/x-python",
   "name": "python",
   "nbconvert_exporter": "python",
   "pygments_lexer": "ipython3",
   "version": "3.7.10-final"
  }
 },
 "nbformat": 4,
 "nbformat_minor": 4
}