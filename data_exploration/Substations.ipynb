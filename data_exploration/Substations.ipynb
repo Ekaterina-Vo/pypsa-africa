{
 "cells": [
  {
   "cell_type": "code",
   "execution_count": 1,
   "metadata": {},
   "outputs": [],
   "source": [
    "#Requires to have geopandas installed\n",
    "#Installation https://geopandas.org/getting_started/install.html\n",
    "\n",
    "import matplotlib.pyplot as plt \n",
    "import geopandas as gpd\n",
    "import geoplot\n",
    "import pandas as pd\n",
    "import fiona #;help(fiona.open)\n",
    "import requests\n",
    "from pandas.io.json import json_normalize # convert json into dataframe\n",
    "#For OSM \n",
    "import pyrosm\n",
    "from pyrosm import OSM, get_data"
   ]
  },
  {
   "cell_type": "code",
   "execution_count": null,
   "metadata": {},
   "outputs": [],
   "source": []
  },
  {
   "cell_type": "code",
   "execution_count": 6,
   "metadata": {},
   "outputs": [],
   "source": [
    "pd.set_option('display.max_rows', 100)\n",
    "pd.set_option('display.max_columns', 100)"
   ]
  },
  {
   "cell_type": "markdown",
   "metadata": {},
   "source": [
    "#  Adding MENA to Africa"
   ]
  },
  {
   "cell_type": "code",
   "execution_count": 7,
   "metadata": {},
   "outputs": [],
   "source": [
    "world = gpd.read_file(gpd.datasets.get_path('naturalearth_lowres'))\n",
    "#world"
   ]
  },
  {
   "cell_type": "code",
   "execution_count": 8,
   "metadata": {},
   "outputs": [],
   "source": [
    "saudi = world.query('name == \"Saudi Arabia\"')\n",
    "yemen = world.query('name == \"Yemen\"')\n",
    "iraq = world.query('name == \"Iraq\"')\n",
    "oman = world.query('name == \"Oman\"')\n",
    "uae = world.query('name == \"United Arab Emirates\"')\n",
    "jordan = world.query('name == \"Jordan\"')\n",
    "palestine = world.query('name == \"Palestine\"')\n",
    "israel = world.query('name == \"Israel\"')\n",
    "qatar = world.query('name == \"Qatar\"')\n",
    "kuwait = world.query('name == \"Kuwait\"')\n",
    "\n",
    "mena = saudi.append(yemen).append(iraq).append(oman).append(uae).append(jordan).append(palestine).append(israel).append(qatar).append(kuwait)"
   ]
  },
  {
   "cell_type": "code",
   "execution_count": 9,
   "metadata": {},
   "outputs": [],
   "source": [
    "africa = world.query('continent == \"Africa\"').append(mena)\n",
    "#africa.head()"
   ]
  },
  {
   "cell_type": "code",
   "execution_count": 10,
   "metadata": {},
   "outputs": [],
   "source": [
    "### Example plot https://geopandas.org/gallery/plotting_with_geoplot.html?highlight=africa\n",
    "\n",
    "# #gdp_per_cap = world.gdp_md_est / world.pop_est\n",
    "# ax = geoplot.cartogram(\n",
    "#     africa, scale='pop_est', limits=(0.2, 1),\n",
    "#     edgecolor='None', figsize=(7, 8)\n",
    "# )\n",
    "# geoplot.polyplot(africa, edgecolor='gray', ax=ax)"
   ]
  },
  {
   "cell_type": "code",
   "execution_count": 11,
   "metadata": {},
   "outputs": [],
   "source": [
    "#ax = africa.plot(color=\"white\", edgecolors=\"red\",figsize=(10, 10))"
   ]
  },
  {
   "cell_type": "markdown",
   "metadata": {},
   "source": [
    "# 3) Substations - Onsset - OSM"
   ]
  },
  {
   "cell_type": "markdown",
   "metadata": {},
   "source": [
    "Install PYROSM to handle OSM data: https://pyrosm.readthedocs.io/en/latest/installation.html\n",
    "\n",
    "data source http://download.geofabrik.de/  \n",
    "\n",
    "data description: https://gep-onsset.readthedocs.io/en/latest/GIS%20data%20collection.html"
   ]
  },
  {
   "cell_type": "markdown",
   "metadata": {},
   "source": [
    "### OSM content check"
   ]
  },
  {
   "cell_type": "code",
   "execution_count": 63,
   "metadata": {},
   "outputs": [
    {
     "name": "stdout",
     "output_type": "stream",
     "text": [
      "['network_filters', 'tags', 'oneway_values']\n"
     ]
    }
   ],
   "source": [
    "from pyrosm import OSM, get_data\n",
    "\n",
    "# Initialize the OSM reader with test data\n",
    "fp = get_data(\"Helsinki\")\n",
    "osm = OSM(fp)\n",
    "\n",
    "# The instance has a configuration attribute containing:\n",
    "print([item for item in osm.conf.__dict__.keys() if not item.startswith(\"_\")])\n"
   ]
  },
  {
   "cell_type": "code",
   "execution_count": 64,
   "metadata": {},
   "outputs": [],
   "source": [
    "# Show all available tag attributes\n",
    "#osm.conf.tags.available\n"
   ]
  },
  {
   "cell_type": "code",
   "execution_count": 65,
   "metadata": {},
   "outputs": [
    {
     "data": {
      "text/plain": [
       "['cable',\n",
       " 'catenary_mast',\n",
       " 'compensator',\n",
       " 'converter',\n",
       " 'generator',\n",
       " 'heliostat',\n",
       " 'insulator',\n",
       " 'line',\n",
       " 'busbar',\n",
       " 'bay',\n",
       " 'minor_line',\n",
       " 'plant',\n",
       " 'pole',\n",
       " 'portal',\n",
       " 'power',\n",
       " 'substation',\n",
       " 'switch',\n",
       " 'switchgear',\n",
       " 'terminal',\n",
       " 'tower',\n",
       " 'transformer']"
      ]
     },
     "execution_count": 65,
     "metadata": {},
     "output_type": "execute_result"
    }
   ],
   "source": [
    "# Show all tags that are converted into columns from building features\n",
    "osm.conf.tags.power"
   ]
  },
  {
   "cell_type": "markdown",
   "metadata": {},
   "source": [
    "## Create OSM substation dataframe"
   ]
  },
  {
   "cell_type": "markdown",
   "metadata": {},
   "source": [
    "Pyrosm has an existing issue handling geofabric data. Thats why \"get_data(\"africa\")\" is not working. \n",
    "\n",
    "A way around this problem is to download the data from http://download.geofabrik.de/africa-latest.osm.bz2 locally & set the path right\n",
    "\n",
    "://github.com/HTenkanen/pyrosm/issues/109"
   ]
  },
  {
   "cell_type": "code",
   "execution_count": 66,
   "metadata": {},
   "outputs": [
    {
     "data": {
      "text/plain": [
       "'/home/max/OneDrive/PHD-Flexibility/07_pypsa-africa/Data'"
      ]
     },
     "execution_count": 66,
     "metadata": {},
     "output_type": "execute_result"
    }
   ],
   "source": [
    "pwd"
   ]
  },
  {
   "cell_type": "code",
   "execution_count": 67,
   "metadata": {},
   "outputs": [
    {
     "name": "stdout",
     "output_type": "stream",
     "text": [
      "/home/max\n"
     ]
    }
   ],
   "source": [
    "cd"
   ]
  },
  {
   "cell_type": "code",
   "execution_count": 68,
   "metadata": {},
   "outputs": [
    {
     "name": "stdout",
     "output_type": "stream",
     "text": [
      "/home/max/OneDrive/PHD-Flexibility/07_pypsa-africa/Data\n"
     ]
    }
   ],
   "source": [
    "cd \"OneDrive/PHD-Flexibility/07_pypsa-africa/Data\""
   ]
  },
  {
   "cell_type": "code",
   "execution_count": 69,
   "metadata": {},
   "outputs": [],
   "source": [
    "africa_data = \"africa-latest.osm.pbf\""
   ]
  },
  {
   "cell_type": "code",
   "execution_count": 70,
   "metadata": {},
   "outputs": [],
   "source": [
    "#Possible input to extract data from PYROSM. I.e. get_data(\"angola\") gets the \"angola-latest.osm.pbf\" filled with all OSM data\n",
    "regions =     [\"algeria\",\n",
    "               \"angola\",\n",
    "               \"benin\",\n",
    "               \"botswana\",\n",
    "               \"burkina_faso\",\n",
    "               \"burundi\",\n",
    "               \"cameroon\",\n",
    "               \"canary_islands\",\n",
    "               \"cape_verde\",\n",
    "               \"central_african_republic\",\n",
    "               \"chad\",\n",
    "               \"comores\",\n",
    "               \"congo_brazzaville\",\n",
    "               \"congo_democratic_republic\",\n",
    "               \"djibouti\",\n",
    "               \"egypt\",\n",
    "               \"equatorial_guinea\",\n",
    "               \"eritrea\",\n",
    "               \"ethiopia\",\n",
    "               \"gabon\",\n",
    "               \"ghana\",\n",
    "               \"guinea_bissau\",\n",
    "               \"guinea\",\n",
    "               \"ivory_coast\",\n",
    "               \"kenya\",\n",
    "               \"lesotho\",\n",
    "               \"liberia\",\n",
    "               \"libya\",\n",
    "               \"madagascar\",\n",
    "               \"malawi\",\n",
    "               \"mali\",\n",
    "               \"mauritania\",\n",
    "               \"mauritius\",\n",
    "               \"morocco\",\n",
    "               \"mozambique\",\n",
    "               \"namibia\",\n",
    "               \"niger\",\n",
    "               \"nigeria\",\n",
    "               \"rwanda\",\n",
    "               \"saint_helena_ascension_and_tristan_da_cunha\",\n",
    "               \"sao_tome_and_principe\",\n",
    "               \"senegal_and_gambia\",\n",
    "               \"seychelles\",\n",
    "               \"sierra_leone\",\n",
    "               \"somalia\",\n",
    "               \"south_africa_and_lesotho\",\n",
    "               \"south_africa\",\n",
    "               \"south_sudan\",\n",
    "               \"sudan\",\n",
    "               \"swaziland\",\n",
    "               \"tanzania\",\n",
    "               \"togo\",\n",
    "               \"tunisia\",\n",
    "               \"uganda\",\n",
    "               \"zambia\",\n",
    "               \"zimbabwe\"]"
   ]
  },
  {
   "cell_type": "code",
   "execution_count": 2,
   "metadata": {},
   "outputs": [
    {
     "name": "stdout",
     "output_type": "stream",
     "text": [
      "Downloaded Protobuf data 'south-africa-latest.osm.pbf' (238.9 MB) to:\n",
      "'/tmp/pyrosm/south-africa-latest.osm.pbf'\n"
     ]
    }
   ],
   "source": [
    "fp = get_data(\"south_africa\")"
   ]
  },
  {
   "cell_type": "code",
   "execution_count": 3,
   "metadata": {},
   "outputs": [
    {
     "data": {
      "text/plain": [
       "'/tmp/pyrosm/south-africa-latest.osm.pbf'"
      ]
     },
     "execution_count": 3,
     "metadata": {},
     "output_type": "execute_result"
    }
   ],
   "source": [
    "fp"
   ]
  },
  {
   "cell_type": "code",
   "execution_count": 4,
   "metadata": {},
   "outputs": [],
   "source": [
    "osm = pyrosm.OSM(fp)"
   ]
  },
  {
   "cell_type": "code",
   "execution_count": 5,
   "metadata": {},
   "outputs": [],
   "source": [
    "my_filter = {'power': [\"substation\"]}"
   ]
  },
  {
   "cell_type": "code",
   "execution_count": 6,
   "metadata": {},
   "outputs": [],
   "source": [
    "lesotho = osm.get_pois(custom_filter=my_filter)"
   ]
  },
  {
   "cell_type": "code",
   "execution_count": 12,
   "metadata": {},
   "outputs": [
    {
     "data": {
      "text/plain": [
       "(2576, 12)"
      ]
     },
     "execution_count": 12,
     "metadata": {},
     "output_type": "execute_result"
    }
   ],
   "source": [
    "lesotho.shape"
   ]
  },
  {
   "cell_type": "code",
   "execution_count": 14,
   "metadata": {},
   "outputs": [],
   "source": [
    "lesotho.to_csv('south_africa.csv',index=False)"
   ]
  },
  {
   "cell_type": "code",
   "execution_count": 8,
   "metadata": {},
   "outputs": [
    {
     "data": {
      "text/plain": [
       "<Geographic 2D CRS: EPSG:4326>\n",
       "Name: WGS 84\n",
       "Axis Info [ellipsoidal]:\n",
       "- Lat[north]: Geodetic latitude (degree)\n",
       "- Lon[east]: Geodetic longitude (degree)\n",
       "Area of Use:\n",
       "- name: World.\n",
       "- bounds: (-180.0, -90.0, 180.0, 90.0)\n",
       "Datum: World Geodetic System 1984\n",
       "- Ellipsoid: WGS 84\n",
       "- Prime Meridian: Greenwich"
      ]
     },
     "execution_count": 8,
     "metadata": {},
     "output_type": "execute_result"
    }
   ],
   "source": [
    "#Shows geometry reference\n",
    "lesotho['geometry'].crs"
   ]
  },
  {
   "cell_type": "code",
   "execution_count": 9,
   "metadata": {},
   "outputs": [],
   "source": [
    "#Converting Polygons to \"centroids\" = Points. \n",
    "\n",
    "#We used \"epsg=3035\" to make the long/lat numbers larger.\n",
    "#This was necessary to make the centroid operations more accurate. Only required for small polygons.\n",
    "#Afterward we reconvert it to the standard epsg=4326\n",
    "\n",
    "lesotho['geometry'] = lesotho['geometry'].to_crs(epsg=3035)\n",
    "lesotho['geometry'] = lesotho['geometry'].centroid\n",
    "lesotho['geometry'] = lesotho['geometry'].to_crs(epsg=4326)"
   ]
  },
  {
   "cell_type": "code",
   "execution_count": 29,
   "metadata": {},
   "outputs": [
    {
     "data": {
      "text/html": [
       "<div>\n",
       "<style scoped>\n",
       "    .dataframe tbody tr th:only-of-type {\n",
       "        vertical-align: middle;\n",
       "    }\n",
       "\n",
       "    .dataframe tbody tr th {\n",
       "        vertical-align: top;\n",
       "    }\n",
       "\n",
       "    .dataframe thead th {\n",
       "        text-align: right;\n",
       "    }\n",
       "</style>\n",
       "<table border=\"1\" class=\"dataframe\">\n",
       "  <thead>\n",
       "    <tr style=\"text-align: right;\">\n",
       "      <th></th>\n",
       "      <th>changeset</th>\n",
       "      <th>id</th>\n",
       "      <th>version</th>\n",
       "      <th>lat</th>\n",
       "      <th>lon</th>\n",
       "      <th>tags</th>\n",
       "      <th>timestamp</th>\n",
       "      <th>power</th>\n",
       "      <th>substation</th>\n",
       "      <th>geometry</th>\n",
       "      <th>osm_type</th>\n",
       "      <th>transformer</th>\n",
       "    </tr>\n",
       "  </thead>\n",
       "  <tbody>\n",
       "    <tr>\n",
       "      <th>0</th>\n",
       "      <td>0.0</td>\n",
       "      <td>366011186</td>\n",
       "      <td>8</td>\n",
       "      <td>-34.123283</td>\n",
       "      <td>18.400650</td>\n",
       "      <td>None</td>\n",
       "      <td>1608219802</td>\n",
       "      <td>substation</td>\n",
       "      <td>None</td>\n",
       "      <td>POINT (18.40065 -34.12328)</td>\n",
       "      <td>node</td>\n",
       "      <td>NaN</td>\n",
       "    </tr>\n",
       "    <tr>\n",
       "      <th>1</th>\n",
       "      <td>0.0</td>\n",
       "      <td>533082726</td>\n",
       "      <td>2</td>\n",
       "      <td>-29.861341</td>\n",
       "      <td>30.881134</td>\n",
       "      <td>{\"location\":\"outdoor\"}</td>\n",
       "      <td>1478071001</td>\n",
       "      <td>substation</td>\n",
       "      <td>distribution</td>\n",
       "      <td>POINT (30.88113 -29.86134)</td>\n",
       "      <td>node</td>\n",
       "      <td>NaN</td>\n",
       "    </tr>\n",
       "    <tr>\n",
       "      <th>2</th>\n",
       "      <td>0.0</td>\n",
       "      <td>565348680</td>\n",
       "      <td>7</td>\n",
       "      <td>-33.941769</td>\n",
       "      <td>18.426252</td>\n",
       "      <td>{\"name\":\"Disa Park 144\",\"man_made\":\"street_cab...</td>\n",
       "      <td>1562352117</td>\n",
       "      <td>substation</td>\n",
       "      <td>distribution</td>\n",
       "      <td>POINT (18.42625 -33.94177)</td>\n",
       "      <td>node</td>\n",
       "      <td>NaN</td>\n",
       "    </tr>\n",
       "    <tr>\n",
       "      <th>3</th>\n",
       "      <td>0.0</td>\n",
       "      <td>626585467</td>\n",
       "      <td>4</td>\n",
       "      <td>-25.440533</td>\n",
       "      <td>30.965998</td>\n",
       "      <td>{\"source\":\"extrapolation\",\"location\":\"kiosk\"}</td>\n",
       "      <td>1482396690</td>\n",
       "      <td>substation</td>\n",
       "      <td>distribution</td>\n",
       "      <td>POINT (30.96600 -25.44053)</td>\n",
       "      <td>node</td>\n",
       "      <td>NaN</td>\n",
       "    </tr>\n",
       "    <tr>\n",
       "      <th>4</th>\n",
       "      <td>0.0</td>\n",
       "      <td>869344733</td>\n",
       "      <td>4</td>\n",
       "      <td>-25.493366</td>\n",
       "      <td>31.525007</td>\n",
       "      <td>{\"location\":\"indoor\"}</td>\n",
       "      <td>1482396690</td>\n",
       "      <td>substation</td>\n",
       "      <td>distribution</td>\n",
       "      <td>POINT (31.52501 -25.49337)</td>\n",
       "      <td>node</td>\n",
       "      <td>NaN</td>\n",
       "    </tr>\n",
       "  </tbody>\n",
       "</table>\n",
       "</div>"
      ],
      "text/plain": [
       "   changeset         id  version        lat        lon  \\\n",
       "0        0.0  366011186        8 -34.123283  18.400650   \n",
       "1        0.0  533082726        2 -29.861341  30.881134   \n",
       "2        0.0  565348680        7 -33.941769  18.426252   \n",
       "3        0.0  626585467        4 -25.440533  30.965998   \n",
       "4        0.0  869344733        4 -25.493366  31.525007   \n",
       "\n",
       "                                                tags   timestamp       power  \\\n",
       "0                                               None  1608219802  substation   \n",
       "1                             {\"location\":\"outdoor\"}  1478071001  substation   \n",
       "2  {\"name\":\"Disa Park 144\",\"man_made\":\"street_cab...  1562352117  substation   \n",
       "3      {\"source\":\"extrapolation\",\"location\":\"kiosk\"}  1482396690  substation   \n",
       "4                              {\"location\":\"indoor\"}  1482396690  substation   \n",
       "\n",
       "     substation                    geometry osm_type transformer  \n",
       "0          None  POINT (18.40065 -34.12328)     node         NaN  \n",
       "1  distribution  POINT (30.88113 -29.86134)     node         NaN  \n",
       "2  distribution  POINT (18.42625 -33.94177)     node         NaN  \n",
       "3  distribution  POINT (30.96600 -25.44053)     node         NaN  \n",
       "4  distribution  POINT (31.52501 -25.49337)     node         NaN  "
      ]
     },
     "execution_count": 29,
     "metadata": {},
     "output_type": "execute_result"
    }
   ],
   "source": [
    "lesotho.head()"
   ]
  },
  {
   "cell_type": "code",
   "execution_count": 21,
   "metadata": {},
   "outputs": [],
   "source": [
    "df = lesotho.loc[lesotho['substation'] == 'transmission']"
   ]
  },
  {
   "cell_type": "code",
   "execution_count": 28,
   "metadata": {},
   "outputs": [
    {
     "data": {
      "text/html": [
       "<div>\n",
       "<style scoped>\n",
       "    .dataframe tbody tr th:only-of-type {\n",
       "        vertical-align: middle;\n",
       "    }\n",
       "\n",
       "    .dataframe tbody tr th {\n",
       "        vertical-align: top;\n",
       "    }\n",
       "\n",
       "    .dataframe thead th {\n",
       "        text-align: right;\n",
       "    }\n",
       "</style>\n",
       "<table border=\"1\" class=\"dataframe\">\n",
       "  <thead>\n",
       "    <tr style=\"text-align: right;\">\n",
       "      <th></th>\n",
       "      <th>changeset</th>\n",
       "      <th>id</th>\n",
       "      <th>version</th>\n",
       "      <th>lat</th>\n",
       "      <th>lon</th>\n",
       "      <th>tags</th>\n",
       "      <th>timestamp</th>\n",
       "      <th>power</th>\n",
       "      <th>substation</th>\n",
       "      <th>geometry</th>\n",
       "      <th>osm_type</th>\n",
       "      <th>transformer</th>\n",
       "    </tr>\n",
       "  </thead>\n",
       "  <tbody>\n",
       "    <tr>\n",
       "      <th>61</th>\n",
       "      <td>0.0</td>\n",
       "      <td>7248707972</td>\n",
       "      <td>1</td>\n",
       "      <td>-27.963926</td>\n",
       "      <td>25.039686</td>\n",
       "      <td>{\"operator\":\"ESKOM\"}</td>\n",
       "      <td>1582842633</td>\n",
       "      <td>substation</td>\n",
       "      <td>transmission</td>\n",
       "      <td>POINT (25.03969 -27.96393)</td>\n",
       "      <td>node</td>\n",
       "      <td>NaN</td>\n",
       "    </tr>\n",
       "    <tr>\n",
       "      <th>65</th>\n",
       "      <td>NaN</td>\n",
       "      <td>28088740</td>\n",
       "      <td>7</td>\n",
       "      <td>NaN</td>\n",
       "      <td>NaN</td>\n",
       "      <td>{\"name\":\"Croydon Substation\",\"source\":\"Yahoo\",...</td>\n",
       "      <td>1479999262</td>\n",
       "      <td>substation</td>\n",
       "      <td>transmission</td>\n",
       "      <td>POINT (28.19482 -26.14049)</td>\n",
       "      <td>way</td>\n",
       "      <td>None</td>\n",
       "    </tr>\n",
       "    <tr>\n",
       "      <th>67</th>\n",
       "      <td>NaN</td>\n",
       "      <td>30878888</td>\n",
       "      <td>2</td>\n",
       "      <td>NaN</td>\n",
       "      <td>NaN</td>\n",
       "      <td>{\"voltage\":\"132000\",\"location\":\"outdoor\"}</td>\n",
       "      <td>1479411043</td>\n",
       "      <td>substation</td>\n",
       "      <td>transmission</td>\n",
       "      <td>POINT (25.52501 -33.97705)</td>\n",
       "      <td>way</td>\n",
       "      <td>None</td>\n",
       "    </tr>\n",
       "    <tr>\n",
       "      <th>68</th>\n",
       "      <td>NaN</td>\n",
       "      <td>32509808</td>\n",
       "      <td>5</td>\n",
       "      <td>NaN</td>\n",
       "      <td>NaN</td>\n",
       "      <td>{\"ref\":\"LEP\",\"name\":\"Lepini Substation\",\"acces...</td>\n",
       "      <td>1479738279</td>\n",
       "      <td>substation</td>\n",
       "      <td>transmission</td>\n",
       "      <td>POINT (28.17954 -26.03229)</td>\n",
       "      <td>way</td>\n",
       "      <td>None</td>\n",
       "    </tr>\n",
       "    <tr>\n",
       "      <th>72</th>\n",
       "      <td>NaN</td>\n",
       "      <td>42209493</td>\n",
       "      <td>8</td>\n",
       "      <td>NaN</td>\n",
       "      <td>NaN</td>\n",
       "      <td>{\"name\":\"Prospect Substation\",\"access\":\"no\",\"s...</td>\n",
       "      <td>1550871901</td>\n",
       "      <td>substation</td>\n",
       "      <td>transmission</td>\n",
       "      <td>POINT (28.09518 -26.22345)</td>\n",
       "      <td>way</td>\n",
       "      <td>None</td>\n",
       "    </tr>\n",
       "  </tbody>\n",
       "</table>\n",
       "</div>"
      ],
      "text/plain": [
       "    changeset          id  version        lat        lon  \\\n",
       "61        0.0  7248707972        1 -27.963926  25.039686   \n",
       "65        NaN    28088740        7        NaN        NaN   \n",
       "67        NaN    30878888        2        NaN        NaN   \n",
       "68        NaN    32509808        5        NaN        NaN   \n",
       "72        NaN    42209493        8        NaN        NaN   \n",
       "\n",
       "                                                 tags   timestamp       power  \\\n",
       "61                               {\"operator\":\"ESKOM\"}  1582842633  substation   \n",
       "65  {\"name\":\"Croydon Substation\",\"source\":\"Yahoo\",...  1479999262  substation   \n",
       "67          {\"voltage\":\"132000\",\"location\":\"outdoor\"}  1479411043  substation   \n",
       "68  {\"ref\":\"LEP\",\"name\":\"Lepini Substation\",\"acces...  1479738279  substation   \n",
       "72  {\"name\":\"Prospect Substation\",\"access\":\"no\",\"s...  1550871901  substation   \n",
       "\n",
       "      substation                    geometry osm_type transformer  \n",
       "61  transmission  POINT (25.03969 -27.96393)     node         NaN  \n",
       "65  transmission  POINT (28.19482 -26.14049)      way        None  \n",
       "67  transmission  POINT (25.52501 -33.97705)      way        None  \n",
       "68  transmission  POINT (28.17954 -26.03229)      way        None  \n",
       "72  transmission  POINT (28.09518 -26.22345)      way        None  "
      ]
     },
     "execution_count": 28,
     "metadata": {},
     "output_type": "execute_result"
    }
   ],
   "source": [
    "df.head()"
   ]
  },
  {
   "cell_type": "code",
   "execution_count": 27,
   "metadata": {},
   "outputs": [
    {
     "data": {
      "text/html": [
       "<div>\n",
       "<style scoped>\n",
       "    .dataframe tbody tr th:only-of-type {\n",
       "        vertical-align: middle;\n",
       "    }\n",
       "\n",
       "    .dataframe tbody tr th {\n",
       "        vertical-align: top;\n",
       "    }\n",
       "\n",
       "    .dataframe thead th {\n",
       "        text-align: right;\n",
       "    }\n",
       "</style>\n",
       "<table border=\"1\" class=\"dataframe\">\n",
       "  <thead>\n",
       "    <tr style=\"text-align: right;\">\n",
       "      <th></th>\n",
       "      <th>changeset</th>\n",
       "      <th>id</th>\n",
       "      <th>version</th>\n",
       "      <th>lat</th>\n",
       "      <th>lon</th>\n",
       "      <th>tags</th>\n",
       "      <th>timestamp</th>\n",
       "      <th>power</th>\n",
       "      <th>substation</th>\n",
       "      <th>geometry</th>\n",
       "      <th>osm_type</th>\n",
       "      <th>transformer</th>\n",
       "    </tr>\n",
       "  </thead>\n",
       "  <tbody>\n",
       "  </tbody>\n",
       "</table>\n",
       "</div>"
      ],
      "text/plain": [
       "Empty GeoDataFrame\n",
       "Columns: [changeset, id, version, lat, lon, tags, timestamp, power, substation, geometry, osm_type, transformer]\n",
       "Index: []"
      ]
     },
     "execution_count": 27,
     "metadata": {},
     "output_type": "execute_result"
    }
   ],
   "source": [
    "df.loc[lesotho['tags'] == ]"
   ]
  },
  {
   "cell_type": "code",
   "execution_count": 23,
   "metadata": {},
   "outputs": [
    {
     "data": {
      "image/png": "[encoded data removed]",
      "text/plain": [
       "<Figure size 432x432 with 1 Axes>"
      ]
     },
     "metadata": {
      "needs_background": "light"
     },
     "output_type": "display_data"
    }
   ],
   "source": [
    "# Plot\n",
    "ax = df.plot(column='power', marker='o', markersize=10, figsize=(6,6), legend=True, legend_kwds=dict(loc='upper left', ncol=5, bbox_to_anchor=(1, 1)))"
   ]
  },
  {
   "cell_type": "code",
   "execution_count": 25,
   "metadata": {},
   "outputs": [
    {
     "ename": "NameError",
     "evalue": "name 'africa' is not defined",
     "output_type": "error",
     "traceback": [
      "\u001b[0;31m---------------------------------------------------------------------------\u001b[0m",
      "\u001b[0;31mNameError\u001b[0m                                 Traceback (most recent call last)",
      "\u001b[0;32m<ipython-input-25-901c13ee7b29>\u001b[0m in \u001b[0;36m<module>\u001b[0;34m\u001b[0m\n\u001b[1;32m      1\u001b[0m \u001b[0;31m#Worked! Lesotho is down in South Africa\u001b[0m\u001b[0;34m\u001b[0m\u001b[0;34m\u001b[0m\u001b[0;34m\u001b[0m\u001b[0m\n\u001b[1;32m      2\u001b[0m \u001b[0max\u001b[0m \u001b[0;34m=\u001b[0m \u001b[0mdf\u001b[0m\u001b[0;34m.\u001b[0m\u001b[0mplot\u001b[0m\u001b[0;34m(\u001b[0m\u001b[0mcolumn\u001b[0m\u001b[0;34m=\u001b[0m\u001b[0;34m'power'\u001b[0m\u001b[0;34m,\u001b[0m\u001b[0mfigsize\u001b[0m\u001b[0;34m=\u001b[0m\u001b[0;34m(\u001b[0m\u001b[0;36m10\u001b[0m\u001b[0;34m,\u001b[0m \u001b[0;36m10\u001b[0m\u001b[0;34m)\u001b[0m\u001b[0;34m,\u001b[0m\u001b[0malpha\u001b[0m \u001b[0;34m=\u001b[0m \u001b[0;36m0.7\u001b[0m\u001b[0;34m,\u001b[0m \u001b[0mmarkersize\u001b[0m \u001b[0;34m=\u001b[0m \u001b[0;36m1\u001b[0m\u001b[0;34m)\u001b[0m\u001b[0;34m\u001b[0m\u001b[0;34m\u001b[0m\u001b[0m\n\u001b[0;32m----> 3\u001b[0;31m \u001b[0mgeoplot\u001b[0m\u001b[0;34m.\u001b[0m\u001b[0mpolyplot\u001b[0m\u001b[0;34m(\u001b[0m\u001b[0mafrica\u001b[0m\u001b[0;34m,\u001b[0m \u001b[0medgecolor\u001b[0m\u001b[0;34m=\u001b[0m\u001b[0;34m'gray'\u001b[0m\u001b[0;34m,\u001b[0m \u001b[0max\u001b[0m\u001b[0;34m=\u001b[0m\u001b[0max\u001b[0m\u001b[0;34m)\u001b[0m\u001b[0;34m\u001b[0m\u001b[0;34m\u001b[0m\u001b[0m\n\u001b[0m",
      "\u001b[0;31mNameError\u001b[0m: name 'africa' is not defined"
     ]
    },
    {
     "data": {
      "image/png": "[encoded data removed]",
      "text/plain": [
       "<Figure size 720x720 with 1 Axes>"
      ]
     },
     "metadata": {
      "needs_background": "light"
     },
     "output_type": "display_data"
    }
   ],
   "source": [
    "#Worked! Lesotho is down in South Africa\n",
    "ax = df.plot(column='power',figsize=(10, 10),alpha = 0.7, markersize = 1)\n",
    "geoplot.polyplot(africa, edgecolor='gray', ax=ax)"
   ]
  },
  {
   "cell_type": "code",
   "execution_count": null,
   "metadata": {},
   "outputs": [],
   "source": []
  }
 ],
 "metadata": {
  "kernelspec": {
   "display_name": "Python 3",
   "language": "python",
   "name": "python3"
  },
  "language_info": {
   "codemirror_mode": {
    "name": "ipython",
    "version": 3
   },
   "file_extension": ".py",
   "mimetype": "text/x-python",
   "name": "python",
   "nbconvert_exporter": "python",
   "pygments_lexer": "ipython3",
   "version": "3.8.8"
  }
 },
 "nbformat": 4,
 "nbformat_minor": 4
}
