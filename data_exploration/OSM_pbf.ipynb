{
 "metadata": {
  "language_info": {
   "codemirror_mode": {
    "name": "ipython",
    "version": 3
   },
   "file_extension": ".py",
   "mimetype": "text/x-python",
   "name": "python",
   "nbconvert_exporter": "python",
   "pygments_lexer": "ipython3",
   "version": "3.7.10-final"
  },
  "orig_nbformat": 2,
  "kernelspec": {
   "name": "python3710jvsc74a57bd09a6789bfb301b77bab315636af11818455845432a243e82ed991667bc6cd3910",
   "display_name": "Python 3.7.10 64-bit ('pypsa': conda)"
  }
 },
 "nbformat": 4,
 "nbformat_minor": 2,
 "cells": [
  {
   "cell_type": "code",
   "execution_count": 1,
   "metadata": {},
   "outputs": [],
   "source": [
    "import os, sys, time\n",
    "\n",
    "import requests\n",
    "import shutil\n",
    "\n",
    "# https://gitlab.com/dlr-ve-esy/esy-osmfilter/-/tree/master/\n",
    "from esy.osmfilter import  osm_colors          as CC\n",
    "from esy.osmfilter import run_filter, Node,Way,Relation \n",
    "from esy.osmfilter import export_geojson\n",
    "from contextlib import contextmanager\n",
    "\n",
    "import pandas as pd\n",
    "import numpy as np\n",
    "import geopandas as gpd\n",
    "from shapely.geometry import Point\n",
    "# import logging\n",
    "# logging.basicConfig()\n",
    "# logger=logging.getLogger(__name__)\n",
    "# logger.setLevel(logging.INFO)\n",
    "# logger.setLevel(logging.WARNING)\n"
   ]
  },
  {
   "cell_type": "code",
   "execution_count": 6,
   "metadata": {
    "tags": []
   },
   "outputs": [],
   "source": [
    "country_name = 'africa' # TODO: Create dictionary with country_code : country_name pairs\n",
    "country_code = 'AFRICA'\n",
    "# country_name = 'cape-verde'\n",
    "geofabrik_filename=f'{country_name}-latest.osm.pbf' # Filename for geofabrik \n",
    "geofabrik_url = f'https://download.geofabrik.de/africa/{geofabrik_filename}' # https://download.geofabrik.de/africa/nigeria-latest.osm.pbf\n",
    "\n",
    "local_file= os.path.join(\"data\",\"osm\",geofabrik_filename)\n",
    "if not os.path.exists(local_file):\n",
    "    print(f\"{geofabrik_filename} does not exist, downloading to {local_file}\")\n",
    "    os.makedirs(os.path.dirname(local_file), exist_ok=True) # create data/osm directory\n",
    "    with requests.get(geofabrik_url, stream=True) as r:\n",
    "        with open(local_file, 'wb') as f:\n",
    "            shutil.copyfileobj(r.raw, f)\n",
    "\n",
    "# Input filepath\n",
    "PBF_inputfile = os.path.join(os.getcwd(),local_file)\n",
    "\n",
    "# json file for the Data dictionary \n",
    "# json file for the Elements dictionary is automatically written to 'data/osm/Elements'+filename)\n",
    "JSON_outputfile = os.path.join(os.getcwd(),'data','osm',country_name+'_substations.json')\n",
    "\n"
   ]
  },
  {
   "cell_type": "code",
   "execution_count": 30,
   "metadata": {},
   "outputs": [
    {
     "output_type": "stream",
     "name": "stdout",
     "text": [
      "/home/matin/pypsa-africa/data_exploration/data/osm/africa-latest.osm.pbf /home/matin/pypsa-africa/data_exploration/data/osm/africa_substations.json\n"
     ]
    }
   ],
   "source": [
    "print(PBF_inputfile, JSON_outputfile)"
   ]
  },
  {
   "cell_type": "code",
   "execution_count": 31,
   "metadata": {},
   "outputs": [],
   "source": [
    "#see https://dlr-ve-esy.gitlab.io/esy-osmfilter/filter.html for filter structures\n",
    "\n",
    "prefilter = {Node: {\"power\":[\"substation\"]}, Way: {\"power\":[\"substation\"]}, Relation: {\"power\":[\"substation\"]}}\n",
    "blackfilter = [(\"pipeline\",\"substation\"),]\n",
    "whitefilter =[[(\"power\",\"substation\"),],]\n",
    "    \n",
    "elementname=f'{country_code}_substations'\n",
    "\n",
    "[Data,Elements]=run_filter(elementname,PBF_inputfile, JSON_outputfile,prefilter,whitefilter,blackfilter, NewPreFilterData=False, CreateElements=False, LoadElements=True,verbose=False,multiprocess=True)\n",
    "\n",
    "\n",
    "# export the elements to a geojson-file\n",
    "# export_geojson(Elements[elementname]['Way'],Data,filename='test.geojson',jsontype='Line')\n",
    "# convert extract node elements\n",
    "# export_geojson(Elements[elementname]['Node'],Data,filename='test.geojson',jsontype='Point')\n",
    "\n",
    "\n"
   ]
  },
  {
   "cell_type": "code",
   "execution_count": 9,
   "metadata": {},
   "outputs": [
    {
     "output_type": "error",
     "ename": "TypeError",
     "evalue": "file must have 'read' and 'readline' attributes",
     "traceback": [
      "\u001b[0;31m---------------------------------------------------------------------------\u001b[0m",
      "\u001b[0;31mTypeError\u001b[0m                                 Traceback (most recent call last)",
      "\u001b[0;32m<ipython-input-9-d5a5fbca18e0>\u001b[0m in \u001b[0;36m<module>\u001b[0;34m\u001b[0m\n\u001b[1;32m      1\u001b[0m \u001b[0;32mimport\u001b[0m \u001b[0mpickle\u001b[0m\u001b[0;34m\u001b[0m\u001b[0;34m\u001b[0m\u001b[0m\n\u001b[0;32m----> 2\u001b[0;31m \u001b[0mElements\u001b[0m \u001b[0;34m=\u001b[0m \u001b[0mpickle\u001b[0m\u001b[0;34m.\u001b[0m\u001b[0mload\u001b[0m\u001b[0;34m(\u001b[0m\u001b[0mos\u001b[0m\u001b[0;34m.\u001b[0m\u001b[0mpath\u001b[0m\u001b[0;34m.\u001b[0m\u001b[0mjoin\u001b[0m\u001b[0;34m(\u001b[0m\u001b[0mos\u001b[0m\u001b[0;34m.\u001b[0m\u001b[0mgetcwd\u001b[0m\u001b[0;34m(\u001b[0m\u001b[0;34m)\u001b[0m\u001b[0;34m,\u001b[0m\u001b[0mos\u001b[0m\u001b[0;34m.\u001b[0m\u001b[0mpath\u001b[0m\u001b[0;34m.\u001b[0m\u001b[0mdirname\u001b[0m\u001b[0;34m(\u001b[0m\u001b[0mJSON_outputfile\u001b[0m\u001b[0;34m)\u001b[0m\u001b[0;34m,\u001b[0m \u001b[0;34m'Elements'\u001b[0m\u001b[0;34m,\u001b[0m \u001b[0;34m'AFRICA_substations.pickle'\u001b[0m\u001b[0;34m)\u001b[0m\u001b[0;34m)\u001b[0m\u001b[0;34m\u001b[0m\u001b[0;34m\u001b[0m\u001b[0m\n\u001b[0m\u001b[1;32m      3\u001b[0m \u001b[0;34m\u001b[0m\u001b[0m\n\u001b[1;32m      4\u001b[0m \u001b[0;31m# Elements = osm_pickle.pickleload(Elements,os.path.join(os.getcwd(),os.path.dirname(JSON_outputfile), 'Elements/'))\u001b[0m\u001b[0;34m\u001b[0m\u001b[0;34m\u001b[0m\u001b[0;34m\u001b[0m\u001b[0m\n",
      "\u001b[0;31mTypeError\u001b[0m: file must have 'read' and 'readline' attributes"
     ]
    }
   ],
   "source": [
    "import pickle\n",
    "Elements = pickle.load(os.path.join(os.getcwd(),os.path.dirname(JSON_outputfile), 'Elements', 'AFRICA_substations.pickle'))\n",
    "\n",
    "# Elements = osm_pickle.pickleload(Elements,os.path.join(os.getcwd(),os.path.dirname(JSON_outputfile), 'Elements/'))    "
   ]
  },
  {
   "cell_type": "code",
   "execution_count": 33,
   "metadata": {},
   "outputs": [
    {
     "output_type": "display_data",
     "data": {
      "text/plain": "             id                                               refs  \\\n0      90137992  [1044958475, 1044958478, 1044958443, 104495847...   \n2     219596292  [2287444706, 2287444696, 2287444709, 228744469...   \n5     694348420  [6518987551, 6518987549, 6518987548, 651898755...   \n6     302904657  [3071892870, 3071892871, 3071892873, 307189287...   \n9      90454383  [1049492731, 1049492535, 1049493108, 104949262...   \n...         ...                                                ...   \n6818  223115963  [2320515555, 2320515539, 2320515553, 232051555...   \n6819  302127350  [3063706734, 3063706732, 3063706728, 306370673...   \n6822  695523467  [6530697089, 6530697088, 6530697087, 653069708...   \n6824  204050015  [2140628605, 2140628602, 2140628606, 214062860...   \n6825  840356742  [7841599629, 7841599628, 7841599627, 784159962...   \n\n                               tags.fixme  tags.power tags.access  \\\n0     name,ref,operator,voltage,frequency  substation          no   \n2                                     NaN  substation         NaN   \n5                                     NaN  substation         NaN   \n6                                     NaN  substation         NaN   \n9                                     NaN  substation         NaN   \n...                                   ...         ...         ...   \n6818                                  NaN  substation         NaN   \n6819                                  NaN  substation         NaN   \n6822                                  NaN  substation         NaN   \n6824                                  NaN  substation         NaN   \n6825                                  NaN  substation         NaN   \n\n     tags.barrier          tags.voltage tags.location tags.substation  \\\n0           fence                 66000       outdoor    distribution   \n2             NaN                 88000       outdoor    distribution   \n5             NaN                110000       outdoor      industrial   \n6           fence                110000       outdoor    transmission   \n9             NaN  400000;220000;132000       outdoor    transmission   \n...           ...                   ...           ...             ...   \n6818        fence                220000       outdoor    transmission   \n6819          NaN                161000       outdoor             NaN   \n6822          NaN                 66000           NaN             NaN   \n6824          NaN                132000       outdoor    distribution   \n6825          NaN                225000           NaN             NaN   \n\n     tags.height  ... tags.brand:wikipedia tags.note tags.description  \\\n0            NaN  ...                  NaN       NaN              NaN   \n2            NaN  ...                  NaN       NaN              NaN   \n5            NaN  ...                  NaN       NaN              NaN   \n6            NaN  ...                  NaN       NaN              NaN   \n9            NaN  ...                  NaN       NaN              NaN   \n...          ...  ...                  ...       ...              ...   \n6818         NaN  ...                  NaN       NaN              NaN   \n6819         NaN  ...                  NaN       NaN              NaN   \n6822         NaN  ...                  NaN       NaN              NaN   \n6824         NaN  ...                  NaN       NaN              NaN   \n6825         NaN  ...                  NaN       NaN              NaN   \n\n     tags.gas_insulated tags.website tags.start_date  \\\n0                   NaN          NaN             NaN   \n2                   NaN          NaN             NaN   \n5                   NaN          NaN             NaN   \n6                   NaN          NaN             NaN   \n9                   NaN          NaN             NaN   \n...                 ...          ...             ...   \n6818                NaN          NaN             NaN   \n6819                NaN          NaN             NaN   \n6822                NaN          NaN             NaN   \n6824                NaN          NaN             NaN   \n6825                NaN          NaN             NaN   \n\n     tags.generator:output:electricity tags.owner tags.addr:suburb  \\\n0                                  NaN        NaN              NaN   \n2                                  NaN        NaN              NaN   \n5                                  NaN        NaN              NaN   \n6                                  NaN        NaN              NaN   \n9                                  NaN        NaN              NaN   \n...                                ...        ...              ...   \n6818                               NaN        NaN              NaN   \n6819                               NaN        NaN              NaN   \n6822                               NaN        NaN              NaN   \n6824                               NaN        NaN              NaN   \n6825                               NaN        NaN              NaN   \n\n     tags.operator:fr  \n0                 NaN  \n2                 NaN  \n5                 NaN  \n6                 NaN  \n9                 NaN  \n...               ...  \n6818              NaN  \n6819              NaN  \n6822              NaN  \n6824              NaN  \n6825              NaN  \n\n[2721 rows x 60 columns]",
      "text/html": "<div>\n<style scoped>\n    .dataframe tbody tr th:only-of-type {\n        vertical-align: middle;\n    }\n\n    .dataframe tbody tr th {\n        vertical-align: top;\n    }\n\n    .dataframe thead th {\n        text-align: right;\n    }\n</style>\n<table border=\"1\" class=\"dataframe\">\n  <thead>\n    <tr style=\"text-align: right;\">\n      <th></th>\n      <th>id</th>\n      <th>refs</th>\n      <th>tags.fixme</th>\n      <th>tags.power</th>\n      <th>tags.access</th>\n      <th>tags.barrier</th>\n      <th>tags.voltage</th>\n      <th>tags.location</th>\n      <th>tags.substation</th>\n      <th>tags.height</th>\n      <th>...</th>\n      <th>tags.brand:wikipedia</th>\n      <th>tags.note</th>\n      <th>tags.description</th>\n      <th>tags.gas_insulated</th>\n      <th>tags.website</th>\n      <th>tags.start_date</th>\n      <th>tags.generator:output:electricity</th>\n      <th>tags.owner</th>\n      <th>tags.addr:suburb</th>\n      <th>tags.operator:fr</th>\n    </tr>\n  </thead>\n  <tbody>\n    <tr>\n      <th>0</th>\n      <td>90137992</td>\n      <td>[1044958475, 1044958478, 1044958443, 104495847...</td>\n      <td>name,ref,operator,voltage,frequency</td>\n      <td>substation</td>\n      <td>no</td>\n      <td>fence</td>\n      <td>66000</td>\n      <td>outdoor</td>\n      <td>distribution</td>\n      <td>NaN</td>\n      <td>...</td>\n      <td>NaN</td>\n      <td>NaN</td>\n      <td>NaN</td>\n      <td>NaN</td>\n      <td>NaN</td>\n      <td>NaN</td>\n      <td>NaN</td>\n      <td>NaN</td>\n      <td>NaN</td>\n      <td>NaN</td>\n    </tr>\n    <tr>\n      <th>2</th>\n      <td>219596292</td>\n      <td>[2287444706, 2287444696, 2287444709, 228744469...</td>\n      <td>NaN</td>\n      <td>substation</td>\n      <td>NaN</td>\n      <td>NaN</td>\n      <td>88000</td>\n      <td>outdoor</td>\n      <td>distribution</td>\n      <td>NaN</td>\n      <td>...</td>\n      <td>NaN</td>\n      <td>NaN</td>\n      <td>NaN</td>\n      <td>NaN</td>\n      <td>NaN</td>\n      <td>NaN</td>\n      <td>NaN</td>\n      <td>NaN</td>\n      <td>NaN</td>\n      <td>NaN</td>\n    </tr>\n    <tr>\n      <th>5</th>\n      <td>694348420</td>\n      <td>[6518987551, 6518987549, 6518987548, 651898755...</td>\n      <td>NaN</td>\n      <td>substation</td>\n      <td>NaN</td>\n      <td>NaN</td>\n      <td>110000</td>\n      <td>outdoor</td>\n      <td>industrial</td>\n      <td>NaN</td>\n      <td>...</td>\n      <td>NaN</td>\n      <td>NaN</td>\n      <td>NaN</td>\n      <td>NaN</td>\n      <td>NaN</td>\n      <td>NaN</td>\n      <td>NaN</td>\n      <td>NaN</td>\n      <td>NaN</td>\n      <td>NaN</td>\n    </tr>\n    <tr>\n      <th>6</th>\n      <td>302904657</td>\n      <td>[3071892870, 3071892871, 3071892873, 307189287...</td>\n      <td>NaN</td>\n      <td>substation</td>\n      <td>NaN</td>\n      <td>fence</td>\n      <td>110000</td>\n      <td>outdoor</td>\n      <td>transmission</td>\n      <td>NaN</td>\n      <td>...</td>\n      <td>NaN</td>\n      <td>NaN</td>\n      <td>NaN</td>\n      <td>NaN</td>\n      <td>NaN</td>\n      <td>NaN</td>\n      <td>NaN</td>\n      <td>NaN</td>\n      <td>NaN</td>\n      <td>NaN</td>\n    </tr>\n    <tr>\n      <th>9</th>\n      <td>90454383</td>\n      <td>[1049492731, 1049492535, 1049493108, 104949262...</td>\n      <td>NaN</td>\n      <td>substation</td>\n      <td>NaN</td>\n      <td>NaN</td>\n      <td>400000;220000;132000</td>\n      <td>outdoor</td>\n      <td>transmission</td>\n      <td>NaN</td>\n      <td>...</td>\n      <td>NaN</td>\n      <td>NaN</td>\n      <td>NaN</td>\n      <td>NaN</td>\n      <td>NaN</td>\n      <td>NaN</td>\n      <td>NaN</td>\n      <td>NaN</td>\n      <td>NaN</td>\n      <td>NaN</td>\n    </tr>\n    <tr>\n      <th>...</th>\n      <td>...</td>\n      <td>...</td>\n      <td>...</td>\n      <td>...</td>\n      <td>...</td>\n      <td>...</td>\n      <td>...</td>\n      <td>...</td>\n      <td>...</td>\n      <td>...</td>\n      <td>...</td>\n      <td>...</td>\n      <td>...</td>\n      <td>...</td>\n      <td>...</td>\n      <td>...</td>\n      <td>...</td>\n      <td>...</td>\n      <td>...</td>\n      <td>...</td>\n      <td>...</td>\n    </tr>\n    <tr>\n      <th>6818</th>\n      <td>223115963</td>\n      <td>[2320515555, 2320515539, 2320515553, 232051555...</td>\n      <td>NaN</td>\n      <td>substation</td>\n      <td>NaN</td>\n      <td>fence</td>\n      <td>220000</td>\n      <td>outdoor</td>\n      <td>transmission</td>\n      <td>NaN</td>\n      <td>...</td>\n      <td>NaN</td>\n      <td>NaN</td>\n      <td>NaN</td>\n      <td>NaN</td>\n      <td>NaN</td>\n      <td>NaN</td>\n      <td>NaN</td>\n      <td>NaN</td>\n      <td>NaN</td>\n      <td>NaN</td>\n    </tr>\n    <tr>\n      <th>6819</th>\n      <td>302127350</td>\n      <td>[3063706734, 3063706732, 3063706728, 306370673...</td>\n      <td>NaN</td>\n      <td>substation</td>\n      <td>NaN</td>\n      <td>NaN</td>\n      <td>161000</td>\n      <td>outdoor</td>\n      <td>NaN</td>\n      <td>NaN</td>\n      <td>...</td>\n      <td>NaN</td>\n      <td>NaN</td>\n      <td>NaN</td>\n      <td>NaN</td>\n      <td>NaN</td>\n      <td>NaN</td>\n      <td>NaN</td>\n      <td>NaN</td>\n      <td>NaN</td>\n      <td>NaN</td>\n    </tr>\n    <tr>\n      <th>6822</th>\n      <td>695523467</td>\n      <td>[6530697089, 6530697088, 6530697087, 653069708...</td>\n      <td>NaN</td>\n      <td>substation</td>\n      <td>NaN</td>\n      <td>NaN</td>\n      <td>66000</td>\n      <td>NaN</td>\n      <td>NaN</td>\n      <td>NaN</td>\n      <td>...</td>\n      <td>NaN</td>\n      <td>NaN</td>\n      <td>NaN</td>\n      <td>NaN</td>\n      <td>NaN</td>\n      <td>NaN</td>\n      <td>NaN</td>\n      <td>NaN</td>\n      <td>NaN</td>\n      <td>NaN</td>\n    </tr>\n    <tr>\n      <th>6824</th>\n      <td>204050015</td>\n      <td>[2140628605, 2140628602, 2140628606, 214062860...</td>\n      <td>NaN</td>\n      <td>substation</td>\n      <td>NaN</td>\n      <td>NaN</td>\n      <td>132000</td>\n      <td>outdoor</td>\n      <td>distribution</td>\n      <td>NaN</td>\n      <td>...</td>\n      <td>NaN</td>\n      <td>NaN</td>\n      <td>NaN</td>\n      <td>NaN</td>\n      <td>NaN</td>\n      <td>NaN</td>\n      <td>NaN</td>\n      <td>NaN</td>\n      <td>NaN</td>\n      <td>NaN</td>\n    </tr>\n    <tr>\n      <th>6825</th>\n      <td>840356742</td>\n      <td>[7841599629, 7841599628, 7841599627, 784159962...</td>\n      <td>NaN</td>\n      <td>substation</td>\n      <td>NaN</td>\n      <td>NaN</td>\n      <td>225000</td>\n      <td>NaN</td>\n      <td>NaN</td>\n      <td>NaN</td>\n      <td>...</td>\n      <td>NaN</td>\n      <td>NaN</td>\n      <td>NaN</td>\n      <td>NaN</td>\n      <td>NaN</td>\n      <td>NaN</td>\n      <td>NaN</td>\n      <td>NaN</td>\n      <td>NaN</td>\n      <td>NaN</td>\n    </tr>\n  </tbody>\n</table>\n<p>2721 rows × 60 columns</p>\n</div>"
     },
     "metadata": {}
    }
   ],
   "source": [
    "df = pd.json_normalize(Elements[elementname][\"Way\"].values())\n",
    "df = df.dropna(subset=['tags.voltage'])\n",
    "df = df.dropna(axis=1, how='all')\n",
    "\n",
    "display(df)\n",
    "\n"
   ]
  },
  {
   "cell_type": "code",
   "execution_count": 35,
   "metadata": {},
   "outputs": [
    {
     "output_type": "display_data",
     "data": {
      "text/plain": "             id                                     lonlat  tags.power  \\\n0    4967361644  [-14.336955699999914, 28.063764700000114]  substation   \n1    5293654156          [16.206542499999966, -20.8426169]  substation   \n2    5291355777   [24.52657030000007, -17.727550399999974]  substation   \n3    2466505236  [-16.381263900000057, 28.534258600000015]  substation   \n4    2000011529     [5.580595200000045, 6.357239900000007]  substation   \n..          ...                                        ...         ...   \n520  2539977618   [-16.66755369999997, 28.051217699999974]  substation   \n521  5840061103   [-25.309837200000064, 16.95873199999999]  substation   \n522  1983304051   [22.028369600000204, -33.22827809999993]  substation   \n523  3033268054     [3.229681700000007, 36.72909620000005]  substation   \n524  1907353886   [-16.337803799999964, 28.42590329999999]  substation   \n\n    tags.operator tags.ref tags.substation tags.name  \\\n0             NaN      NaN             NaN       NaN   \n1             NaN      NaN             NaN       NaN   \n2             NaN      NaN             NaN       NaN   \n3             NaN      NaN             NaN       NaN   \n4     Transformer      NaN             NaN       NaN   \n..            ...      ...             ...       ...   \n520           NaN      NaN             NaN       NaN   \n521           NaN      NaN             NaN       NaN   \n522           NaN      NaN             NaN       NaN   \n523           NaN      NaN             NaN       NaN   \n524           NaN      NaN             NaN       NaN   \n\n                    tags.source tags.designation tags.addr:city  ...  \\\n0                           NaN              NaN            NaN  ...   \n1                           NaN              NaN            NaN  ...   \n2                           NaN              NaN            NaN  ...   \n3                           NaN              NaN            NaN  ...   \n4                           NaN              NaN            NaN  ...   \n..                          ...              ...            ...  ...   \n520                         NaN              NaN            NaN  ...   \n521                         NaN              NaN            NaN  ...   \n522                         NaN              NaN            NaN  ...   \n523                         NaN              NaN            NaN  ...   \n524  GRAFCAN OrtoExpress Urbana              NaN            NaN  ...   \n\n    tags.man_made tags.street_cabinet tags.disused tags.building tags.barrier  \\\n0             NaN                 NaN          NaN           NaN          NaN   \n1             NaN                 NaN          NaN           NaN          NaN   \n2             NaN                 NaN          NaN           NaN          NaN   \n3             NaN                 NaN          NaN           NaN          NaN   \n4             NaN                 NaN          NaN           NaN          NaN   \n..            ...                 ...          ...           ...          ...   \n520           NaN                 NaN          NaN           NaN          NaN   \n521           NaN                 NaN          NaN           NaN          NaN   \n522           NaN                 NaN          NaN           NaN          NaN   \n523           NaN                 NaN          NaN           NaN          NaN   \n524           NaN                 NaN          NaN           NaN          NaN   \n\n    tags.branch tags.notes tags.operator_type tags.FIXME tags.operator:type  \n0           NaN        NaN                NaN        NaN                NaN  \n1           NaN        NaN                NaN        NaN                NaN  \n2           NaN        NaN                NaN        NaN                NaN  \n3           NaN        NaN                NaN        NaN                NaN  \n4           NaN        NaN                NaN        NaN                NaN  \n..          ...        ...                ...        ...                ...  \n520         NaN        NaN                NaN        NaN                NaN  \n521         NaN        NaN                NaN        NaN                NaN  \n522         NaN        NaN                NaN        NaN                NaN  \n523         NaN        NaN                NaN        NaN                NaN  \n524         NaN        NaN                NaN        NaN                NaN  \n\n[525 rows x 39 columns]",
      "text/html": "<div>\n<style scoped>\n    .dataframe tbody tr th:only-of-type {\n        vertical-align: middle;\n    }\n\n    .dataframe tbody tr th {\n        vertical-align: top;\n    }\n\n    .dataframe thead th {\n        text-align: right;\n    }\n</style>\n<table border=\"1\" class=\"dataframe\">\n  <thead>\n    <tr style=\"text-align: right;\">\n      <th></th>\n      <th>id</th>\n      <th>lonlat</th>\n      <th>tags.power</th>\n      <th>tags.operator</th>\n      <th>tags.ref</th>\n      <th>tags.substation</th>\n      <th>tags.name</th>\n      <th>tags.source</th>\n      <th>tags.designation</th>\n      <th>tags.addr:city</th>\n      <th>...</th>\n      <th>tags.man_made</th>\n      <th>tags.street_cabinet</th>\n      <th>tags.disused</th>\n      <th>tags.building</th>\n      <th>tags.barrier</th>\n      <th>tags.branch</th>\n      <th>tags.notes</th>\n      <th>tags.operator_type</th>\n      <th>tags.FIXME</th>\n      <th>tags.operator:type</th>\n    </tr>\n  </thead>\n  <tbody>\n    <tr>\n      <th>0</th>\n      <td>4967361644</td>\n      <td>[-14.336955699999914, 28.063764700000114]</td>\n      <td>substation</td>\n      <td>NaN</td>\n      <td>NaN</td>\n      <td>NaN</td>\n      <td>NaN</td>\n      <td>NaN</td>\n      <td>NaN</td>\n      <td>NaN</td>\n      <td>...</td>\n      <td>NaN</td>\n      <td>NaN</td>\n      <td>NaN</td>\n      <td>NaN</td>\n      <td>NaN</td>\n      <td>NaN</td>\n      <td>NaN</td>\n      <td>NaN</td>\n      <td>NaN</td>\n      <td>NaN</td>\n    </tr>\n    <tr>\n      <th>1</th>\n      <td>5293654156</td>\n      <td>[16.206542499999966, -20.8426169]</td>\n      <td>substation</td>\n      <td>NaN</td>\n      <td>NaN</td>\n      <td>NaN</td>\n      <td>NaN</td>\n      <td>NaN</td>\n      <td>NaN</td>\n      <td>NaN</td>\n      <td>...</td>\n      <td>NaN</td>\n      <td>NaN</td>\n      <td>NaN</td>\n      <td>NaN</td>\n      <td>NaN</td>\n      <td>NaN</td>\n      <td>NaN</td>\n      <td>NaN</td>\n      <td>NaN</td>\n      <td>NaN</td>\n    </tr>\n    <tr>\n      <th>2</th>\n      <td>5291355777</td>\n      <td>[24.52657030000007, -17.727550399999974]</td>\n      <td>substation</td>\n      <td>NaN</td>\n      <td>NaN</td>\n      <td>NaN</td>\n      <td>NaN</td>\n      <td>NaN</td>\n      <td>NaN</td>\n      <td>NaN</td>\n      <td>...</td>\n      <td>NaN</td>\n      <td>NaN</td>\n      <td>NaN</td>\n      <td>NaN</td>\n      <td>NaN</td>\n      <td>NaN</td>\n      <td>NaN</td>\n      <td>NaN</td>\n      <td>NaN</td>\n      <td>NaN</td>\n    </tr>\n    <tr>\n      <th>3</th>\n      <td>2466505236</td>\n      <td>[-16.381263900000057, 28.534258600000015]</td>\n      <td>substation</td>\n      <td>NaN</td>\n      <td>NaN</td>\n      <td>NaN</td>\n      <td>NaN</td>\n      <td>NaN</td>\n      <td>NaN</td>\n      <td>NaN</td>\n      <td>...</td>\n      <td>NaN</td>\n      <td>NaN</td>\n      <td>NaN</td>\n      <td>NaN</td>\n      <td>NaN</td>\n      <td>NaN</td>\n      <td>NaN</td>\n      <td>NaN</td>\n      <td>NaN</td>\n      <td>NaN</td>\n    </tr>\n    <tr>\n      <th>4</th>\n      <td>2000011529</td>\n      <td>[5.580595200000045, 6.357239900000007]</td>\n      <td>substation</td>\n      <td>Transformer</td>\n      <td>NaN</td>\n      <td>NaN</td>\n      <td>NaN</td>\n      <td>NaN</td>\n      <td>NaN</td>\n      <td>NaN</td>\n      <td>...</td>\n      <td>NaN</td>\n      <td>NaN</td>\n      <td>NaN</td>\n      <td>NaN</td>\n      <td>NaN</td>\n      <td>NaN</td>\n      <td>NaN</td>\n      <td>NaN</td>\n      <td>NaN</td>\n      <td>NaN</td>\n    </tr>\n    <tr>\n      <th>...</th>\n      <td>...</td>\n      <td>...</td>\n      <td>...</td>\n      <td>...</td>\n      <td>...</td>\n      <td>...</td>\n      <td>...</td>\n      <td>...</td>\n      <td>...</td>\n      <td>...</td>\n      <td>...</td>\n      <td>...</td>\n      <td>...</td>\n      <td>...</td>\n      <td>...</td>\n      <td>...</td>\n      <td>...</td>\n      <td>...</td>\n      <td>...</td>\n      <td>...</td>\n      <td>...</td>\n    </tr>\n    <tr>\n      <th>520</th>\n      <td>2539977618</td>\n      <td>[-16.66755369999997, 28.051217699999974]</td>\n      <td>substation</td>\n      <td>NaN</td>\n      <td>NaN</td>\n      <td>NaN</td>\n      <td>NaN</td>\n      <td>NaN</td>\n      <td>NaN</td>\n      <td>NaN</td>\n      <td>...</td>\n      <td>NaN</td>\n      <td>NaN</td>\n      <td>NaN</td>\n      <td>NaN</td>\n      <td>NaN</td>\n      <td>NaN</td>\n      <td>NaN</td>\n      <td>NaN</td>\n      <td>NaN</td>\n      <td>NaN</td>\n    </tr>\n    <tr>\n      <th>521</th>\n      <td>5840061103</td>\n      <td>[-25.309837200000064, 16.95873199999999]</td>\n      <td>substation</td>\n      <td>NaN</td>\n      <td>NaN</td>\n      <td>NaN</td>\n      <td>NaN</td>\n      <td>NaN</td>\n      <td>NaN</td>\n      <td>NaN</td>\n      <td>...</td>\n      <td>NaN</td>\n      <td>NaN</td>\n      <td>NaN</td>\n      <td>NaN</td>\n      <td>NaN</td>\n      <td>NaN</td>\n      <td>NaN</td>\n      <td>NaN</td>\n      <td>NaN</td>\n      <td>NaN</td>\n    </tr>\n    <tr>\n      <th>522</th>\n      <td>1983304051</td>\n      <td>[22.028369600000204, -33.22827809999993]</td>\n      <td>substation</td>\n      <td>NaN</td>\n      <td>NaN</td>\n      <td>NaN</td>\n      <td>NaN</td>\n      <td>NaN</td>\n      <td>NaN</td>\n      <td>NaN</td>\n      <td>...</td>\n      <td>NaN</td>\n      <td>NaN</td>\n      <td>NaN</td>\n      <td>NaN</td>\n      <td>NaN</td>\n      <td>NaN</td>\n      <td>NaN</td>\n      <td>NaN</td>\n      <td>NaN</td>\n      <td>NaN</td>\n    </tr>\n    <tr>\n      <th>523</th>\n      <td>3033268054</td>\n      <td>[3.229681700000007, 36.72909620000005]</td>\n      <td>substation</td>\n      <td>NaN</td>\n      <td>NaN</td>\n      <td>NaN</td>\n      <td>NaN</td>\n      <td>NaN</td>\n      <td>NaN</td>\n      <td>NaN</td>\n      <td>...</td>\n      <td>NaN</td>\n      <td>NaN</td>\n      <td>NaN</td>\n      <td>NaN</td>\n      <td>NaN</td>\n      <td>NaN</td>\n      <td>NaN</td>\n      <td>NaN</td>\n      <td>NaN</td>\n      <td>NaN</td>\n    </tr>\n    <tr>\n      <th>524</th>\n      <td>1907353886</td>\n      <td>[-16.337803799999964, 28.42590329999999]</td>\n      <td>substation</td>\n      <td>NaN</td>\n      <td>NaN</td>\n      <td>NaN</td>\n      <td>NaN</td>\n      <td>GRAFCAN OrtoExpress Urbana</td>\n      <td>NaN</td>\n      <td>NaN</td>\n      <td>...</td>\n      <td>NaN</td>\n      <td>NaN</td>\n      <td>NaN</td>\n      <td>NaN</td>\n      <td>NaN</td>\n      <td>NaN</td>\n      <td>NaN</td>\n      <td>NaN</td>\n      <td>NaN</td>\n      <td>NaN</td>\n    </tr>\n  </tbody>\n</table>\n<p>525 rows × 39 columns</p>\n</div>"
     },
     "metadata": {}
    }
   ],
   "source": [
    "df1 = pd.json_normalize(Elements[elementname][\"Node\"].values())\n",
    "df1 = df1.dropna(axis=1, how='all')\n",
    "\n",
    "display(df1)\n"
   ]
  },
  {
   "cell_type": "code",
   "execution_count": 41,
   "metadata": {},
   "outputs": [
    {
     "output_type": "display_data",
     "data": {
      "text/plain": "             id                                               refs  \\\n0      90137992  [1044958475, 1044958478, 1044958443, 104495847...   \n2     219596292  [2287444706, 2287444696, 2287444709, 228744469...   \n5     694348420  [6518987551, 6518987549, 6518987548, 651898755...   \n6     302904657  [3071892870, 3071892871, 3071892873, 307189287...   \n9      90454383  [1049492731, 1049492535, 1049493108, 104949262...   \n...         ...                                                ...   \n6818  223115963  [2320515555, 2320515539, 2320515553, 232051555...   \n6819  302127350  [3063706734, 3063706732, 3063706728, 306370673...   \n6822  695523467  [6530697089, 6530697088, 6530697087, 653069708...   \n6824  204050015  [2140628605, 2140628602, 2140628606, 214062860...   \n6825  840356742  [7841599629, 7841599628, 7841599627, 784159962...   \n\n                               tags.fixme  tags.power tags.access  \\\n0     name,ref,operator,voltage,frequency  substation          no   \n2                                     NaN  substation         NaN   \n5                                     NaN  substation         NaN   \n6                                     NaN  substation         NaN   \n9                                     NaN  substation         NaN   \n...                                   ...         ...         ...   \n6818                                  NaN  substation         NaN   \n6819                                  NaN  substation         NaN   \n6822                                  NaN  substation         NaN   \n6824                                  NaN  substation         NaN   \n6825                                  NaN  substation         NaN   \n\n     tags.barrier          tags.voltage tags.location tags.substation  \\\n0           fence                 66000       outdoor    distribution   \n2             NaN                 88000       outdoor    distribution   \n5             NaN                110000       outdoor      industrial   \n6           fence                110000       outdoor    transmission   \n9             NaN  400000;220000;132000       outdoor    transmission   \n...           ...                   ...           ...             ...   \n6818        fence                220000       outdoor    transmission   \n6819          NaN                161000       outdoor             NaN   \n6822          NaN                 66000           NaN             NaN   \n6824          NaN                132000       outdoor    distribution   \n6825          NaN                225000           NaN             NaN   \n\n     tags.height  ... tags.note tags.description tags.gas_insulated  \\\n0            NaN  ...       NaN              NaN                NaN   \n2            NaN  ...       NaN              NaN                NaN   \n5            NaN  ...       NaN              NaN                NaN   \n6            NaN  ...       NaN              NaN                NaN   \n9            NaN  ...       NaN              NaN                NaN   \n...          ...  ...       ...              ...                ...   \n6818         NaN  ...       NaN              NaN                NaN   \n6819         NaN  ...       NaN              NaN                NaN   \n6822         NaN  ...       NaN              NaN                NaN   \n6824         NaN  ...       NaN              NaN                NaN   \n6825         NaN  ...       NaN              NaN                NaN   \n\n     tags.website tags.start_date tags.generator:output:electricity  \\\n0             NaN             NaN                               NaN   \n2             NaN             NaN                               NaN   \n5             NaN             NaN                               NaN   \n6             NaN             NaN                               NaN   \n9             NaN             NaN                               NaN   \n...           ...             ...                               ...   \n6818          NaN             NaN                               NaN   \n6819          NaN             NaN                               NaN   \n6822          NaN             NaN                               NaN   \n6824          NaN             NaN                               NaN   \n6825          NaN             NaN                               NaN   \n\n     tags.owner tags.addr:suburb tags.operator:fr  \\\n0           NaN              NaN              NaN   \n2           NaN              NaN              NaN   \n5           NaN              NaN              NaN   \n6           NaN              NaN              NaN   \n9           NaN              NaN              NaN   \n...         ...              ...              ...   \n6818        NaN              NaN              NaN   \n6819        NaN              NaN              NaN   \n6822        NaN              NaN              NaN   \n6824        NaN              NaN              NaN   \n6825        NaN              NaN              NaN   \n\n                                         lonlat  \n0     [27.793264257142766, -32.982510257142984]  \n2       [30.68760782857152, -27.96400892857118]  \n5        [13.8535432200001, -4.144742079999883]  \n6     [13.289175300000187, -4.1735521200000125]  \n9      [25.632686079999928, -33.71928261999984]  \n...                                         ...  \n6818    [31.42202072857132, 21.774249871428687]  \n6819  [-0.36905076249995517, 6.209410687499963]  \n6822    [4.470365639999967, 35.703675340000025]  \n6824    [26.83819403999998, -27.95507242000005]  \n6825  [-15.524601519999933, 13.438954939999997]  \n\n[2721 rows x 61 columns]",
      "text/html": "<div>\n<style scoped>\n    .dataframe tbody tr th:only-of-type {\n        vertical-align: middle;\n    }\n\n    .dataframe tbody tr th {\n        vertical-align: top;\n    }\n\n    .dataframe thead th {\n        text-align: right;\n    }\n</style>\n<table border=\"1\" class=\"dataframe\">\n  <thead>\n    <tr style=\"text-align: right;\">\n      <th></th>\n      <th>id</th>\n      <th>refs</th>\n      <th>tags.fixme</th>\n      <th>tags.power</th>\n      <th>tags.access</th>\n      <th>tags.barrier</th>\n      <th>tags.voltage</th>\n      <th>tags.location</th>\n      <th>tags.substation</th>\n      <th>tags.height</th>\n      <th>...</th>\n      <th>tags.note</th>\n      <th>tags.description</th>\n      <th>tags.gas_insulated</th>\n      <th>tags.website</th>\n      <th>tags.start_date</th>\n      <th>tags.generator:output:electricity</th>\n      <th>tags.owner</th>\n      <th>tags.addr:suburb</th>\n      <th>tags.operator:fr</th>\n      <th>lonlat</th>\n    </tr>\n  </thead>\n  <tbody>\n    <tr>\n      <th>0</th>\n      <td>90137992</td>\n      <td>[1044958475, 1044958478, 1044958443, 104495847...</td>\n      <td>name,ref,operator,voltage,frequency</td>\n      <td>substation</td>\n      <td>no</td>\n      <td>fence</td>\n      <td>66000</td>\n      <td>outdoor</td>\n      <td>distribution</td>\n      <td>NaN</td>\n      <td>...</td>\n      <td>NaN</td>\n      <td>NaN</td>\n      <td>NaN</td>\n      <td>NaN</td>\n      <td>NaN</td>\n      <td>NaN</td>\n      <td>NaN</td>\n      <td>NaN</td>\n      <td>NaN</td>\n      <td>[27.793264257142766, -32.982510257142984]</td>\n    </tr>\n    <tr>\n      <th>2</th>\n      <td>219596292</td>\n      <td>[2287444706, 2287444696, 2287444709, 228744469...</td>\n      <td>NaN</td>\n      <td>substation</td>\n      <td>NaN</td>\n      <td>NaN</td>\n      <td>88000</td>\n      <td>outdoor</td>\n      <td>distribution</td>\n      <td>NaN</td>\n      <td>...</td>\n      <td>NaN</td>\n      <td>NaN</td>\n      <td>NaN</td>\n      <td>NaN</td>\n      <td>NaN</td>\n      <td>NaN</td>\n      <td>NaN</td>\n      <td>NaN</td>\n      <td>NaN</td>\n      <td>[30.68760782857152, -27.96400892857118]</td>\n    </tr>\n    <tr>\n      <th>5</th>\n      <td>694348420</td>\n      <td>[6518987551, 6518987549, 6518987548, 651898755...</td>\n      <td>NaN</td>\n      <td>substation</td>\n      <td>NaN</td>\n      <td>NaN</td>\n      <td>110000</td>\n      <td>outdoor</td>\n      <td>industrial</td>\n      <td>NaN</td>\n      <td>...</td>\n      <td>NaN</td>\n      <td>NaN</td>\n      <td>NaN</td>\n      <td>NaN</td>\n      <td>NaN</td>\n      <td>NaN</td>\n      <td>NaN</td>\n      <td>NaN</td>\n      <td>NaN</td>\n      <td>[13.8535432200001, -4.144742079999883]</td>\n    </tr>\n    <tr>\n      <th>6</th>\n      <td>302904657</td>\n      <td>[3071892870, 3071892871, 3071892873, 307189287...</td>\n      <td>NaN</td>\n      <td>substation</td>\n      <td>NaN</td>\n      <td>fence</td>\n      <td>110000</td>\n      <td>outdoor</td>\n      <td>transmission</td>\n      <td>NaN</td>\n      <td>...</td>\n      <td>NaN</td>\n      <td>NaN</td>\n      <td>NaN</td>\n      <td>NaN</td>\n      <td>NaN</td>\n      <td>NaN</td>\n      <td>NaN</td>\n      <td>NaN</td>\n      <td>NaN</td>\n      <td>[13.289175300000187, -4.1735521200000125]</td>\n    </tr>\n    <tr>\n      <th>9</th>\n      <td>90454383</td>\n      <td>[1049492731, 1049492535, 1049493108, 104949262...</td>\n      <td>NaN</td>\n      <td>substation</td>\n      <td>NaN</td>\n      <td>NaN</td>\n      <td>400000;220000;132000</td>\n      <td>outdoor</td>\n      <td>transmission</td>\n      <td>NaN</td>\n      <td>...</td>\n      <td>NaN</td>\n      <td>NaN</td>\n      <td>NaN</td>\n      <td>NaN</td>\n      <td>NaN</td>\n      <td>NaN</td>\n      <td>NaN</td>\n      <td>NaN</td>\n      <td>NaN</td>\n      <td>[25.632686079999928, -33.71928261999984]</td>\n    </tr>\n    <tr>\n      <th>...</th>\n      <td>...</td>\n      <td>...</td>\n      <td>...</td>\n      <td>...</td>\n      <td>...</td>\n      <td>...</td>\n      <td>...</td>\n      <td>...</td>\n      <td>...</td>\n      <td>...</td>\n      <td>...</td>\n      <td>...</td>\n      <td>...</td>\n      <td>...</td>\n      <td>...</td>\n      <td>...</td>\n      <td>...</td>\n      <td>...</td>\n      <td>...</td>\n      <td>...</td>\n      <td>...</td>\n    </tr>\n    <tr>\n      <th>6818</th>\n      <td>223115963</td>\n      <td>[2320515555, 2320515539, 2320515553, 232051555...</td>\n      <td>NaN</td>\n      <td>substation</td>\n      <td>NaN</td>\n      <td>fence</td>\n      <td>220000</td>\n      <td>outdoor</td>\n      <td>transmission</td>\n      <td>NaN</td>\n      <td>...</td>\n      <td>NaN</td>\n      <td>NaN</td>\n      <td>NaN</td>\n      <td>NaN</td>\n      <td>NaN</td>\n      <td>NaN</td>\n      <td>NaN</td>\n      <td>NaN</td>\n      <td>NaN</td>\n      <td>[31.42202072857132, 21.774249871428687]</td>\n    </tr>\n    <tr>\n      <th>6819</th>\n      <td>302127350</td>\n      <td>[3063706734, 3063706732, 3063706728, 306370673...</td>\n      <td>NaN</td>\n      <td>substation</td>\n      <td>NaN</td>\n      <td>NaN</td>\n      <td>161000</td>\n      <td>outdoor</td>\n      <td>NaN</td>\n      <td>NaN</td>\n      <td>...</td>\n      <td>NaN</td>\n      <td>NaN</td>\n      <td>NaN</td>\n      <td>NaN</td>\n      <td>NaN</td>\n      <td>NaN</td>\n      <td>NaN</td>\n      <td>NaN</td>\n      <td>NaN</td>\n      <td>[-0.36905076249995517, 6.209410687499963]</td>\n    </tr>\n    <tr>\n      <th>6822</th>\n      <td>695523467</td>\n      <td>[6530697089, 6530697088, 6530697087, 653069708...</td>\n      <td>NaN</td>\n      <td>substation</td>\n      <td>NaN</td>\n      <td>NaN</td>\n      <td>66000</td>\n      <td>NaN</td>\n      <td>NaN</td>\n      <td>NaN</td>\n      <td>...</td>\n      <td>NaN</td>\n      <td>NaN</td>\n      <td>NaN</td>\n      <td>NaN</td>\n      <td>NaN</td>\n      <td>NaN</td>\n      <td>NaN</td>\n      <td>NaN</td>\n      <td>NaN</td>\n      <td>[4.470365639999967, 35.703675340000025]</td>\n    </tr>\n    <tr>\n      <th>6824</th>\n      <td>204050015</td>\n      <td>[2140628605, 2140628602, 2140628606, 214062860...</td>\n      <td>NaN</td>\n      <td>substation</td>\n      <td>NaN</td>\n      <td>NaN</td>\n      <td>132000</td>\n      <td>outdoor</td>\n      <td>distribution</td>\n      <td>NaN</td>\n      <td>...</td>\n      <td>NaN</td>\n      <td>NaN</td>\n      <td>NaN</td>\n      <td>NaN</td>\n      <td>NaN</td>\n      <td>NaN</td>\n      <td>NaN</td>\n      <td>NaN</td>\n      <td>NaN</td>\n      <td>[26.83819403999998, -27.95507242000005]</td>\n    </tr>\n    <tr>\n      <th>6825</th>\n      <td>840356742</td>\n      <td>[7841599629, 7841599628, 7841599627, 784159962...</td>\n      <td>NaN</td>\n      <td>substation</td>\n      <td>NaN</td>\n      <td>NaN</td>\n      <td>225000</td>\n      <td>NaN</td>\n      <td>NaN</td>\n      <td>NaN</td>\n      <td>...</td>\n      <td>NaN</td>\n      <td>NaN</td>\n      <td>NaN</td>\n      <td>NaN</td>\n      <td>NaN</td>\n      <td>NaN</td>\n      <td>NaN</td>\n      <td>NaN</td>\n      <td>NaN</td>\n      <td>[-15.524601519999933, 13.438954939999997]</td>\n    </tr>\n  </tbody>\n</table>\n<p>2721 rows × 61 columns</p>\n</div>"
     },
     "metadata": {}
    }
   ],
   "source": [
    "lonlat_column =[]\n",
    "for ref in df[\"refs\"]:\n",
    "    lonlats =[]\n",
    "    for r in ref:\n",
    "        lonlat = Data[\"Node\"][str(r)][\"lonlat\"]\n",
    "        lonlats.append(lonlat)\n",
    "    lonlats = np.array(lonlats)\n",
    "    lonlat = np.mean(lonlats, axis=0)\n",
    "    lonlat_column.append(lonlat)\n",
    "# display(lonlat_column)\n",
    "df[\"lonlat\"] = lonlat_column\n",
    "\n",
    "display(df)\n",
    "    \n",
    "# polygon_column=[]\n",
    "# for poly_list in lonlat_column:\n",
    "#     for p in poly_list:\n",
    "#         print(p)\n",
    "\n",
    "#     print(\"p\")\n",
    "    "
   ]
  },
  {
   "cell_type": "code",
   "execution_count": 37,
   "metadata": {},
   "outputs": [
    {
     "output_type": "error",
     "ename": "SyntaxError",
     "evalue": "unexpected EOF while parsing (<ipython-input-37-5e7ee8241d35>, line 1)",
     "traceback": [
      "\u001b[0;36m  File \u001b[0;32m\"<ipython-input-37-5e7ee8241d35>\"\u001b[0;36m, line \u001b[0;32m1\u001b[0m\n\u001b[0;31m    gdf = gpd.GeoDataFrame(f, geometry=[Point(x, y) for x, y in df.lonlat]\u001b[0m\n\u001b[0m                                                                          ^\u001b[0m\n\u001b[0;31mSyntaxError\u001b[0m\u001b[0;31m:\u001b[0m unexpected EOF while parsing\n"
     ]
    }
   ],
   "source": [
    "gdf = gpd.GeoDataFrame(f, geometry=[Point(x, y) for x, y in df.lonlat])"
   ]
  },
  {
   "cell_type": "code",
   "execution_count": 29,
   "metadata": {},
   "outputs": [
    {
     "output_type": "display_data",
     "data": {
      "text/plain": "            id                                               refs  tags.power  \\\n0    669957212  [6274221433, 6274221434, 6274221435, 627422143...  substation   \n1    563715917  [5432096542, 5432096541, 5432096540, 543209653...  substation   \n2    477596994  [4709180541, 4709180540, 4709180539, 470918053...  substation   \n9    565866986  [5448653454, 5448653453, 5448653452, 544865344...  substation   \n12   746582404  [6986702202, 6986702201, 6986702200, 698670219...  substation   \n..         ...                                                ...         ...   \n153  395182307  [3980844354, 3980844347, 3980844352, 398084436...  substation   \n160  215459565  [2249105625, 2258352498, 2249105563, 225835251...  substation   \n163  563720436  [5432144602, 5432144601, 5432144600, 543214459...  substation   \n165  563723584  [6533861857, 5432184095, 6533861856, 543218409...  substation   \n167  567535340  [5462602236, 5462602234, 5462602233, 546260223...  substation   \n\n      tags.voltage tags.location tags.substation tags.fixme tags.barrier  \\\n0    330000;132000       outdoor    transmission        NaN          NaN   \n1           330000       outdoor    transmission        NaN          NaN   \n2    330000;132000       outdoor    transmission       name          NaN   \n9           330000       outdoor    transmission       name          NaN   \n12          330000       outdoor    transmission        NaN          NaN   \n..             ...           ...             ...        ...          ...   \n153         132000       outdoor    transmission        NaN          NaN   \n160  330000;132000       outdoor    transmission        NaN        fence   \n163         132000       outdoor    transmission        NaN          NaN   \n165  330000;132000       outdoor    transmission        NaN          NaN   \n167         132000       outdoor    transmission        NaN          NaN   \n\n    tags.name                                    lonlat  \\\n0         NaN   [3.6143597400000296, 6.565371219999987]   \n1         NaN    [6.629980380000002, 7.822560159999988]   \n2         NaN     [4.577366299999998, 7.80037873333333]   \n9         NaN   [4.708973323076923, 6.7342855230769185]   \n12        NaN     [7.15676494999997, 4.762162887499925]   \n..        ...                                       ...   \n153       NaN   [9.348810479999997, 11.689970420000018]   \n160       NaN    [6.654831054545443, 7.471823409090908]   \n163       NaN           [8.4566884, 11.873461219999996]   \n165       NaN  [12.033366322222243, 11.723595733333333]   \n167       NaN   [3.6093955599999767, 7.966466460000059]   \n\n                      geometry  \n0      POINT (3.61436 6.56537)  \n1      POINT (6.62998 7.82256)  \n2      POINT (4.57737 7.80038)  \n9      POINT (4.70897 6.73429)  \n12     POINT (7.15676 4.76216)  \n..                         ...  \n153   POINT (9.34881 11.68997)  \n160    POINT (6.65483 7.47182)  \n163   POINT (8.45669 11.87346)  \n165  POINT (12.03337 11.72360)  \n167    POINT (3.60940 7.96647)  \n\n[61 rows x 11 columns]",
      "text/html": "<div>\n<style scoped>\n    .dataframe tbody tr th:only-of-type {\n        vertical-align: middle;\n    }\n\n    .dataframe tbody tr th {\n        vertical-align: top;\n    }\n\n    .dataframe thead th {\n        text-align: right;\n    }\n</style>\n<table border=\"1\" class=\"dataframe\">\n  <thead>\n    <tr style=\"text-align: right;\">\n      <th></th>\n      <th>id</th>\n      <th>refs</th>\n      <th>tags.power</th>\n      <th>tags.voltage</th>\n      <th>tags.location</th>\n      <th>tags.substation</th>\n      <th>tags.fixme</th>\n      <th>tags.barrier</th>\n      <th>tags.name</th>\n      <th>lonlat</th>\n      <th>geometry</th>\n    </tr>\n  </thead>\n  <tbody>\n    <tr>\n      <th>0</th>\n      <td>669957212</td>\n      <td>[6274221433, 6274221434, 6274221435, 627422143...</td>\n      <td>substation</td>\n      <td>330000;132000</td>\n      <td>outdoor</td>\n      <td>transmission</td>\n      <td>NaN</td>\n      <td>NaN</td>\n      <td>NaN</td>\n      <td>[3.6143597400000296, 6.565371219999987]</td>\n      <td>POINT (3.61436 6.56537)</td>\n    </tr>\n    <tr>\n      <th>1</th>\n      <td>563715917</td>\n      <td>[5432096542, 5432096541, 5432096540, 543209653...</td>\n      <td>substation</td>\n      <td>330000</td>\n      <td>outdoor</td>\n      <td>transmission</td>\n      <td>NaN</td>\n      <td>NaN</td>\n      <td>NaN</td>\n      <td>[6.629980380000002, 7.822560159999988]</td>\n      <td>POINT (6.62998 7.82256)</td>\n    </tr>\n    <tr>\n      <th>2</th>\n      <td>477596994</td>\n      <td>[4709180541, 4709180540, 4709180539, 470918053...</td>\n      <td>substation</td>\n      <td>330000;132000</td>\n      <td>outdoor</td>\n      <td>transmission</td>\n      <td>name</td>\n      <td>NaN</td>\n      <td>NaN</td>\n      <td>[4.577366299999998, 7.80037873333333]</td>\n      <td>POINT (4.57737 7.80038)</td>\n    </tr>\n    <tr>\n      <th>9</th>\n      <td>565866986</td>\n      <td>[5448653454, 5448653453, 5448653452, 544865344...</td>\n      <td>substation</td>\n      <td>330000</td>\n      <td>outdoor</td>\n      <td>transmission</td>\n      <td>name</td>\n      <td>NaN</td>\n      <td>NaN</td>\n      <td>[4.708973323076923, 6.7342855230769185]</td>\n      <td>POINT (4.70897 6.73429)</td>\n    </tr>\n    <tr>\n      <th>12</th>\n      <td>746582404</td>\n      <td>[6986702202, 6986702201, 6986702200, 698670219...</td>\n      <td>substation</td>\n      <td>330000</td>\n      <td>outdoor</td>\n      <td>transmission</td>\n      <td>NaN</td>\n      <td>NaN</td>\n      <td>NaN</td>\n      <td>[7.15676494999997, 4.762162887499925]</td>\n      <td>POINT (7.15676 4.76216)</td>\n    </tr>\n    <tr>\n      <th>...</th>\n      <td>...</td>\n      <td>...</td>\n      <td>...</td>\n      <td>...</td>\n      <td>...</td>\n      <td>...</td>\n      <td>...</td>\n      <td>...</td>\n      <td>...</td>\n      <td>...</td>\n      <td>...</td>\n    </tr>\n    <tr>\n      <th>153</th>\n      <td>395182307</td>\n      <td>[3980844354, 3980844347, 3980844352, 398084436...</td>\n      <td>substation</td>\n      <td>132000</td>\n      <td>outdoor</td>\n      <td>transmission</td>\n      <td>NaN</td>\n      <td>NaN</td>\n      <td>NaN</td>\n      <td>[9.348810479999997, 11.689970420000018]</td>\n      <td>POINT (9.34881 11.68997)</td>\n    </tr>\n    <tr>\n      <th>160</th>\n      <td>215459565</td>\n      <td>[2249105625, 2258352498, 2249105563, 225835251...</td>\n      <td>substation</td>\n      <td>330000;132000</td>\n      <td>outdoor</td>\n      <td>transmission</td>\n      <td>NaN</td>\n      <td>fence</td>\n      <td>NaN</td>\n      <td>[6.654831054545443, 7.471823409090908]</td>\n      <td>POINT (6.65483 7.47182)</td>\n    </tr>\n    <tr>\n      <th>163</th>\n      <td>563720436</td>\n      <td>[5432144602, 5432144601, 5432144600, 543214459...</td>\n      <td>substation</td>\n      <td>132000</td>\n      <td>outdoor</td>\n      <td>transmission</td>\n      <td>NaN</td>\n      <td>NaN</td>\n      <td>NaN</td>\n      <td>[8.4566884, 11.873461219999996]</td>\n      <td>POINT (8.45669 11.87346)</td>\n    </tr>\n    <tr>\n      <th>165</th>\n      <td>563723584</td>\n      <td>[6533861857, 5432184095, 6533861856, 543218409...</td>\n      <td>substation</td>\n      <td>330000;132000</td>\n      <td>outdoor</td>\n      <td>transmission</td>\n      <td>NaN</td>\n      <td>NaN</td>\n      <td>NaN</td>\n      <td>[12.033366322222243, 11.723595733333333]</td>\n      <td>POINT (12.03337 11.72360)</td>\n    </tr>\n    <tr>\n      <th>167</th>\n      <td>567535340</td>\n      <td>[5462602236, 5462602234, 5462602233, 546260223...</td>\n      <td>substation</td>\n      <td>132000</td>\n      <td>outdoor</td>\n      <td>transmission</td>\n      <td>NaN</td>\n      <td>NaN</td>\n      <td>NaN</td>\n      <td>[3.6093955599999767, 7.966466460000059]</td>\n      <td>POINT (3.60940 7.96647)</td>\n    </tr>\n  </tbody>\n</table>\n<p>61 rows × 11 columns</p>\n</div>"
     },
     "metadata": {}
    }
   ],
   "source": [
    "display(gdf)"
   ]
  },
  {
   "cell_type": "code",
   "execution_count": 38,
   "metadata": {},
   "outputs": [],
   "source": [
    "gdf = gdf.drop(columns=['lonlat'])\n",
    "gdf = gdf.drop(columns=['refs'])\n",
    "gdf.to_file(f\"./{countr_cod}.geojson\", driver=\"GeoJSON\")  "
   ]
  },
  {
   "cell_type": "code",
   "execution_count": 51,
   "metadata": {},
   "outputs": [],
   "source": [
    "world = gpd.read_file(gpd.datasets.get_path('naturalearth_lowres'))\n",
    "#world\n",
    "saudi = world.query('name == \"Saudi Arabia\"')\n",
    "yemen = world.query('name == \"Yemen\"')\n",
    "iraq = world.query('name == \"Iraq\"')\n",
    "oman = world.query('name == \"Oman\"')\n",
    "uae = world.query('name == \"United Arab Emirates\"')\n",
    "jordan = world.query('name == \"Jordan\"')\n",
    "palestine = world.query('name == \"Palestine\"')\n",
    "israel = world.query('name == \"Israel\"')\n",
    "qatar = world.query('name == \"Qatar\"')\n",
    "kuwait = world.query('name == \"Kuwait\"')\n",
    "\n",
    "mena = saudi.append(yemen).append(iraq).append(oman).append(uae).append(jordan).append(palestine).append(israel).append(qatar).append(kuwait)\n",
    "\n",
    "africa = world.query('continent == \"Africa\"').append(mena)\n",
    "#africa.head()"
   ]
  },
  {
   "cell_type": "code",
   "execution_count": 1,
   "metadata": {},
   "outputs": [
    {
     "output_type": "error",
     "ename": "NameError",
     "evalue": "name 'gpd' is not defined",
     "traceback": [
      "\u001b[0;31m---------------------------------------------------------------------------\u001b[0m",
      "\u001b[0;31mNameError\u001b[0m                                 Traceback (most recent call last)",
      "\u001b[0;32m<ipython-input-1-18ad1731f3be>\u001b[0m in \u001b[0;36m<module>\u001b[0;34m\u001b[0m\n\u001b[1;32m      1\u001b[0m \u001b[0;32mimport\u001b[0m \u001b[0mgeoplot\u001b[0m\u001b[0;34m\u001b[0m\u001b[0;34m\u001b[0m\u001b[0m\n\u001b[0;32m----> 2\u001b[0;31m \u001b[0mnigeria\u001b[0m \u001b[0;34m=\u001b[0m \u001b[0mgpd\u001b[0m\u001b[0;34m.\u001b[0m\u001b[0mread_file\u001b[0m\u001b[0;34m(\u001b[0m\u001b[0;34m'./my.geojson'\u001b[0m\u001b[0;34m)\u001b[0m\u001b[0;34m\u001b[0m\u001b[0;34m\u001b[0m\u001b[0m\n\u001b[0m\u001b[1;32m      3\u001b[0m \u001b[0;31m# url = 'https://development-data-hub-s3-public.s3.amazonaws.com/ddhfiles/144823/africagrid20170906final.geojson'\u001b[0m\u001b[0;34m\u001b[0m\u001b[0;34m\u001b[0m\u001b[0;34m\u001b[0m\u001b[0m\n\u001b[1;32m      4\u001b[0m \u001b[0;31m# africa_network = gpd.read_file(url)\u001b[0m\u001b[0;34m\u001b[0m\u001b[0;34m\u001b[0m\u001b[0;34m\u001b[0m\u001b[0m\n\u001b[1;32m      5\u001b[0m \u001b[0max\u001b[0m \u001b[0;34m=\u001b[0m \u001b[0mnigeria\u001b[0m\u001b[0;34m.\u001b[0m\u001b[0mplot\u001b[0m\u001b[0;34m(\u001b[0m\u001b[0mfigsize\u001b[0m\u001b[0;34m=\u001b[0m\u001b[0;34m(\u001b[0m\u001b[0;36m20\u001b[0m\u001b[0;34m,\u001b[0m \u001b[0;36m20\u001b[0m\u001b[0;34m)\u001b[0m\u001b[0;34m,\u001b[0m\u001b[0malpha\u001b[0m \u001b[0;34m=\u001b[0m \u001b[0;36m0.7\u001b[0m\u001b[0;34m)\u001b[0m\u001b[0;34m\u001b[0m\u001b[0;34m\u001b[0m\u001b[0m\n",
      "\u001b[0;31mNameError\u001b[0m: name 'gpd' is not defined"
     ]
    }
   ],
   "source": [
    "import geoplot\n",
    "nigeria = gpd.read_file('./my.geojson')\n",
    "# url = 'https://development-data-hub-s3-public.s3.amazonaws.com/ddhfiles/144823/africagrid20170906final.geojson'\n",
    "# africa_network = gpd.read_file(url)\n",
    "ax = nigeria.plot(figsize=(20, 20),alpha = 0.7)\n",
    "geoplot.pointplot(nigeria, edgecolor='gray', ax=ax)\n",
    "geoplot.polyplot(africa, edgecolor='gray', ax=ax)"
   ]
  },
  {
   "cell_type": "code",
   "execution_count": null,
   "metadata": {},
   "outputs": [],
   "source": []
  }
 ]
}