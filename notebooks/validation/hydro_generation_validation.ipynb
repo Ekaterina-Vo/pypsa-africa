{
 "cells": [
  {
   "cell_type": "markdown",
   "metadata": {},
   "source": [
    "# Validation of the PyPSA-Africa generation by hydro powerplants\n",
    "\n",
    "This notebooks investigates the total energy generation by hydro powerplants by the workflow\n",
    "\n",
    "To reproduce the findings obtained in this notebook,\n",
    "please run the full snakemake workflow for the Africa.\n",
    "To do so, please set ``countries = [\"Africa\"]`` in the ``config.yaml`` file.\n",
    "\n",
    "Note. The solved network is required as the total generation dispatch of the optimized network is considered. "
   ]
  },
  {
   "cell_type": "code",
   "execution_count": null,
   "metadata": {},
   "outputs": [],
   "source": []
  }
 ],
 "metadata": {
  "language_info": {
   "name": "python"
  },
  "orig_nbformat": 4
 },
 "nbformat": 4,
 "nbformat_minor": 2
}
