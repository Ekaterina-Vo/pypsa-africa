{
 "cells": [
  {
   "cell_type": "markdown",
   "metadata": {},
   "source": [
    "# Validation of the PyPSA-Africa generation by hydro powerplants\n",
    "\n",
    "This notebooks investigates the total energy generation by hydro powerplants by the workflow\n",
    "\n",
    "To reproduce the findings obtained in this notebook,\n",
    "please run the full snakemake workflow for the Africa.\n",
    "To do so, please set ``countries = [\"Africa\"]`` in the ``config.yaml`` file.\n",
    "\n",
    "Note. The solved network is required as the total generation dispatch of the optimized network is considered. "
   ]
  },
  {
   "cell_type": "markdown",
   "metadata": {},
   "source": [
    "## Load python imports"
   ]
  },
  {
   "cell_type": "code",
   "execution_count": 6,
   "metadata": {},
   "outputs": [
    {
     "name": "stdout",
     "output_type": "stream",
     "text": [
      "This is the repository path:  /data/davidef/gitdf/pypsa-africa\n",
      "Had to go 0 folder(s) up.\n"
     ]
    }
   ],
   "source": [
    "import logging\n",
    "import os\n",
    "\n",
    "import pypsa\n",
    "import yaml\n",
    "import pandas as pd\n",
    "import geopandas as gpd\n",
    "import numpy as np\n",
    "import scipy as sp\n",
    "import networkx as nx\n",
    "\n",
    "# plotting stuff\n",
    "import matplotlib.pyplot as plt\n",
    "\n",
    "plt.style.use(\"bmh\")\n",
    "import seaborn as sns  ###\n",
    "import cartopy.crs as ccrs\n",
    "\n",
    "sns.set(style=\"darkgrid\")\n",
    "\n",
    "from scipy.sparse import csgraph\n",
    "from itertools import product\n",
    "\n",
    "from shapely.geometry import Point, LineString\n",
    "import shapely, shapely.prepared, shapely.wkt\n",
    "\n",
    "logger = logging.getLogger(__name__)\n",
    "\n",
    "pd.set_option(\"display.max_columns\", None)\n",
    "pd.set_option(\"display.max_colwidth\", 70)\n",
    "\n",
    "import sys\n",
    "\n",
    "sys.path.append(\"../../\")  # to import helpers\n",
    "from scripts._helpers import sets_path_to_root\n",
    "\n",
    "sets_path_to_root(\"pypsa-africa\")\n",
    "\n",
    "max_node_size = 1.0  # maximum size of a node for plotting purposes [used in plots]"
   ]
  },
  {
   "cell_type": "markdown",
   "metadata": {},
   "source": [
    "## Load network\n",
    "\n",
    "Load the PyPSA sovled network"
   ]
  },
  {
   "cell_type": "code",
   "execution_count": 7,
   "metadata": {},
   "outputs": [
    {
     "name": "stderr",
     "output_type": "stream",
     "text": [
      "INFO:pypsa.io:Imported network elec_s_55_ec_lcopt_Co2L-3H.nc has buses, carriers, generators, global_constraints, lines, links, loads, storage_units, stores\n"
     ]
    }
   ],
   "source": [
    "network = os.getcwd() + \"/results/networks/elec_s_55_ec_lcopt_Co2L-3H.nc\"\n",
    "\n",
    "n = pypsa.Network(network)"
   ]
  },
  {
   "cell_type": "markdown",
   "metadata": {},
   "source": [
    "## Calculate total hydro energy production by powerplants"
   ]
  },
  {
   "cell_type": "markdown",
   "metadata": {},
   "source": [
    "Total energy production by dams [TWh]"
   ]
  },
  {
   "cell_type": "code",
   "execution_count": 8,
   "metadata": {},
   "outputs": [
    {
     "data": {
      "text/plain": [
       "57.630910953093185"
      ]
     },
     "execution_count": 8,
     "metadata": {},
     "output_type": "execute_result"
    }
   ],
   "source": [
    "hydroenergy_by_dams = n.storage_units_t.p.sum().sum() / 1000000\n",
    "hydroenergy_by_dams"
   ]
  },
  {
   "cell_type": "markdown",
   "metadata": {},
   "source": [
    "Total energy production by run-of-river [TWh]"
   ]
  },
  {
   "cell_type": "code",
   "execution_count": 9,
   "metadata": {},
   "outputs": [
    {
     "data": {
      "text/plain": [
       "18.68199810116899"
      ]
     },
     "execution_count": 9,
     "metadata": {},
     "output_type": "execute_result"
    }
   ],
   "source": [
    "ror_gen_index = n.generators[n.generators.carrier == \"ror\"].index\n",
    "hydroenergy_by_ror = n.generators_t.p[ror_gen_index].sum().sum() / 1000000\n",
    "hydroenergy_by_ror"
   ]
  },
  {
   "cell_type": "markdown",
   "metadata": {},
   "source": [
    "Total hydropower energy production [TWh]"
   ]
  },
  {
   "cell_type": "code",
   "execution_count": 10,
   "metadata": {},
   "outputs": [
    {
     "data": {
      "text/plain": [
       "76.31290905426218"
      ]
     },
     "execution_count": 10,
     "metadata": {},
     "output_type": "execute_result"
    }
   ],
   "source": [
    "tot_hydroenergy = hydroenergy_by_dams + hydroenergy_by_ror\n",
    "tot_hydroenergy"
   ]
  },
  {
   "cell_type": "markdown",
   "metadata": {},
   "source": [
    "## Calculate Nigeria hydro energy production by powerplants"
   ]
  },
  {
   "cell_type": "markdown",
   "metadata": {},
   "source": [
    "Get Nigerian hydropower generators by dam [TWh]"
   ]
  },
  {
   "cell_type": "code",
   "execution_count": 11,
   "metadata": {},
   "outputs": [
    {
     "data": {
      "text/plain": [
       "5.503374523382261"
      ]
     },
     "execution_count": 11,
     "metadata": {},
     "output_type": "execute_result"
    }
   ],
   "source": [
    "country_su = n.storage_units_t.p.columns.str.split(\" \", 1).str[0]\n",
    "nigerian_columns_id_su = country_su == \"NG\"\n",
    "nigerian_hydroenergy_dams = (\n",
    "    n.storage_units_t.p.iloc[:, nigerian_columns_id_su].sum().sum() / 1000000\n",
    ")\n",
    "nigerian_hydroenergy_dams"
   ]
  },
  {
   "cell_type": "markdown",
   "metadata": {},
   "source": [
    "Get Nigerian hydropower generators by run-of-river [TWh]"
   ]
  },
  {
   "cell_type": "code",
   "execution_count": 12,
   "metadata": {},
   "outputs": [
    {
     "data": {
      "text/plain": [
       "5.1826106956719595"
      ]
     },
     "execution_count": 12,
     "metadata": {},
     "output_type": "execute_result"
    }
   ],
   "source": [
    "country_ror = n.generators_t.p.columns.str.split(\" \", 1).str[0]\n",
    "nigerian_columns_id_ror = country_ror == \"NG\"\n",
    "nigerian_hydroenergy_ror = (\n",
    "    n.generators_t.p.iloc[:, nigerian_columns_id_ror].sum().sum() / 1000000\n",
    ")\n",
    "nigerian_hydroenergy_ror"
   ]
  },
  {
   "cell_type": "markdown",
   "metadata": {},
   "source": [
    "Total hydropower energy production in Nigeria [TWh]"
   ]
  },
  {
   "cell_type": "code",
   "execution_count": 13,
   "metadata": {},
   "outputs": [
    {
     "data": {
      "text/plain": [
       "10.68598521905422"
      ]
     },
     "execution_count": 13,
     "metadata": {},
     "output_type": "execute_result"
    }
   ],
   "source": [
    "tot_nigerian_hydroenergy = nigerian_hydroenergy_dams + nigerian_hydroenergy_ror\n",
    "tot_nigerian_hydroenergy"
   ]
  },
  {
   "cell_type": "markdown",
   "metadata": {},
   "source": [
    "## Validation of the data with respect to IRENA\n",
    "\n",
    "The data are compared to [IRENA 2020](https://www.irena.org/-/media/Files/IRENA/Agency/Publication/2020/Jul/IRENA_Renewable_Energy_Statistics_2020.pdf) and [IEA 2019](https://www.iea.org/regions/africa)\n",
    "In particular, the following hydropower generation is expected:\n",
    "\n",
    "| Source | Nigeria (2013) | Africa (2013) |\n",
    "|--------|----------------|---------------|\n",
    "| [IRENA 2020](https://www.irena.org/-/media/Files/IRENA/Agency/Publication/2020/Jul/IRENA_Renewable_Energy_Statistics_2020.pdf) | 6.12 TWh | 122.34 TWh |\n",
    "| [IEA 2019](https://www.iea.org/regions/africa) | 5.33 TWh | 120.52 TWh |\n",
    "\n",
    "Print PyPSA result"
   ]
  },
  {
   "cell_type": "code",
   "execution_count": 14,
   "metadata": {},
   "outputs": [
    {
     "name": "stdout",
     "output_type": "stream",
     "text": [
      "| Source    |   Nigeria (2013)  |  Africa (2013) |\n",
      "| PyPSA     |      10.69 TWh    |    76.31 TWh   |\n"
     ]
    }
   ],
   "source": [
    "print(\"| Source    |   Nigeria (2013)  |  Africa (2013) |\")\n",
    "print(\n",
    "    \"| PyPSA     |      %.2f TWh    |    %.2f TWh   |\"\n",
    "    % (tot_nigerian_hydroenergy, tot_hydroenergy)\n",
    ")"
   ]
  }
 ],
 "metadata": {
  "language_info": {
   "name": "python"
  },
  "orig_nbformat": 4
 },
 "nbformat": 4,
 "nbformat_minor": 2
}
