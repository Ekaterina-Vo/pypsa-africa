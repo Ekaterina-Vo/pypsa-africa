{
 "cells": [
  {
   "cell_type": "markdown",
   "metadata": {},
   "source": [
    "# Validation of the PyPSA-Africa Installed capacity\n",
    "\n",
    "This notebooks investigates the data quality of the African electric consumption\n",
    "data by comparing PyPSA, official Nigerian and [IRENA statistics](https://pxweb.irena.org/pxweb/en/IRENASTAT/IRENASTAT__Power%20Capacity%20and%20Generation/ELECCAP_2022_cycle1.px/).\n",
    "\n",
    "To reproduce the findings obtained in this notebook,\n",
    "please run the full snakemake workflow for the Africa.\n",
    "To do so, please set ``countries = [\"Africa\"]`` in the ``config.yaml`` file.\n",
    "\n",
    "Note. An unoptimized prepared network is sufficient for this notebook. "
   ]
  },
  {
   "cell_type": "markdown",
   "metadata": {},
   "source": [
    "## Preparation"
   ]
  },
  {
   "cell_type": "markdown",
   "metadata": {},
   "source": [
    "### Import packages"
   ]
  },
  {
   "cell_type": "code",
   "execution_count": null,
   "metadata": {},
   "outputs": [],
   "source": [
    "# import packages\n",
    "\n",
    "import logging\n",
    "import os\n",
    "\n",
    "import pypsa\n",
    "import numpy as np\n",
    "import matplotlib.pyplot as plt\n",
    "import pandas as pd\n",
    "\n",
    "logger = logging.getLogger(__name__)\n",
    "\n",
    "pd.set_option(\"display.max_columns\", None)\n",
    "pd.set_option(\"display.max_colwidth\", 70)"
   ]
  },
  {
   "cell_type": "markdown",
   "metadata": {},
   "source": [
    "### Set main directory to root folder"
   ]
  },
  {
   "cell_type": "code",
   "execution_count": null,
   "metadata": {},
   "outputs": [],
   "source": [
    "# set current folders\n",
    "import sys\n",
    "\n",
    "sys.path.append(\"../../\")  # adds path to $ .../pypsa-africa\n",
    "from scripts._helpers import sets_path_to_root\n",
    "\n",
    "sets_path_to_root(\"pypsa-africa\")  # moves path to root"
   ]
  },
  {
   "cell_type": "markdown",
   "metadata": {},
   "source": [
    "## 1. Load data "
   ]
  },
  {
   "cell_type": "markdown",
   "metadata": {},
   "source": [
    "#### IRENA data\n",
    "Retrieved from [IRENA statistics](https://pxweb.irena.org/pxweb/en/IRENASTAT/IRENASTAT__Power%20Capacity%20and%20Generation/ELECCAP_2022_cycle1.px/).\\\n",
    "Please, download the statistics for 2020 for all the world and specify the url specified above."
   ]
  },
  {
   "cell_type": "code",
   "execution_count": null,
   "metadata": {},
   "outputs": [],
   "source": [
    "from scripts._helpers import country_name_2_two_digits  # _helpers are from pypsa\n",
    "\n",
    "year_select = 2020\n",
    "\n",
    "IRENA_path = \"ELECCAP_20220716-103856.csv\"\n",
    "df_irena = pd.read_csv(IRENA_path, skiprows=2, encoding=\"latin-1\")\n",
    "df_irena = df_irena[df_irena.loc[:, \"Year\"] == year_select]\n",
    "df_irena = df_irena.iloc[:, [0, 2, 4]]\n",
    "# df = df[df[\"iso_code\"].notna()]  # removes antartica\n",
    "df_irena[\"alpha2\"] = df_irena.loc[:, \"Country/area\"].apply(\n",
    "    lambda x: country_name_2_two_digits(x)\n",
    ")\n",
    "# electricity_demand_owid = df\n",
    "# electricity_demand_owid.tail(2)"
   ]
  },
  {
   "cell_type": "markdown",
   "metadata": {},
   "source": [
    "#### PyPSA generator data\n",
    "\n",
    "Loads the PyPSA generators data"
   ]
  },
  {
   "cell_type": "markdown",
   "metadata": {},
   "source": [
    "##### Load data from the network and create normalized dataframe"
   ]
  },
  {
   "cell_type": "code",
   "execution_count": null,
   "metadata": {},
   "outputs": [],
   "source": [
    "solved_network_path = os.getcwd() + \"/networks/elec_s_55_ec.nc\"\n",
    "pypsa_network = pypsa.Network(solved_network_path)\n",
    "\n",
    "# statistics of non-storage units\n",
    "installed_capacity_nostorages = pypsa_network.generators.copy()\n",
    "installed_capacity_nostorages.loc[:, \"alpha2\"] = (\n",
    "    installed_capacity_nostorages.index.to_series().apply(lambda x: x[0:2]).values\n",
    ")\n",
    "installed_capacity_nostorages.loc[\n",
    "    installed_capacity_nostorages[\"carrier\"].isin([\"ror\"]), \"carrier\"\n",
    "] = \"hydro\"\n",
    "installed_capacity_nostorages.loc[\n",
    "    installed_capacity_nostorages[\"carrier\"] == \"onwind\", \"carrier\"\n",
    "] = \"onshore wind\"\n",
    "installed_capacity_nostorages.loc[\n",
    "    installed_capacity_nostorages[\"carrier\"].isin([\"offwind-ac\", \"off-shore-dc\"]),\n",
    "    \"carrier\",\n",
    "] = \"offshore wind\"\n",
    "installed_capacity_nostorages.loc[\n",
    "    installed_capacity_nostorages[\"carrier\"].isin([\"CCGT\", \"OCGT\"]), \"carrier\"\n",
    "] = \"gas\"\n",
    "installed_capacity_nostorages_select = installed_capacity_nostorages.loc[\n",
    "    :, [\"alpha2\", \"carrier\", \"p_nom\"]\n",
    "]\n",
    "\n",
    "# statistics of storage units\n",
    "installed_capacity_storages = pypsa_network.storage_units.copy()\n",
    "installed_capacity_storages.loc[:, \"alpha2\"] = (\n",
    "    installed_capacity_storages.index.to_series().apply(lambda x: x[0:2]).values\n",
    ")\n",
    "installed_capacity_storages.loc[\n",
    "    installed_capacity_storages[\"carrier\"] == \"PHS\", \"carrier\"\n",
    "] = \"hydro\"\n",
    "installed_capacity_storages_select = installed_capacity_storages.loc[\n",
    "    :, [\"alpha2\", \"carrier\", \"p_nom\"]\n",
    "]\n",
    "\n",
    "\n",
    "installed_capacity_raw = pd.concat(\n",
    "    [installed_capacity_storages_select, installed_capacity_nostorages_select]\n",
    ")\n",
    "installed_capacity = installed_capacity_raw.groupby([\"alpha2\", \"carrier\"])[\n",
    "    \"p_nom\"\n",
    "].sum()\n",
    "installed_capacity.groupby(\"carrier\").sum()"
   ]
  },
  {
   "cell_type": "markdown",
   "metadata": {},
   "source": [
    "##### Load PyPSA powerplant data to crosscheck data from the network"
   ]
  },
  {
   "cell_type": "code",
   "execution_count": null,
   "metadata": {},
   "outputs": [],
   "source": [
    "powerplants_data = os.getcwd() + \"/resources/powerplants.csv\"\n",
    "available_generators = pd.read_csv(powerplants_data)\n",
    "installed_capacity_resources = available_generators.groupby([\"Country\", \"Fueltype\"])[\n",
    "    \"Capacity\"\n",
    "].sum()\n",
    "installed_capacity_resources.groupby([\"Fueltype\"]).sum()"
   ]
  },
  {
   "cell_type": "markdown",
   "metadata": {},
   "source": [
    "# 2. Validate\n",
    "\n",
    "#### Steps:\n",
    "- Specify year of interest of the IRENA dataset and the countries of interest\n",
    "- Harmonize IRENA dataset to the PyPSA standard\n",
    "- Align dataframe naming and temporal resolution\n",
    "- Merge dataframe\n"
   ]
  },
  {
   "cell_type": "markdown",
   "metadata": {},
   "source": [
    "##### Specify year of the analysis and the countries of interest"
   ]
  },
  {
   "cell_type": "code",
   "execution_count": null,
   "metadata": {},
   "outputs": [],
   "source": [
    "year_owid = 2020  # option\n",
    "country_list = installed_capacity_nostorages.alpha2.unique()\n",
    "country_list"
   ]
  },
  {
   "cell_type": "markdown",
   "metadata": {},
   "source": [
    "##### Process IRENA data to match PyPSA standard"
   ]
  },
  {
   "cell_type": "code",
   "execution_count": null,
   "metadata": {},
   "outputs": [],
   "source": [
    "# copy IRENA dataset\n",
    "df = df_irena.copy()\n",
    "\n",
    "# Process technologies\n",
    "df.loc[\n",
    "    df[\"Technology\"].isin([\"Solar photovoltaic\", \"Solar thermal energy\"]), \"Technology\"\n",
    "] = \"solar\"\n",
    "df.loc[df[\"Technology\"].isin([\"Onshore wind energy\"]), \"Technology\"] = \"onshore wind\"\n",
    "df.loc[df[\"Technology\"].isin([\"Offshore wind energy\"]), \"Technology\"] = \"offshore wind\"\n",
    "df.loc[\n",
    "    df[\"Technology\"].isin(\n",
    "        [\"Renewable hydropower\", \"Mixed Hydro Plants\", \"Pumped storage\"]\n",
    "    ),\n",
    "    \"Technology\",\n",
    "] = \"hydro\"\n",
    "df.loc[\n",
    "    df[\"Technology\"].isin([\"Other non-renewable energy\", \"Marine energy\"]), \"Technology\"\n",
    "] = \"other\"\n",
    "df.loc[\n",
    "    df[\"Technology\"].isin([\"Liquid biofuels\", \"Biogas\", \"Solid biofuels\"]), \"Technology\"\n",
    "] = \"bioenergy\"\n",
    "df.loc[df[\"Technology\"].isin([\"Geothermal energy\"]), \"Technology\"] = \"geothermal\"\n",
    "df.loc[df[\"Technology\"].isin([\"Natural gas\"]), \"Technology\"] = \"gas\"\n",
    "df.loc[df[\"Technology\"].isin([\"Renewable municipal waste\"]), \"Technology\"] = \"waste\"\n",
    "df.loc[df[\"Technology\"].isin([\"Coal and peat\"]), \"Technology\"] = \"coal\"\n",
    "df.loc[df[\"Technology\"].isin([\"Oil\", \"Fossil fuels n.e.s.\"]), \"Technology\"] = \"oil\"\n",
    "\n",
    "\n",
    "df = df[df.alpha2.isin(country_list)]\n",
    "df[\"p_nom\"] = pd.to_numeric(df[\"Installed electricity capacity (MW)\"], errors=\"coerce\")\n",
    "installed_capacity_irena = (\n",
    "    df.rename(columns={\"Technology\": \"carrier\"})\n",
    "    .groupby([\"alpha2\", \"carrier\"])[\"p_nom\"]\n",
    "    .sum()\n",
    ")\n",
    "installed_capacity_irena.groupby(\"carrier\").sum()"
   ]
  },
  {
   "cell_type": "markdown",
   "metadata": {},
   "source": [
    "##### Merge datasets by carrier"
   ]
  },
  {
   "cell_type": "code",
   "execution_count": null,
   "metadata": {},
   "outputs": [],
   "source": [
    "world_ic = installed_capacity_irena.groupby(\"carrier\").sum() / 1000\n",
    "world_ic.index = world_ic.index.str.capitalize()\n",
    "\n",
    "world_pypsa = installed_capacity.groupby(\"carrier\").sum() / 1000\n",
    "world_pypsa.index = world_pypsa.index.str.capitalize()\n",
    "\n",
    "world_compare = pd.concat(\n",
    "    [world_pypsa.rename(\"PyPSA 2020\"), world_ic.rename(\"IRENA 2020\")], axis=1\n",
    ")\n",
    "ax = world_compare.plot.bar(\n",
    "    ylabel=\"Capacity [GW]\", xlabel=\"Technology\", figsize=(10, 4)\n",
    ")\n",
    "ax.set(xlabel=None);"
   ]
  },
  {
   "cell_type": "code",
   "execution_count": null,
   "metadata": {},
   "outputs": [],
   "source": [
    "list_carriers = [\n",
    "    \"Coal\",\n",
    "    \"Gas\",\n",
    "    \"Hydro\",\n",
    "    \"Oil\",\n",
    "    \"Onshore wind\",\n",
    "    \"Solar\",\n",
    "    \"Bioenergy\",\n",
    "    \"Geothermal\",\n",
    "    \"Nuclear\",\n",
    "]\n",
    "\n",
    "world_compare[world_compare.index.isin(list_carriers)].plot.bar(\n",
    "    ylabel=\"Capacity [GW]\", xlabel=\"Technology\"\n",
    ")"
   ]
  },
  {
   "cell_type": "markdown",
   "metadata": {},
   "source": [
    "##### Merge dataframes by country"
   ]
  },
  {
   "cell_type": "code",
   "execution_count": null,
   "metadata": {},
   "outputs": [],
   "source": [
    "from scripts._helpers import two_digits_2_name_country\n",
    "\n",
    "country_ic = (\n",
    "    installed_capacity_irena[\n",
    "        installed_capacity_irena.index.get_level_values(1).isin(list_carriers)\n",
    "    ]\n",
    "    .groupby(\"alpha2\")\n",
    "    .sum()\n",
    "    / 1000\n",
    ")\n",
    "country_pypsa = (\n",
    "    installed_capacity[installed_capacity.index.get_level_values(1).isin(list_carriers)]\n",
    "    .groupby(\"alpha2\")\n",
    "    .sum()\n",
    "    / 1000\n",
    ")\n",
    "\n",
    "country_compare = pd.concat(\n",
    "    [country_pypsa.rename(\"PyPSA 2020\"), country_ic.rename(\"IRENA 2020\")], axis=1\n",
    ")\n",
    "country_compare.index = country_compare.index.map(two_digits_2_name_country)\n",
    "plt.rcParams.update({\"font.size\": 20})\n",
    "ax = country_compare.plot.bar(\n",
    "    figsize=(20, 5), ylabel=\"Capacity [GW]\", xlabel=\"Country\", fontsize=20\n",
    ")\n",
    "ax.set(xlabel=None)"
   ]
  },
  {
   "cell_type": "code",
   "execution_count": null,
   "metadata": {},
   "outputs": [],
   "source": [
    "# Installed capacities of a technology by country\n",
    "# df[df.Technology==\"gas\"].groupby(\"alpha2\")[\"p_nom\"].sum()\n",
    "# installed_capacity_nostorages_select[installed_capacity_nostorages_select.carrier == \"gas\"].groupby(\"alpha2\")[\"p_nom\"].sum()"
   ]
  }
 ],
 "metadata": {
  "kernelspec": {
   "display_name": "Python 3.9.12 ('pypsa-africa')",
   "language": "python",
   "name": "python3"
  },
  "language_info": {
   "codemirror_mode": {
    "name": "ipython",
    "version": 3
   },
   "file_extension": ".py",
   "mimetype": "text/x-python",
   "name": "python",
   "nbconvert_exporter": "python",
   "pygments_lexer": "ipython3",
   "version": "3.9.13"
  },
  "vscode": {
   "interpreter": {
    "hash": "9cf24c4161cf9b5fb33ef9be908bda1439c8658e530339b1167da5d2ed581719"
   }
  }
 },
 "nbformat": 4,
 "nbformat_minor": 4
}
