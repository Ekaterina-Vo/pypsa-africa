{
 "cells": [
  {
   "cell_type": "markdown",
   "metadata": {},
   "source": [
    "# Notebook to investigate elements of build_natura_raster"
   ]
  },
  {
   "cell_type": "code",
   "execution_count": 21,
   "metadata": {},
   "outputs": [],
   "source": [
    "import fiona\n",
    "import geopandas as gpd\n",
    "import os"
   ]
  },
  {
   "cell_type": "code",
   "execution_count": 20,
   "metadata": {},
   "outputs": [
    {
     "name": "stderr",
     "output_type": "stream",
     "text": [
      "C:\\Users\\Davide\\AppData\\Local\\Temp/ipykernel_141300/4015599119.py:9: FionaDeprecationWarning: Use fiona.Env() instead.\n",
      "  with fiona.drivers():\n"
     ]
    }
   ],
   "source": [
    "dir_temp = 'C:/Users/Davide/Downloads/WDPA_WDOECM_Oct2021_Public_NGA/WDPA_WDOECM_Oct2021_Public_NGA.gdb'\n",
    "#dir_data = (dir_temp.replace(\"/\",\"\\\\\"))\n",
    "\n",
    "#use fiona to read the GDB and its layers and return a list\n",
    "\n",
    "g_temp =gpd.GeoDataFrame()\n",
    "layer_list = []\n",
    "lst_gpd = []\n",
    "with fiona.drivers():\n",
    "    for i, layername in enumerate(fiona.listlayers(dir_temp)):\n",
    "        with fiona.open(dir_temp, layer=i) as src:\n",
    "            gt = gpd.read_file(dir_temp, layer=layername, crs=3035)\n",
    "            lst_gpd.append(gt)\n",
    "            layer_list.append(layername)"
   ]
  },
  {
   "cell_type": "code",
   "execution_count": 23,
   "metadata": {},
   "outputs": [
    {
     "data": {
      "text/plain": [
       "('C:/Users/Davide/Downloads/WDPA_WDOECM_Oct2021_Public_NGA',\n",
       " 'WDPA_WDOECM_Oct2021_Public_NGA.gdb')"
      ]
     },
     "execution_count": 23,
     "metadata": {},
     "output_type": "execute_result"
    }
   ],
   "source": [
    "os.path.split(dir_temp)"
   ]
  },
  {
   "cell_type": "code",
   "execution_count": 17,
   "metadata": {},
   "outputs": [
    {
     "data": {
      "text/html": [
       "<div>\n",
       "<style scoped>\n",
       "    .dataframe tbody tr th:only-of-type {\n",
       "        vertical-align: middle;\n",
       "    }\n",
       "\n",
       "    .dataframe tbody tr th {\n",
       "        vertical-align: top;\n",
       "    }\n",
       "\n",
       "    .dataframe thead th {\n",
       "        text-align: right;\n",
       "    }\n",
       "</style>\n",
       "<table border=\"1\" class=\"dataframe\">\n",
       "  <thead>\n",
       "    <tr style=\"text-align: right;\">\n",
       "      <th></th>\n",
       "    </tr>\n",
       "  </thead>\n",
       "  <tbody>\n",
       "  </tbody>\n",
       "</table>\n",
       "</div>"
      ],
      "text/plain": [
       "Empty GeoDataFrame\n",
       "Columns: []\n",
       "Index: []"
      ]
     },
     "execution_count": 17,
     "metadata": {},
     "output_type": "execute_result"
    }
   ],
   "source": [
    "g_temp"
   ]
  },
  {
   "cell_type": "code",
   "execution_count": 15,
   "metadata": {},
   "outputs": [
    {
     "data": {
      "text/plain": [
       "['WDPA_WDOECM_poly_Oct2021_NGA',\n",
       " 'WDPA_WDOECM_point_Oct2021_NGA',\n",
       " 'WDPA_WDOECM_source_Oct2021_NGA']"
      ]
     },
     "execution_count": 15,
     "metadata": {},
     "output_type": "execute_result"
    }
   ],
   "source": [
    "layer_list"
   ]
  }
 ],
 "metadata": {
  "interpreter": {
   "hash": "64a9945f8f137ed15f7097a1dbedf9f1ce29494f0e33cb4fc5724026c999b930"
  },
  "kernelspec": {
   "display_name": "Python 3.9.6 64-bit ('toast': conda)",
   "name": "python3"
  },
  "language_info": {
   "codemirror_mode": {
    "name": "ipython",
    "version": 3
   },
   "file_extension": ".py",
   "mimetype": "text/x-python",
   "name": "python",
   "nbconvert_exporter": "python",
   "pygments_lexer": "ipython3",
   "version": "3.9.6"
  },
  "orig_nbformat": 4
 },
 "nbformat": 4,
 "nbformat_minor": 2
}
