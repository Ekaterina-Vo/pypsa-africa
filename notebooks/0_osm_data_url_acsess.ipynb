{
 "cells": [
  {
   "cell_type": "markdown",
   "id": "45072a1b",
   "metadata": {},
   "source": [
    "# Acsess to the Open Street Maps Data Server\n",
    "\n",
    "This notebook shows how we reach the raw OpenStreetMaps data."
   ]
  },
  {
   "cell_type": "code",
   "execution_count": 24,
   "id": "98cecfff",
   "metadata": {},
   "outputs": [
    {
     "name": "stdout",
     "output_type": "stream",
     "text": [
      "This is the repository path:  /Users/ekatef/Documents/_github_/pypsa-africa\n",
      "Had to go 0 folder(s) up.\n"
     ]
    }
   ],
   "source": [
    "import sys\n",
    "sys.path.append('../')  # to import helpers\n",
    "\n",
    "from scripts._helpers import _sets_path_to_root\n",
    "_sets_path_to_root(\"pypsa-africa\")"
   ]
  },
  {
   "cell_type": "code",
   "execution_count": 38,
   "id": "9efb61cd",
   "metadata": {},
   "outputs": [],
   "source": [
    "import logging\n",
    "import sys\n",
    "import pandas as pd\n",
    "import requests\n",
    "import urllib3\n",
    "import time\n",
    "\n",
    "pd.set_option('display.max_columns', None)\n",
    "pd.set_option('display.max_colwidth', 70)\n",
    "\n",
    "logger = logging.getLogger(__name__)"
   ]
  },
  {
   "cell_type": "code",
   "execution_count": 39,
   "id": "fd7c4412",
   "metadata": {},
   "outputs": [],
   "source": [
    "from scripts.config_osm_data import continent_regions\n",
    "from scripts.config_osm_data import continents\n",
    "from scripts.config_osm_data import iso_to_geofk_dict\n",
    "from scripts.config_osm_data import world\n",
    "from scripts.config_osm_data import world_geofk"
   ]
  },
  {
   "cell_type": "code",
   "execution_count": 40,
   "id": "0a09e736",
   "metadata": {},
   "outputs": [],
   "source": [
    "def list_word_geofk_countries():\n",
    "    countries_list = []\n",
    "\n",
    "    for continent in world_geofk:\n",
    "        country = world_geofk[continent]\n",
    "        countries_list.append(list(country.keys()))\n",
    "        \n",
    "    return countries_list "
   ]
  },
  {
   "cell_type": "code",
   "execution_count": 41,
   "id": "3f8fea67",
   "metadata": {},
   "outputs": [
    {
     "name": "stdout",
     "output_type": "stream",
     "text": [
      "['DZ', 'AO', 'BJ', 'BW', 'BF', 'BI', 'CM', 'CF', 'TD', 'CG', 'CD', 'DJ', 'EG', 'GQ', 'ER', 'ET', 'GA', 'GH', 'GW', 'GN', 'CI', 'KE', 'LS', 'LR', 'LY', 'MG', 'MW', 'ML', 'MR', 'MA', 'MZ', 'NA', 'NE', 'NG', 'RW', 'SNGM', 'SL', 'SO', 'ZA', 'SS', 'SD', 'SZ', 'TZ', 'TG', 'TN', 'UG', 'ZM', 'ZW', 'AF', 'AM', 'AZ', 'BD', 'BT', 'KH', 'CN', 'GCC', 'IN', 'ID', 'IR', 'IQ', 'IL-PL', 'JP', 'JO', 'KZ', 'KP', 'KR', 'KG', 'LA', 'LB', 'MY-SG-BN', 'MV', 'MN', 'MM', 'NP', 'PK', 'PH', 'LK', 'SY', 'TW', 'TJ', 'TH', 'TM', 'UZ', 'VN', 'YE', 'AU', 'FJ', 'NC', 'NZ', 'PG', 'AL', 'AD', 'AT', 'BY', 'BE', 'BA', 'BG', 'HR', 'CZ', 'CY', 'DK', 'EE', 'FI', 'FR', 'GE', 'DE', 'GR', 'HU', 'IS', 'IE', 'IT', 'LV', 'LI', 'LT', 'LU', 'MK', 'MT', 'MD', 'MC', 'ME', 'NL', 'NO', 'PL', 'PT', 'RO', 'RS', 'SK', 'SI', 'ES', 'SE', 'CH', 'UA', 'GB', 'TR', 'CEFD', 'FEFD', 'NCDF', 'NWDF', 'SBFD', 'SOFD', 'URDF', 'VOFD', 'CA', 'GL', 'MX', 'US', 'AR', 'BO', 'BR', 'CL', 'CO', 'EC', 'PE', 'SR', 'UY', 'VE', 'BZ', 'GT', 'SV', 'HN', 'NI', 'CR']\n"
     ]
    }
   ],
   "source": [
    "world_geofk_countries = []\n",
    "for sublist in list_word_geofk_countries():\n",
    "    for item in sublist:\n",
    "        world_geofk_countries.append(item)\n",
    "\n",
    "print(world_geofk_countries)        "
   ]
  },
  {
   "cell_type": "code",
   "execution_count": 42,
   "id": "88a5e6e1",
   "metadata": {},
   "outputs": [],
   "source": [
    "def getGeofkContinentCountry(code):\n",
    "    for continent in world_geofk:\n",
    "        country = world_geofk[continent].get(code, 0)\n",
    "        if country:\n",
    "            return continent, country\n",
    "    return continent, country\n",
    "\n",
    "def build_url(country_code, update, verify):\n",
    "    continent, country_name = getGeofkContinentCountry(country_code)\n",
    "    geofabrik_filename = f\"{country_name}-latest.osm.pbf\"\n",
    "    geofabrik_url = f\"https://download.geofabrik.de/{continent}/{geofabrik_filename}\"\n",
    "    return geofabrik_url\n"
   ]
  },
  {
   "cell_type": "code",
   "execution_count": null,
   "id": "984f4606",
   "metadata": {},
   "outputs": [
    {
     "name": "stdout",
     "output_type": "stream",
     "text": [
      "('africa', 'algeria')\n",
      "URL 'https://download.geofabrik.de/africa/algeria-latest.osm.pbf' is working\n",
      "('africa', 'angola')\n",
      "URL 'https://download.geofabrik.de/africa/angola-latest.osm.pbf' is working\n",
      "('africa', 'benin')\n",
      "URL 'https://download.geofabrik.de/africa/benin-latest.osm.pbf' is working\n",
      "('africa', 'botswana')\n",
      "URL 'https://download.geofabrik.de/africa/botswana-latest.osm.pbf' is working\n",
      "('africa', 'burkina-faso')\n",
      "URL 'https://download.geofabrik.de/africa/burkina-faso-latest.osm.pbf' is working\n",
      "('africa', 'burundi')\n",
      "URL 'https://download.geofabrik.de/africa/burundi-latest.osm.pbf' is working\n",
      "('africa', 'cameroon')\n",
      "URL 'https://download.geofabrik.de/africa/cameroon-latest.osm.pbf' is working\n",
      "('africa', 'central-african-republic')\n",
      "URL 'https://download.geofabrik.de/africa/central-african-republic-latest.osm.pbf' is working\n",
      "('africa', 'chad')\n",
      "URL 'https://download.geofabrik.de/africa/chad-latest.osm.pbf' is working\n",
      "('africa', 'congo-brazzaville')\n",
      "URL 'https://download.geofabrik.de/africa/congo-brazzaville-latest.osm.pbf' is working\n",
      "('africa', 'congo-democratic-republic')\n",
      "URL 'https://download.geofabrik.de/africa/congo-democratic-republic-latest.osm.pbf' is working\n",
      "('africa', 'djibouti')\n",
      "URL 'https://download.geofabrik.de/africa/djibouti-latest.osm.pbf' is working\n",
      "('africa', 'egypt')\n",
      "URL 'https://download.geofabrik.de/africa/egypt-latest.osm.pbf' is working\n",
      "('africa', 'equatorial-guinea')\n",
      "URL 'https://download.geofabrik.de/africa/equatorial-guinea-latest.osm.pbf' is working\n",
      "('africa', 'eritrea')\n"
     ]
    }
   ],
   "source": [
    "problem_urls = []\n",
    "problem_codes = []\n",
    "problem_domain = []\n",
    "# for cnt in country_geofk_list:\n",
    "for cnt in world_geofk_countries:    \n",
    "    print(getGeofkContinentCountry(cnt))\n",
    "    url = build_url(country_code=cnt, update=False, verify=False)\n",
    "    time.sleep(0.01)\n",
    "    try:\n",
    "        request = requests.head(url)\n",
    "        if request.status_code == 200:\n",
    "            print(\"URL '\" + url + \"' is working\")\n",
    "        else:\n",
    "            problem_urls.append(url)\n",
    "            problem_codes.append(cnt)\n",
    "            problem_domain.append(getGeofkContinentCountry(cnt))\n",
    "            print(\"URL '\" + url + \"' is silent\")\n",
    "    except requests.exceptions.ConnectionError:\n",
    "        print(f\"URL {url} not reachable\")\n",
    "\n",
    "print(\"There are troubles in reaching following urls:\") \n",
    "print(problem_urls) \n",
    "print(\"Country codes to be checked\")\n",
    "print(problem_codes) \n",
    "print(problem_domain)"
   ]
  },
  {
   "cell_type": "markdown",
   "id": "33ea8008",
   "metadata": {},
   "source": [
    "\n",
    "# Acknowledgments\n",
    "\n",
    "The project relies on the (OpenStreetMap)[https://www.geofabrik.de/] data provided via Geofabrik service. Many thanks to all the service contributors."
   ]
  },
  {
   "cell_type": "code",
   "execution_count": null,
   "id": "be4bfbed",
   "metadata": {},
   "outputs": [],
   "source": []
  },
  {
   "cell_type": "code",
   "execution_count": null,
   "id": "45bb68b4",
   "metadata": {},
   "outputs": [],
   "source": []
  }
 ],
 "metadata": {
  "kernelspec": {
   "display_name": "Python 3 (ipykernel)",
   "language": "python",
   "name": "python3"
  },
  "language_info": {
   "codemirror_mode": {
    "name": "ipython",
    "version": 3
   },
   "file_extension": ".py",
   "mimetype": "text/x-python",
   "name": "python",
   "nbconvert_exporter": "python",
   "pygments_lexer": "ipython3",
   "version": "3.9.7"
  }
 },
 "nbformat": 4,
 "nbformat_minor": 5
}
