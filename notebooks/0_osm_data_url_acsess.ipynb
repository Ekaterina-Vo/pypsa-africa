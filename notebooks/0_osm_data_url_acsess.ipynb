{
 "cells": [
  {
   "cell_type": "markdown",
   "id": "45072a1b",
   "metadata": {},
   "source": [
    "# Load Open Street Maps Data\n",
    "\n",
    "This notebook is aimed to demonstrate how we reach spartial data on power transmission lines. Our main data source are the Open Street Maps datasets. "
   ]
  },
  {
   "cell_type": "code",
   "execution_count": 1,
   "id": "98cecfff",
   "metadata": {},
   "outputs": [
    {
     "name": "stdout",
     "output_type": "stream",
     "text": [
      "This is the repository path:  ./\n",
      "Had to go 1 folder(s) up.\n"
     ]
    }
   ],
   "source": [
    "import sys\n",
    "sys.path.append('../')  # to import helpers\n",
    "\n",
    "from scripts._helpers import _sets_path_to_root\n",
    "_sets_path_to_root(\"pypsa-africa\")"
   ]
  },
  {
   "cell_type": "markdown",
   "id": "5b7ddf56",
   "metadata": {},
   "source": [
    "## Import nessesary packages\n",
    "\n",
    "Load Python packages and set visibility options:"
   ]
  },
  {
   "cell_type": "code",
   "execution_count": 2,
   "id": "9efb61cd",
   "metadata": {},
   "outputs": [],
   "source": [
    "import logging\n",
    "import sys\n",
    "import pandas as pd\n",
    "import requests\n",
    "import urllib3\n",
    "import time\n",
    "\n",
    "pd.set_option('display.max_columns', None)\n",
    "pd.set_option('display.max_colwidth', 70)\n",
    "\n",
    "logger = logging.getLogger(__name__)"
   ]
  },
  {
   "cell_type": "markdown",
   "id": "135811b3",
   "metadata": {},
   "source": [
    "Load local packages written to load OSM data:"
   ]
  },
  {
   "cell_type": "code",
   "execution_count": 3,
   "id": "fd7c4412",
   "metadata": {},
   "outputs": [],
   "source": [
    "from scripts.config_osm_data import continent_regions\n",
    "from scripts.config_osm_data import continents\n",
    "from scripts.config_osm_data import iso_to_geofk_dict\n",
    "from scripts.config_osm_data import world_iso\n",
    "from scripts.config_osm_data import world_geofk"
   ]
  },
  {
   "cell_type": "markdown",
   "id": "2bf6e78f",
   "metadata": {},
   "source": [
    "## Management of geographical data\n",
    "\n",
    "OSM data are being organized by continents, macroregions and countries. Input data on country codes should correspond to ISO standard and be transformed into a valid OSM data request.\n",
    "\n",
    "The `world_geofk` and `world_iso` Python two-levels dictionaries are used to keep data on such organization according to OSM and ISO conventions, respectivelly. Define a couple of supplementary functions to work with these data structures. The first one `list_countries()` transforms an input dictionary into a list while the second `getContinentCountryIso()` retrives the continent and country names by the country code."
   ]
  },
  {
   "cell_type": "code",
   "execution_count": 4,
   "id": "0a09e736",
   "metadata": {},
   "outputs": [
    {
     "name": "stdout",
     "output_type": "stream",
     "text": [
      "GeoFabrik naming differs from ISO for the following countries:\n",
      "('asia', 'macao')\n",
      "('asia', 'saudi-arabia')\n",
      "('asia', 'united-arab-emirates')\n",
      "('latin_america', 'french-guyane')\n",
      "('asia', 'qatar')\n",
      "('asia', 'palestine')\n",
      "('latin_america', 'guyane')\n",
      "('asia', 'malaysia')\n",
      "('asia', 'oman')\n",
      "('asia', 'kuwait')\n",
      "('asia', 'hong kong')\n",
      "('africa', 'gambia')\n",
      "('asia', 'bahrain')\n",
      "('africa', 'western-sahara')\n",
      "('africa', 'senegal')\n",
      "('europe', 'san-marino')\n",
      "('asia', 'israel')\n",
      "('asia', 'singapore')\n",
      "('asia', 'brunei')\n",
      "Any ISO codes not resolved by GeoFbk and a transform dictionary?\n",
      "...everithing seems to be allright\n"
     ]
    }
   ],
   "source": [
    "def list_countries(w_dc):\n",
    "    countries_list = []\n",
    "\n",
    "    for continent in w_dc:\n",
    "        country = w_dc[continent]\n",
    "        countries_list.append(list(country.keys()))\n",
    "        \n",
    "    return countries_list \n",
    "\n",
    "def getContinentCountryIso(code):\n",
    "    for continent in world_iso:\n",
    "        country = world_iso[continent].get(code, 0)\n",
    "        if country:\n",
    "            return continent, country\n",
    "    return continent, country\n",
    "\n",
    "list_word_iso_countries = list_countries(world_iso)\n",
    "list_word_geofk_countries = list_countries(world_geofk)\n",
    "\n",
    "iso_set = set(sum(list_word_iso_countries, []))\n",
    "geofk_set = set(sum(list_word_geofk_countries, []))\n",
    "\n",
    "iso_not_in_geofk = iso_set - geofk_set\n",
    "geofk_not_in_iso = geofk_set - iso_set\n",
    "\n",
    "print(\"GeoFabrik naming differs from ISO for the following countries:\")\n",
    "for cnt in list(iso_not_in_geofk):\n",
    "    print(getContinentCountryIso(cnt))\n",
    "\n",
    "lost_codes = set(iso_to_geofk_dict.keys()) - set(iso_not_in_geofk)\n",
    "    \n",
    "print(\"Any ISO codes not resolved by GeoFbk and a transform dictionary?\")\n",
    "if len(lost_codes) > 0:\n",
    "    print(lost_codes)\n",
    "    for cnt in list(lost_codes):\n",
    "        print(getContinentCountryIso(cnt))\n",
    "else:\n",
    "    print(\"...everithing seems to be allright\")"
   ]
  },
  {
   "cell_type": "markdown",
   "id": "22c81ae5",
   "metadata": {},
   "source": [
    "Look on the macro regions"
   ]
  },
  {
   "cell_type": "code",
   "execution_count": 5,
   "id": "a5ccd8b6",
   "metadata": {},
   "outputs": [
    {
     "name": "stdout",
     "output_type": "stream",
     "text": [
      "ISO codes not included into the macro regions dictionary:\n",
      "set()\n",
      "{'PG', 'AU', 'GF', 'EH', 'MT', 'GW', 'PY', 'NZ', 'SN', 'NC', 'SO', 'GY'}\n",
      "158\n",
      "170\n",
      "['PG', 'AU', 'GF', 'EH', 'MT', 'GW', 'PY', 'NZ', 'SN', 'NC', 'SO', 'GY']\n",
      "('australia', 'papua-new-guinea')\n",
      "('australia', 'australia')\n",
      "('latin_america', 'french-guyane')\n",
      "('africa', 'western-sahara')\n",
      "('europe', 'malta')\n",
      "('africa', 'guinea-bissau')\n",
      "('latin_america', 'paraguay')\n",
      "('australia', 'new-zealand')\n",
      "('africa', 'senegal')\n",
      "('australia', 'new-caledonia')\n",
      "('africa', 'somalia')\n",
      "('latin_america', 'guyane')\n"
     ]
    }
   ],
   "source": [
    "macro_regions_list = list(dict(**continent_regions).values())\n",
    "# flatten list\n",
    "macro_reg_set = set(sum(macro_regions_list, []))\n",
    "\n",
    "\n",
    "print(\"ISO codes not included into the macro regions dictionary:\")\n",
    "print(macro_reg_set - iso_set)\n",
    "print(iso_set - macro_reg_set)\n",
    "\n",
    "print(len(macro_reg_set))\n",
    "print(len(iso_set))\n",
    "\n",
    "print(list(iso_set - macro_reg_set))\n",
    "\n",
    "for cnt in list(iso_set - macro_reg_set):\n",
    "    print(getContinentCountryIso(cnt))"
   ]
  },
  {
   "cell_type": "code",
   "execution_count": 6,
   "id": "d6775496",
   "metadata": {},
   "outputs": [
    {
     "name": "stdout",
     "output_type": "stream",
     "text": [
      "{'SA', 'AS', 'LA', 'OC', 'CA', 'EU', 'AF'}\n",
      "{'AS', 'OC', 'EU'}\n",
      "{'SA', 'AS', 'EU', 'OC'}\n"
     ]
    }
   ],
   "source": [
    "print(set(continents))\n",
    "\n",
    "print(set(continents) - iso_set)\n",
    "print(set(continents) - geofk_set)"
   ]
  },
  {
   "cell_type": "code",
   "execution_count": 7,
   "id": "88a5e6e1",
   "metadata": {},
   "outputs": [],
   "source": [
    "def getContinentCountry(code):\n",
    "    for continent in world_geofk:\n",
    "        country = world_geofk[continent].get(code, 0)\n",
    "        if country:\n",
    "            return continent, country\n",
    "    return continent, country\n",
    "\n",
    "def build_url(country_code, update, verify):\n",
    "    continent, country_name = getContinentCountry(country_code)\n",
    "    geofabrik_filename = f\"{country_name}-latest.osm.pbf\"\n",
    "    geofabrik_url = f\"https://download.geofabrik.de/{continent}/{geofabrik_filename}\"\n",
    "    return geofabrik_url\n"
   ]
  },
  {
   "cell_type": "code",
   "execution_count": 8,
   "id": "984f4606",
   "metadata": {
    "scrolled": true
   },
   "outputs": [
    {
     "name": "stdout",
     "output_type": "stream",
     "text": [
      "('africa', 'algeria')\n",
      "https://download.geofabrik.de/africa/algeria-latest.osm.pbf\n",
      "URL 'https://download.geofabrik.de/africa/algeria-latest.osm.pbf' is working\n",
      "('africa', 'angola')\n",
      "https://download.geofabrik.de/africa/angola-latest.osm.pbf\n",
      "URL 'https://download.geofabrik.de/africa/angola-latest.osm.pbf' is working\n",
      "('africa', 'benin')\n",
      "https://download.geofabrik.de/africa/benin-latest.osm.pbf\n",
      "URL 'https://download.geofabrik.de/africa/benin-latest.osm.pbf' is working\n",
      "('africa', 'botswana')\n",
      "https://download.geofabrik.de/africa/botswana-latest.osm.pbf\n",
      "URL 'https://download.geofabrik.de/africa/botswana-latest.osm.pbf' is working\n",
      "('africa', 'burkina-faso')\n",
      "https://download.geofabrik.de/africa/burkina-faso-latest.osm.pbf\n",
      "URL 'https://download.geofabrik.de/africa/burkina-faso-latest.osm.pbf' is working\n",
      "('africa', 'burundi')\n",
      "https://download.geofabrik.de/africa/burundi-latest.osm.pbf\n",
      "URL 'https://download.geofabrik.de/africa/burundi-latest.osm.pbf' is working\n",
      "('africa', 'cameroon')\n",
      "https://download.geofabrik.de/africa/cameroon-latest.osm.pbf\n",
      "URL 'https://download.geofabrik.de/africa/cameroon-latest.osm.pbf' is working\n",
      "('africa', 'central-african-republic')\n",
      "https://download.geofabrik.de/africa/central-african-republic-latest.osm.pbf\n",
      "URL 'https://download.geofabrik.de/africa/central-african-republic-latest.osm.pbf' is working\n",
      "('africa', 'chad')\n",
      "https://download.geofabrik.de/africa/chad-latest.osm.pbf\n",
      "URL 'https://download.geofabrik.de/africa/chad-latest.osm.pbf' is working\n"
     ]
    }
   ],
   "source": [
    "problem_urls = []\n",
    "problem_codes = []\n",
    "problem_domain = []\n",
    "\n",
    "# flatten list\n",
    "world_geofk_codes = sum(list_word_iso_countries, [])\n",
    "\n",
    "for cnt in world_geofk_codes[0:9]:    \n",
    "    print(getContinentCountry(cnt))\n",
    "    url = build_url(country_code=cnt, update=False, verify=False)\n",
    "    print(url)\n",
    "    time.sleep(1)\n",
    "    \n",
    "    with requests.get(url, stream=True, verify=True) as r:\n",
    "        request = requests.head(url)\n",
    "        if r.status_code == 200:\n",
    "            print(\"URL '\" + url + \"' is working\")\n",
    "        else:\n",
    "            problem_urls.append(url)\n",
    "            problem_codes.append(cnt)\n",
    "            problem_domain.append(getContinentCountry(cnt))\n",
    "            \n",
    "            if r.status_code == 429:\n",
    "                print(\"Error code:\" + str(r.status_code) + \" Retry after\" + r.headers[\"Retry-After\"])\n",
    "            else:\n",
    "                print(\"There some troubles with \" + url + \" Error code:\" + str(r.status_code))\n",
    "\n",
    "if len(problem_urls) > 0:              \n",
    "    print(\"There were troubles in reaching following urls:\") \n",
    "    print(problem_urls) \n",
    "    print(\"Country codes to be checked:\")\n",
    "    print(problem_codes) \n",
    "    print(problem_domain)"
   ]
  },
  {
   "cell_type": "markdown",
   "id": "33ea8008",
   "metadata": {},
   "source": [
    "\n",
    "# Acknowledgments\n",
    "\n",
    "The project relies on the (OpenStreetMap)[https://www.geofabrik.de/] data provided via Geofabrik service. Many thanks to all the service contributors."
   ]
  },
  {
   "cell_type": "code",
   "execution_count": null,
   "id": "be4bfbed",
   "metadata": {},
   "outputs": [],
   "source": []
  },
  {
   "cell_type": "code",
   "execution_count": null,
   "id": "45bb68b4",
   "metadata": {},
   "outputs": [],
   "source": []
  }
 ],
 "metadata": {
  "kernelspec": {
   "display_name": "Python 3 (ipykernel)",
   "language": "python",
   "name": "python3"
  },
  "language_info": {
   "codemirror_mode": {
    "name": "ipython",
    "version": 3
   },
   "file_extension": ".py",
   "mimetype": "text/x-python",
   "name": "python",
   "nbconvert_exporter": "python",
   "pygments_lexer": "ipython3",
   "version": "3.9.7"
  }
 },
 "nbformat": 4,
 "nbformat_minor": 5
}
