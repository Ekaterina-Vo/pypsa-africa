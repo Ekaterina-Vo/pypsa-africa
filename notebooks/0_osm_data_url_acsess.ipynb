{
 "cells": [
  {
   "cell_type": "markdown",
   "id": "45072a1b",
   "metadata": {},
   "source": [
    "# Load Open Street Maps Data\n",
    "\n",
    "This notebook is aimed to demonstrate how we obtain spartial data on power transmission lines. Our main data source are the Open Street Maps datasets. The `download_osm_data.py` script is used to extract OSM data for a world area requested by a user. The `config_osm_data.py` contains configuration data needed for such an extraction."
   ]
  },
  {
   "cell_type": "markdown",
   "id": "6576ac5d",
   "metadata": {},
   "source": [
    "## Set working folder"
   ]
  },
  {
   "cell_type": "code",
   "execution_count": 1,
   "id": "98cecfff",
   "metadata": {},
   "outputs": [
    {
     "name": "stdout",
     "output_type": "stream",
     "text": [
      "This is the repository path:  ./\n",
      "Had to go 1 folder(s) up.\n"
     ]
    }
   ],
   "source": [
    "import sys\n",
    "sys.path.append('../')  # to import helpers\n",
    "\n",
    "from scripts._helpers import _sets_path_to_root\n",
    "_sets_path_to_root(\"pypsa-africa\")"
   ]
  },
  {
   "cell_type": "markdown",
   "id": "7466adc0",
   "metadata": {},
   "source": [
    "## Import nessesary packages\n",
    "\n",
    "Load Python packages and set visibility options:"
   ]
  },
  {
   "cell_type": "code",
   "execution_count": 2,
   "id": "9efb61cd",
   "metadata": {},
   "outputs": [],
   "source": [
    "import logging\n",
    "import sys\n",
    "import pandas as pd\n",
    "import requests\n",
    "import urllib3\n",
    "import time\n",
    "\n",
    "pd.set_option('display.max_columns', None)\n",
    "pd.set_option('display.max_colwidth', 70)\n",
    "\n",
    "logger = logging.getLogger(__name__)"
   ]
  },
  {
   "cell_type": "markdown",
   "id": "1501f61c",
   "metadata": {},
   "source": [
    "Load local packages written to load OSM data:"
   ]
  },
  {
   "cell_type": "code",
   "execution_count": 3,
   "id": "fd7c4412",
   "metadata": {},
   "outputs": [],
   "source": [
    "from scripts.config_osm_data import continent_regions\n",
    "from scripts.config_osm_data import continents\n",
    "from scripts.config_osm_data import iso_to_geofk_dict\n",
    "from scripts.config_osm_data import world_iso\n",
    "from scripts.config_osm_data import world_geofk"
   ]
  },
  {
   "cell_type": "markdown",
   "id": "74a13d1d",
   "metadata": {},
   "source": [
    "## Management of geographical data\n",
    "\n",
    "OSM data are being organized by continents, macroregions and countries. Input data on country codes should correspond to ISO standard and be transformed into a valid OSM data request.\n",
    "\n",
    "The `world_geofk` and `world_iso` Python two-levels dictionaries are used to keep data on such organization according to OSM and ISO conventions, respectivelly. Define a couple of supplementary functions to work with these data structures. The first one `list_countries()` transforms an input dictionary into a list while the second `getContinentCountryIso()` retrives the continent and country names by the country code."
   ]
  },
  {
   "cell_type": "code",
   "execution_count": 4,
   "id": "0a09e736",
   "metadata": {},
   "outputs": [],
   "source": [
    "def list_countries(w_dc):\n",
    "    countries_list = []\n",
    "\n",
    "    for continent in w_dc:\n",
    "        country = w_dc[continent]\n",
    "        countries_list.append(list(country.keys()))\n",
    "        \n",
    "    return countries_list \n",
    "\n",
    "def getContinentCountryIso(code):\n",
    "    for continent in world_iso:\n",
    "        country = world_iso[continent].get(code, 0)\n",
    "        if country:\n",
    "            return continent, country\n",
    "    return continent, country\n",
    "\n",
    "list_word_iso_countries = list_countries(world_iso)\n",
    "list_word_geofk_countries = list_countries(world_geofk)"
   ]
  },
  {
   "cell_type": "markdown",
   "id": "f2add6fe",
   "metadata": {},
   "source": [
    "The ISO and OSM conventions differ in some details as can be seen from a following analysis.\n",
    "\n",
    "Flatten each of the countries lists with `sum(a_list, [])` and keep only unique elements by `set()` transformation. Then substraction will give us differences between countries codes used by ISO and OSM:"
   ]
  },
  {
   "cell_type": "code",
   "execution_count": 5,
   "id": "69fb1dff",
   "metadata": {},
   "outputs": [],
   "source": [
    "iso_set = set(sum(list_word_iso_countries, []))\n",
    "geofk_set = set(sum(list_word_geofk_countries, []))\n",
    "\n",
    "iso_not_in_geofk = iso_set - geofk_set\n",
    "geofk_not_in_iso = geofk_set - iso_set"
   ]
  },
  {
   "cell_type": "markdown",
   "id": "b7a81e4c",
   "metadata": {},
   "source": [
    "Translate the codes into a human-redable tulpes and see for which **countries GeoFabrik naming differs from ISO**:"
   ]
  },
  {
   "cell_type": "code",
   "execution_count": 6,
   "id": "f940171d",
   "metadata": {},
   "outputs": [
    {
     "name": "stdout",
     "output_type": "stream",
     "text": [
      "('africa', 'western-sahara')\n",
      "('asia', 'singapore')\n",
      "('africa', 'gambia')\n",
      "('asia', 'brunei')\n",
      "('europe', 'san-marino')\n",
      "('asia', 'malaysia')\n",
      "('asia', 'israel')\n",
      "('asia', 'united-arab-emirates')\n",
      "('africa', 'senegal')\n",
      "('asia', 'saudi-arabia')\n",
      "('asia', 'kuwait')\n",
      "('asia', 'macao')\n",
      "('asia', 'qatar')\n",
      "('latin_america', 'guyane')\n",
      "('asia', 'hong kong')\n",
      "('asia', 'bahrain')\n",
      "('asia', 'palestine')\n",
      "('asia', 'oman')\n"
     ]
    }
   ],
   "source": [
    "for cnt in list(iso_not_in_geofk):\n",
    "    print(getContinentCountryIso(cnt))"
   ]
  },
  {
   "cell_type": "markdown",
   "id": "0de62ff3",
   "metadata": {},
   "source": [
    "This differences between ISO and OSM is tackled by implementing a `iso_to_geofk_dict` dictionary which is used to transform ISO inputs into codes which can be processed by OSM server. Each ISO country code which is not assessible in OSM directly should be included into the `iso_to_geofk_dict` transformation dictionary otherwise this code would be lost for processing. Let's check how it works."
   ]
  },
  {
   "cell_type": "code",
   "execution_count": 7,
   "id": "1912854e",
   "metadata": {},
   "outputs": [
    {
     "name": "stdout",
     "output_type": "stream",
     "text": [
      "Any ISO codes not resolved by GeoFbk and a transform dictionary?\n",
      "...everithing seems to be allright\n"
     ]
    }
   ],
   "source": [
    "lost_codes = set(iso_to_geofk_dict.keys()) - set(iso_not_in_geofk)\n",
    "    \n",
    "print(\"Any ISO codes not resolved by GeoFbk and a transform dictionary?\")\n",
    "if len(lost_codes) > 0:\n",
    "    print(lost_codes)\n",
    "    for cnt in list(lost_codes):\n",
    "        print(getContinentCountryIso(cnt))\n",
    "else:\n",
    "    print(\"...everithing seems to be allright\")"
   ]
  },
  {
   "cell_type": "markdown",
   "id": "aeb7524b",
   "metadata": {},
   "source": [
    "Look on the macro regions"
   ]
  },
  {
   "cell_type": "code",
   "execution_count": 8,
   "id": "9886d6e9",
   "metadata": {},
   "outputs": [],
   "source": [
    "macro_regions_list = list(dict(**continent_regions).values())\n",
    "# flatten list and keep unique elements only\n",
    "macro_reg_set = set(sum(macro_regions_list, []))"
   ]
  },
  {
   "cell_type": "markdown",
   "id": "9b258bf0",
   "metadata": {},
   "source": [
    "ISO codes not included into the macro regions dictionary:"
   ]
  },
  {
   "cell_type": "code",
   "execution_count": 15,
   "id": "825c64fa",
   "metadata": {},
   "outputs": [
    {
     "name": "stdout",
     "output_type": "stream",
     "text": [
      "167\n",
      "170\n",
      "['GW', 'GY', 'SO']\n"
     ]
    }
   ],
   "source": [
    "print(len(macro_reg_set))\n",
    "print(len(iso_set))\n",
    "\n",
    "print(list(iso_set - macro_reg_set))"
   ]
  },
  {
   "cell_type": "markdown",
   "id": "f14e5497",
   "metadata": {},
   "source": [
    "...which can be translated into a plain language with `getContinentCountryIso()` transformation function:"
   ]
  },
  {
   "cell_type": "code",
   "execution_count": 10,
   "id": "b104cfdf",
   "metadata": {},
   "outputs": [
    {
     "name": "stdout",
     "output_type": "stream",
     "text": [
      "('africa', 'guinea-bissau')\n",
      "('latin_america', 'guyane')\n",
      "('africa', 'somalia')\n"
     ]
    }
   ],
   "source": [
    "for cnt in list(iso_set - macro_reg_set):\n",
    "    print(getContinentCountryIso(cnt))"
   ]
  },
  {
   "cell_type": "code",
   "execution_count": 11,
   "id": "b2032a6f",
   "metadata": {},
   "outputs": [
    {
     "name": "stdout",
     "output_type": "stream",
     "text": [
      "{'SA', 'OC', 'EU', 'AS', 'LA', 'CA', 'AF'}\n",
      "{'OC', 'EU', 'AS'}\n",
      "{'SA', 'OC', 'EU', 'AS'}\n"
     ]
    }
   ],
   "source": [
    "print(set(continents))\n",
    "\n",
    "print(set(continents) - iso_set)\n",
    "print(set(continents) - geofk_set)"
   ]
  },
  {
   "cell_type": "markdown",
   "id": "8f59b959",
   "metadata": {},
   "source": [
    "# Check Availability of OSM data\n",
    "\n",
    "The requested OSM data should exist\n",
    "\n",
    "Now we are interested in OSM data organization \n",
    "`getContinentCountry()` works on `world_geofk` dictionary which corresponds to OSM conventions\n",
    "\n",
    "`build_url()` forms the url on the GeoFabrik server."
   ]
  },
  {
   "cell_type": "code",
   "execution_count": 12,
   "id": "88a5e6e1",
   "metadata": {},
   "outputs": [],
   "source": [
    "def getContinentCountry(code):\n",
    "    for continent in world_geofk:\n",
    "        country = world_geofk[continent].get(code, 0)\n",
    "        if country:\n",
    "            return continent, country\n",
    "    return continent, country\n",
    "\n",
    "def build_url(country_code, update, verify):\n",
    "    continent, country_name = getContinentCountry(country_code)\n",
    "    geofabrik_filename = f\"{country_name}-latest.osm.pbf\"\n",
    "    geofabrik_url = f\"https://download.geofabrik.de/{continent}/{geofabrik_filename}\"\n",
    "    return geofabrik_url\n"
   ]
  },
  {
   "cell_type": "markdown",
   "id": "60dfe5a8",
   "metadata": {},
   "source": [
    "Go trough some locations"
   ]
  },
  {
   "cell_type": "code",
   "execution_count": 13,
   "id": "984f4606",
   "metadata": {
    "scrolled": true
   },
   "outputs": [
    {
     "name": "stdout",
     "output_type": "stream",
     "text": [
      "('africa', 'algeria')\n",
      "https://download.geofabrik.de/africa/algeria-latest.osm.pbf\n",
      "URL 'https://download.geofabrik.de/africa/algeria-latest.osm.pbf' is working\n",
      "('africa', 'angola')\n",
      "https://download.geofabrik.de/africa/angola-latest.osm.pbf\n",
      "URL 'https://download.geofabrik.de/africa/angola-latest.osm.pbf' is working\n"
     ]
    }
   ],
   "source": [
    "problem_urls = []\n",
    "problem_codes = []\n",
    "problem_domain = []\n",
    "\n",
    "# flatten list\n",
    "world_geofk_codes = sum(list_word_geofk_countries, [])\n",
    "\n",
    "for cnt in world_geofk_codes[0:2]:    \n",
    "    print(getContinentCountry(cnt))\n",
    "    url = build_url(country_code=cnt, update=False, verify=False)\n",
    "    print(url)\n",
    "    time.sleep(1)\n",
    "    \n",
    "    with requests.get(url, stream=True, verify=True) as r:\n",
    "        request = requests.head(url)\n",
    "        if r.status_code == 200:\n",
    "            print(\"URL '\" + url + \"' is working\")\n",
    "        else:\n",
    "            problem_urls.append(url)\n",
    "            problem_codes.append(cnt)\n",
    "            problem_domain.append(getContinentCountry(cnt))\n",
    "            \n",
    "            if r.status_code == 429:\n",
    "                print(\"Error code:\" + str(r.status_code) + \" Retry after\" + r.headers[\"Retry-After\"])\n",
    "            else:\n",
    "                print(\"There some troubles with \" + url + \" Error code:\" + str(r.status_code))\n",
    "\n",
    "if len(problem_urls) > 0:              \n",
    "    print(\"There were troubles in reaching following urls:\") \n",
    "    print(problem_urls) \n",
    "    print(\"Country codes to be checked:\")\n",
    "    print(problem_codes) \n",
    "    print(problem_domain)"
   ]
  },
  {
   "cell_type": "markdown",
   "id": "e6048164",
   "metadata": {},
   "source": [
    "# Quick vizualization"
   ]
  },
  {
   "cell_type": "markdown",
   "id": "33ea8008",
   "metadata": {},
   "source": [
    "\n",
    "# Acknowledgments\n",
    "\n",
    "The project relies on the (OpenStreetMap)[https://www.geofabrik.de/] data provided via Geofabrik service. Many thanks to all the service contributors."
   ]
  }
 ],
 "metadata": {
  "kernelspec": {
   "display_name": "Python 3 (ipykernel)",
   "language": "python",
   "name": "python3"
  },
  "language_info": {
   "codemirror_mode": {
    "name": "ipython",
    "version": 3
   },
   "file_extension": ".py",
   "mimetype": "text/x-python",
   "name": "python",
   "nbconvert_exporter": "python",
   "pygments_lexer": "ipython3",
   "version": "3.9.7"
  }
 },
 "nbformat": 4,
 "nbformat_minor": 5
}
