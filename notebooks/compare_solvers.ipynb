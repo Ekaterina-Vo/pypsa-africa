{
 "cells": [
  {
   "cell_type": "markdown",
   "metadata": {},
   "source": [
    "# Solvers comparison\n",
    "\n",
    "This notebook aims at providing a template to perform comparisons in computational time between different solvers.\n",
    "To use this notebook, the user is expected to run the following procedure:\n",
    "1. Setup the config.yaml file for the simulation\n",
    "2. For every solver 'solver' under consideration:\n",
    "   1. Setup the solver option in the config.yaml file \n",
    "   2. Run the workflow with snakemake\n",
    "   3. Rename the folder benchmarks/solve_network into benchmarks/solve_network_{solver}\n",
    "   4. Rename the folder results into results_{solver}\n",
    "3. Modify the list 'solver_to_compare' below to specify the solvers to consider\n",
    "4. Run the notebook"
   ]
  },
  {
   "cell_type": "markdown",
   "metadata": {},
   "source": [
    "## Change the current directory to the main package folder"
   ]
  },
  {
   "cell_type": "code",
   "execution_count": 1,
   "metadata": {},
   "outputs": [
    {
     "name": "stdout",
     "output_type": "stream",
     "text": [
      "This is the repository path:  /data/davidef/git_pma/pypsa-africa\n",
      "Had to go 1 folder(s) up.\n"
     ]
    }
   ],
   "source": [
    "# Specify the current directory\n",
    "import sys\n",
    "\n",
    "sys.path.append(\"../\")  # to import helpers\n",
    "\n",
    "from scripts._helpers import sets_path_to_root\n",
    "\n",
    "sets_path_to_root(\"pypsa-africa\")"
   ]
  },
  {
   "cell_type": "markdown",
   "metadata": {},
   "source": [
    "## Specify the solvers to compare"
   ]
  },
  {
   "cell_type": "code",
   "execution_count": 26,
   "metadata": {},
   "outputs": [],
   "source": [
    "# list of solvers to compare\n",
    "solvers_to_compare = [\"gurobi\", \"highs\"]\n",
    "\n",
    "# list of configurations to compare and their description\n",
    "configs_to_compare = {\n",
    "    \"elec_s_10_ec_lcopt_Co2L-1H\": 10,  # \"10-cluster\",\n",
    "    \"elec_s_20_ec_lcopt_Co2L-1H\": 20,  # \"20-cluster\",\n",
    "    \"elec_s_40_ec_lcopt_Co2L-1H\": 40,  # \"40-cluster\",\n",
    "    \"elec_s_54_ec_lcopt_Co2L-1H\": 54,  # \"54-cluster\",\n",
    "}"
   ]
  },
  {
   "cell_type": "markdown",
   "metadata": {},
   "source": [
    "## Import packages"
   ]
  },
  {
   "cell_type": "code",
   "execution_count": 3,
   "metadata": {},
   "outputs": [
    {
     "name": "stderr",
     "output_type": "stream",
     "text": [
      "<frozen importlib._bootstrap>:228: RuntimeWarning: numpy.ndarray size changed, may indicate binary incompatibility. Expected 16 from C header, got 96 from PyObject\n"
     ]
    }
   ],
   "source": [
    "import pandas as pd\n",
    "import matplotlib.pyplot as plt\n",
    "import pypsa"
   ]
  },
  {
   "cell_type": "markdown",
   "metadata": {},
   "source": [
    "## Compare computational resources\n",
    "### Preload input data"
   ]
  },
  {
   "cell_type": "code",
   "execution_count": 27,
   "metadata": {},
   "outputs": [],
   "source": [
    "comp_time_by_solver = []\n",
    "\n",
    "for solver in solvers_to_compare:\n",
    "    for conf_name, conf_desc in configs_to_compare.items():\n",
    "        tempdata = pd.read_csv(\n",
    "            \"benchmarks/solve_network_\" + solver + \"/\" + conf_name, delimiter=\"\\t\"\n",
    "        )\n",
    "        comp_time_by_solver.append(\n",
    "            [solver, conf_desc, conf_name] + list(tempdata.values[0])\n",
    "        )\n",
    "\n",
    "comp_time_by_solver = pd.DataFrame(\n",
    "    comp_time_by_solver,\n",
    "    columns=[\n",
    "        \"solver\",\n",
    "        \"config\",\n",
    "        \"filename\",\n",
    "        \"s\",\n",
    "        \"h:m:s\",\n",
    "        \"max_rss\",\n",
    "        \"max_vms\",\n",
    "        \"max_uss\",\n",
    "        \"max_pss\",\n",
    "        \"io_in\",\n",
    "        \"io_out\",\n",
    "        \"mean_load\",\n",
    "        \"cpu_time\",\n",
    "    ],\n",
    ")"
   ]
  },
  {
   "cell_type": "markdown",
   "metadata": {},
   "source": [
    "### Total computational time"
   ]
  },
  {
   "cell_type": "code",
   "execution_count": 36,
   "metadata": {},
   "outputs": [
    {
     "data": {
      "text/plain": [
       "Text(0.5, 0, 'Number of clusters')"
      ]
     },
     "execution_count": 36,
     "metadata": {},
     "output_type": "execute_result"
    },
    {
     "data": {
      "image/png": "[encoded data removed]",
      "text/plain": [
       "<Figure size 432x288 with 1 Axes>"
      ]
     },
     "metadata": {
      "needs_background": "light"
     },
     "output_type": "display_data"
    }
   ],
   "source": [
    "for solver in solvers_to_compare:\n",
    "    plt.plot(\n",
    "        configs_to_compare.values(),\n",
    "        comp_time_by_solver.loc[comp_time_by_solver[\"solver\"] == solver, \"s\"] / 3600,\n",
    "        label=solver,\n",
    "    )\n",
    "plt.ylabel(\"Comp. time [h]\")\n",
    "# plt.yscale('log')\n",
    "plt.grid()\n",
    "plt.legend()\n",
    "plt.xlabel(\"Number of clusters\")"
   ]
  },
  {
   "cell_type": "markdown",
   "metadata": {},
   "source": [
    "### Total workload"
   ]
  },
  {
   "cell_type": "code",
   "execution_count": 34,
   "metadata": {},
   "outputs": [
    {
     "data": {
      "text/plain": [
       "Text(0.5, 0, 'Number of clusters')"
      ]
     },
     "execution_count": 34,
     "metadata": {},
     "output_type": "execute_result"
    },
    {
     "data": {
      "image/png": "[encoded data removed]",
      "text/plain": [
       "<Figure size 432x288 with 1 Axes>"
      ]
     },
     "metadata": {
      "needs_background": "light"
     },
     "output_type": "display_data"
    }
   ],
   "source": [
    "for solver in solvers_to_compare:\n",
    "    plt.plot(\n",
    "        configs_to_compare.values(),\n",
    "        comp_time_by_solver.loc[\n",
    "            comp_time_by_solver[\"solver\"] == solver, [\"s\", \"mean_load\"]\n",
    "        ].product(axis=1)\n",
    "        / 3600\n",
    "        / 100,\n",
    "        label=solver,\n",
    "    )\n",
    "plt.ylabel(\"Workload [h * avg load]\")\n",
    "# plt.yscale('log')\n",
    "plt.grid()\n",
    "plt.legend()\n",
    "plt.xlabel(\"Number of clusters\")"
   ]
  },
  {
   "cell_type": "markdown",
   "metadata": {},
   "source": [
    "### Maximum virtual memory"
   ]
  },
  {
   "cell_type": "code",
   "execution_count": 41,
   "metadata": {},
   "outputs": [
    {
     "data": {
      "text/plain": [
       "Text(0.5, 0, 'Number of clusters')"
      ]
     },
     "execution_count": 41,
     "metadata": {},
     "output_type": "execute_result"
    },
    {
     "data": {
      "image/png": "[encoded data removed]",
      "text/plain": [
       "<Figure size 432x288 with 1 Axes>"
      ]
     },
     "metadata": {
      "needs_background": "light"
     },
     "output_type": "display_data"
    }
   ],
   "source": [
    "for solver in solvers_to_compare:\n",
    "    plt.plot(\n",
    "        configs_to_compare.values(),\n",
    "        comp_time_by_solver.loc[comp_time_by_solver[\"solver\"] == solver, \"max_vms\"]\n",
    "        / 1000,\n",
    "        label=solver,\n",
    "    )\n",
    "plt.ylabel(\"Memory [Gb]\")\n",
    "# plt.yscale('log')\n",
    "plt.grid()\n",
    "plt.legend()\n",
    "plt.xlabel(\"Number of clusters\")"
   ]
  }
 ],
 "metadata": {
  "kernelspec": {
   "display_name": "Python 3.9.13 ('pypsa-africa')",
   "language": "python",
   "name": "python3"
  },
  "language_info": {
   "codemirror_mode": {
    "name": "ipython",
    "version": 3
   },
   "file_extension": ".py",
   "mimetype": "text/x-python",
   "name": "python",
   "nbconvert_exporter": "python",
   "pygments_lexer": "ipython3",
   "version": "3.9.13"
  },
  "orig_nbformat": 4,
  "vscode": {
   "interpreter": {
    "hash": "9cf24c4161cf9b5fb33ef9be908bda1439c8658e530339b1167da5d2ed581719"
   }
  }
 },
 "nbformat": 4,
 "nbformat_minor": 2
}
